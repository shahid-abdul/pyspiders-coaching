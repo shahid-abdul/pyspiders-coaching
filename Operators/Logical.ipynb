{
 "cells": [
  {
   "cell_type": "markdown",
   "metadata": {},
   "source": [
    "# Logical Operators"
   ]
  },
  {
   "cell_type": "markdown",
   "metadata": {},
   "source": [
    "- These operators are used to compare two conditions\n",
    "- These operators returns boolean"
   ]
  },
  {
   "cell_type": "markdown",
   "metadata": {},
   "source": [
    "### and operator\n",
    "\n",
    "| Condition1 | Condition2 | Condition1 and Condition2 |\n",
    "|---|---|---|\n",
    "| F | F | F |\n",
    "| F | T | F |\n",
    "| T | F | F |\n",
    "| T | T | T |"
   ]
  },
  {
   "cell_type": "markdown",
   "metadata": {},
   "source": [
    "### or operator\n",
    "\n",
    "| Condition1 | Condition2 | Condition1 or Condition2 |\n",
    "|---|---|---|\n",
    "| F | F | F |\n",
    "| F | T | T |\n",
    "| T | F | T |\n",
    "| T | T | T |\n",
    "\n"
   ]
  },
  {
   "cell_type": "markdown",
   "metadata": {},
   "source": [
    "### not operator\n",
    "\n",
    "| Condition | Result |\n",
    "|---|---|\n",
    "| F | T |\n",
    "| T | F |"
   ]
  },
  {
   "cell_type": "markdown",
   "metadata": {},
   "source": [
    "## Precedence Table in Operators\n",
    "\n",
    "| Operator | Description |\n",
    "|---|---|\n",
    "| `()` | Parentheses |\n",
    "| `**` | Exponentiation |\n",
    "| `~` | Bitwise not |\n",
    "| `*`, `/`, `//`, `%` | Multiplication, division, floor division, modulus |\n",
    "| `+`, `-` | Addition, subtraction |\n",
    "| `<<`, `>>` | Bitwise left shift, bitwise right shift |\n",
    "| `&` | Bitwise AND |\n",
    "| `^` | Bitwise XOR |\n",
    "|  | Bitwise OR |\n",
    "| `<`, `<=`, `>`, `>=`, `==`, `!=` | Comparison operators |\n",
    "| `not` | Logical NOT |\n",
    "| `and` | Logical AND |\n",
    "| `or` | Logical OR |\n",
    "| `=` | assignment operator |"
   ]
  },
  {
   "cell_type": "code",
   "execution_count": 1,
   "metadata": {},
   "outputs": [
    {
     "name": "stdout",
     "output_type": "stream",
     "text": [
      "True\n"
     ]
    }
   ],
   "source": [
    "a,b,c,d = 2,3,7,4\n",
    "\n",
    "print(a!=d or not a**b==c*d and b>=c or not c==d and not d<=c*a or c==a+3 and a+d==c+b)"
   ]
  },
  {
   "cell_type": "code",
   "execution_count": 3,
   "metadata": {},
   "outputs": [
    {
     "name": "stdout",
     "output_type": "stream",
     "text": [
      "10\n"
     ]
    }
   ],
   "source": [
    "x = 10\n",
    "print(-(-x))"
   ]
  },
  {
   "cell_type": "code",
   "execution_count": null,
   "metadata": {},
   "outputs": [],
   "source": []
  }
 ],
 "metadata": {
  "kernelspec": {
   "display_name": "pyspiders_venv",
   "language": "python",
   "name": "python3"
  },
  "language_info": {
   "codemirror_mode": {
    "name": "ipython",
    "version": 3
   },
   "file_extension": ".py",
   "mimetype": "text/x-python",
   "name": "python",
   "nbconvert_exporter": "python",
   "pygments_lexer": "ipython3",
   "version": "3.11.7"
  }
 },
 "nbformat": 4,
 "nbformat_minor": 2
}
