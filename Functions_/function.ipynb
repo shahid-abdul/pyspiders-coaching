{
 "cells": [
  {
   "cell_type": "markdown",
   "metadata": {},
   "source": [
    "# BUILT IN FUNCTION"
   ]
  },
  {
   "cell_type": "code",
   "execution_count": 14,
   "metadata": {},
   "outputs": [
    {
     "name": "stdout",
     "output_type": "stream",
     "text": [
      "<class 'builtin_function_or_method'>\n"
     ]
    }
   ],
   "source": [
    "print(type(print))"
   ]
  },
  {
   "cell_type": "code",
   "execution_count": 4,
   "metadata": {},
   "outputs": [
    {
     "name": "stdout",
     "output_type": "stream",
     "text": [
      "331\n",
      "1\n"
     ]
    }
   ],
   "source": [
    "print(max(1,2,3,31,331,42))\n",
    "print(min(1,2,41,2321,11))"
   ]
  },
  {
   "cell_type": "code",
   "execution_count": 7,
   "metadata": {},
   "outputs": [],
   "source": [
    "l1 = [1,2,3,4,5,6,7,8,9]"
   ]
  },
  {
   "cell_type": "code",
   "execution_count": 8,
   "metadata": {},
   "outputs": [
    {
     "name": "stdout",
     "output_type": "stream",
     "text": [
      "9\n",
      "1\n"
     ]
    }
   ],
   "source": [
    "print(max(l1))\n",
    "print(min(l1))"
   ]
  },
  {
   "cell_type": "code",
   "execution_count": 10,
   "metadata": {},
   "outputs": [
    {
     "name": "stdout",
     "output_type": "stream",
     "text": [
      "45\n",
      "46\n"
     ]
    }
   ],
   "source": [
    "print(sum(l1))\n",
    "print(sum(l1,start=1))"
   ]
  },
  {
   "cell_type": "code",
   "execution_count": 11,
   "metadata": {},
   "outputs": [
    {
     "name": "stdout",
     "output_type": "stream",
     "text": [
      "0b1010\n"
     ]
    }
   ],
   "source": [
    "print(bin(10))"
   ]
  },
  {
   "cell_type": "code",
   "execution_count": 12,
   "metadata": {},
   "outputs": [
    {
     "name": "stdout",
     "output_type": "stream",
     "text": [
      "0o12\n"
     ]
    }
   ],
   "source": [
    "print(oct(10))"
   ]
  },
  {
   "cell_type": "code",
   "execution_count": 13,
   "metadata": {},
   "outputs": [
    {
     "name": "stdout",
     "output_type": "stream",
     "text": [
      "0xa\n"
     ]
    }
   ],
   "source": [
    "print(hex(10))"
   ]
  },
  {
   "cell_type": "markdown",
   "metadata": {},
   "source": [
    "# USER DEFINED FUNCTION"
   ]
  },
  {
   "cell_type": "code",
   "execution_count": 17,
   "metadata": {},
   "outputs": [
    {
     "name": "stdout",
     "output_type": "stream",
     "text": [
      "adding two numbers using functions\n",
      "5\n",
      "30\n"
     ]
    }
   ],
   "source": [
    "# defining a functions\n",
    "def add(a,b):\n",
    "    print(a+b)\n",
    "\n",
    "print(\"adding two numbers using functions\")\n",
    "add(2,3)\n",
    "add(10,20)"
   ]
  },
  {
   "cell_type": "markdown",
   "metadata": {},
   "source": [
    "### 1. Function without return and without argument"
   ]
  },
  {
   "cell_type": "code",
   "execution_count": 18,
   "metadata": {},
   "outputs": [
    {
     "name": "stdout",
     "output_type": "stream",
     "text": [
      "3\n"
     ]
    }
   ],
   "source": [
    "def add_two_numbers():\n",
    "    a = int(input(\"a: \"))\n",
    "    b = int(input(\"b: \"))\n",
    "    print(a+b)\n",
    "\n",
    "add_two_numbers()"
   ]
  },
  {
   "cell_type": "markdown",
   "metadata": {},
   "source": [
    "### 2. Function without return type with argument"
   ]
  },
  {
   "cell_type": "code",
   "execution_count": 20,
   "metadata": {},
   "outputs": [
    {
     "name": "stdout",
     "output_type": "stream",
     "text": [
      "8\n",
      "6\n"
     ]
    }
   ],
   "source": [
    "def mul_numbers(a,b):\n",
    "    print(a*b)\n",
    "\n",
    "mul_numbers(2,4)\n",
    "mul_numbers(int(input('a: ')), int(input('b: ')))"
   ]
  },
  {
   "cell_type": "markdown",
   "metadata": {},
   "source": [
    "### 3. Function with return type without argument"
   ]
  },
  {
   "cell_type": "code",
   "execution_count": 21,
   "metadata": {},
   "outputs": [
    {
     "name": "stdout",
     "output_type": "stream",
     "text": [
      "Addition of two numbers is: \n"
     ]
    },
    {
     "data": {
      "text/plain": [
       "6"
      ]
     },
     "execution_count": 21,
     "metadata": {},
     "output_type": "execute_result"
    }
   ],
   "source": [
    "def numbers():\n",
    "    a = int(input('a: '))\n",
    "    b = int(input('b: '))\n",
    "    return a+b\n",
    "\n",
    "print(\"Addition of two numbers is: \")\n",
    "numbers()"
   ]
  },
  {
   "cell_type": "markdown",
   "metadata": {},
   "source": [
    "### 4. Function with return type and with argument"
   ]
  },
  {
   "cell_type": "code",
   "execution_count": 22,
   "metadata": {},
   "outputs": [
    {
     "name": "stdout",
     "output_type": "stream",
     "text": [
      "Addition of two numbers is: \n"
     ]
    },
    {
     "data": {
      "text/plain": [
       "30"
      ]
     },
     "execution_count": 22,
     "metadata": {},
     "output_type": "execute_result"
    }
   ],
   "source": [
    "def numbers(a,b):\n",
    "    return a+b\n",
    "\n",
    "print(\"Addition of two numbers is: \")\n",
    "numbers(10,20)"
   ]
  },
  {
   "cell_type": "code",
   "execution_count": null,
   "metadata": {},
   "outputs": [],
   "source": []
  },
  {
   "cell_type": "code",
   "execution_count": 27,
   "metadata": {},
   "outputs": [
    {
     "name": "stdout",
     "output_type": "stream",
     "text": [
      "10 is even\n"
     ]
    }
   ],
   "source": [
    "# Write a function which accepts a parameter and return a string, if the given value is a even number or odd number:\n",
    "\n",
    "def check_number(num):\n",
    "    if num %2 == 0:\n",
    "        return f'{num} is even'\n",
    "    else:\n",
    "        return f'{num} is odd'\n",
    "    \n",
    "num = int(input(\"Enter a value: \"))\n",
    "print(check_number(num))"
   ]
  },
  {
   "cell_type": "code",
   "execution_count": 32,
   "metadata": {},
   "outputs": [
    {
     "name": "stdout",
     "output_type": "stream",
     "text": [
      "[51, 53, 55, 57, 59, 61, 63, 65, 67, 69, 71, 73, 75, 77, 79, 81, 83, 85, 87, 89, 91, 93, 95, 97, 99] "
     ]
    }
   ],
   "source": [
    "# WAT to write a function which accepts string as a parameter and return a list of values if\n",
    "# length of a string is even return list of even numbers from 1 to 50, if length of string is\n",
    "# odd return list of odd numbers from 51 to 100\n",
    "\n",
    "def string_length(s):\n",
    "    if len(s) %2 == 0:\n",
    "        return  [i for i in range(1,51) if i %2 == 0]\n",
    "    else: \n",
    "        return [i for i in range(51,100) if i%2 != 0]\n",
    "\n",
    "s = input(\"Enter a string: \")\n",
    "print(string_length(s),end=\" \")"
   ]
  },
  {
   "cell_type": "code",
   "execution_count": 34,
   "metadata": {},
   "outputs": [
    {
     "name": "stdout",
     "output_type": "stream",
     "text": [
      "outer function started..\n",
      "Outer function ended..\n",
      "Inner function 1\n",
      "Inner function 2\n"
     ]
    }
   ],
   "source": [
    "# nested function\n",
    "\n",
    "def outer_fun():\n",
    "    print(\"outer function started..\")\n",
    "    \n",
    "    def inner_fun1():\n",
    "        print(\"Inner function 1\")\n",
    "    def inner_fun2():\n",
    "        print(\"Inner function 2\")\n",
    "    \n",
    "    inner_fun1()\n",
    "    inner_fun2()\n",
    "    print(\"Outer function ended..\")\n",
    "outer_fun()"
   ]
  },
  {
   "cell_type": "markdown",
   "metadata": {},
   "source": [
    "# MISCELLANEOUS FUNCTION"
   ]
  },
  {
   "cell_type": "code",
   "execution_count": 35,
   "metadata": {},
   "outputs": [
    {
     "name": "stdout",
     "output_type": "stream",
     "text": [
      "Abdul is a good boy\n"
     ]
    }
   ],
   "source": [
    "def function():\n",
    "    print(\"Abdul is a good boy\")\n",
    "\n",
    "new = function\n",
    "new()"
   ]
  },
  {
   "cell_type": "markdown",
   "metadata": {},
   "source": [
    "## Types of Arguments"
   ]
  },
  {
   "cell_type": "markdown",
   "metadata": {},
   "source": [
    "### 1. Positional Argument"
   ]
  },
  {
   "cell_type": "code",
   "execution_count": 38,
   "metadata": {},
   "outputs": [
    {
     "name": "stdout",
     "output_type": "stream",
     "text": [
      "10 20\n"
     ]
    }
   ],
   "source": [
    "def fun(a,b):\n",
    "    print(a,b)\n",
    "fun(10,20)"
   ]
  },
  {
   "cell_type": "markdown",
   "metadata": {},
   "source": [
    "### 2. Default Argument"
   ]
  },
  {
   "cell_type": "code",
   "execution_count": 37,
   "metadata": {},
   "outputs": [
    {
     "name": "stdout",
     "output_type": "stream",
     "text": [
      "10 20\n",
      "10 0\n"
     ]
    }
   ],
   "source": [
    "def fun(a,b=0):\n",
    "    print(a,b)\n",
    "fun(10,20)\n",
    "fun(10)"
   ]
  },
  {
   "cell_type": "markdown",
   "metadata": {},
   "source": [
    "### 3. Keyword Argument"
   ]
  },
  {
   "cell_type": "code",
   "execution_count": 41,
   "metadata": {},
   "outputs": [
    {
     "name": "stdout",
     "output_type": "stream",
     "text": [
      "30 10 20\n",
      "10 30 20\n"
     ]
    }
   ],
   "source": [
    "def fun(a,b,c):\n",
    "    print(a,b,c)\n",
    "\n",
    "fun(c=20,a=30,b=10)\n",
    "fun(10,c=20,b=30)"
   ]
  },
  {
   "cell_type": "code",
   "execution_count": 43,
   "metadata": {},
   "outputs": [],
   "source": [
    "# fun(a=10,b=20,30) #SyntaxError: positional argument follows keyword argument"
   ]
  },
  {
   "cell_type": "markdown",
   "metadata": {},
   "source": [
    "### 4. Arbitrary Variable Argument"
   ]
  },
  {
   "cell_type": "code",
   "execution_count": 44,
   "metadata": {},
   "outputs": [
    {
     "name": "stdout",
     "output_type": "stream",
     "text": [
      "(1, 2, 3, 4, 5, 6, 'abdul', 'shahid') <class 'tuple'>\n"
     ]
    }
   ],
   "source": [
    "def fun(*arg):\n",
    "    print(arg,type(arg))\n",
    "\n",
    "fun(1,2,3,4,5,6,'abdul','shahid')"
   ]
  },
  {
   "cell_type": "markdown",
   "metadata": {},
   "source": [
    "### 5. Arbitrary Keyword Argument"
   ]
  },
  {
   "cell_type": "code",
   "execution_count": 45,
   "metadata": {},
   "outputs": [
    {
     "name": "stdout",
     "output_type": "stream",
     "text": [
      "{'a': 1, 'b': 2, 'c': 3} <class 'dict'>\n"
     ]
    }
   ],
   "source": [
    "def fun(**arg):\n",
    "    print(arg,type(arg))\n",
    "\n",
    "fun(a=1,b=2,c=3)"
   ]
  },
  {
   "cell_type": "code",
   "execution_count": 46,
   "metadata": {},
   "outputs": [
    {
     "name": "stdout",
     "output_type": "stream",
     "text": [
      "{'name': 'Abdul', 'Age': 20}\n"
     ]
    }
   ],
   "source": [
    "def fun(**arg):\n",
    "    print(arg)\n",
    "\n",
    "fun(name='Abdul',Age=20)"
   ]
  },
  {
   "cell_type": "code",
   "execution_count": 50,
   "metadata": {},
   "outputs": [
    {
     "name": "stdout",
     "output_type": "stream",
     "text": [
      "10\n",
      "20\n",
      "30\n",
      "(40, 50, 60)\n",
      "{'val1': 70, 'val2': 80, 'val3': 90}\n"
     ]
    }
   ],
   "source": [
    "def fun(a,b,c=0,*arg1,**arg2):\n",
    "    print(a,b,c,arg1,arg2,sep='\\n')\n",
    "\n",
    "fun(10,20,30,40,50,60,val1=70,val2=80,val3=90)"
   ]
  },
  {
   "cell_type": "code",
   "execution_count": 53,
   "metadata": {},
   "outputs": [
    {
     "name": "stdout",
     "output_type": "stream",
     "text": [
      "10 20\n"
     ]
    }
   ],
   "source": [
    "# positional only argument\n",
    "\n",
    "def fun(a,b,/):\n",
    "    print(a,b)\n",
    "\n",
    "fun(10,20)\n",
    "# fun(b=10,a=20) TypeError: fun() got some positional-only arguments passed as keyword arguments: 'a, b'"
   ]
  },
  {
   "cell_type": "code",
   "execution_count": 56,
   "metadata": {},
   "outputs": [
    {
     "name": "stdout",
     "output_type": "stream",
     "text": [
      "10 20\n"
     ]
    }
   ],
   "source": [
    "# keyword only argument\n",
    "\n",
    "def fun(*,a,b):\n",
    "    print(a,b)\n",
    "\n",
    "# fun(10,20) TypeError: fun() got some positional-only arguments passed as keyword arguments: 'a, b'\n",
    "fun(b=20,a=10)"
   ]
  },
  {
   "cell_type": "code",
   "execution_count": null,
   "metadata": {},
   "outputs": [],
   "source": []
  },
  {
   "cell_type": "code",
   "execution_count": 57,
   "metadata": {},
   "outputs": [
    {
     "name": "stdout",
     "output_type": "stream",
     "text": [
      "(1, 2, 3, 4, 5, 6)\n",
      "{1, 2, 3, 4, 5, 6}\n",
      "[1, 2, 3, 4, 5, 6]\n"
     ]
    }
   ],
   "source": [
    "l1 = [1,2,3,4,5,6]\n",
    "\n",
    "t1 = tuple(l1)\n",
    "s1 = set(l1)\n",
    "s = str(l1)\n",
    "\n",
    "print(t1,s1,s,sep='\\n')"
   ]
  },
  {
   "cell_type": "code",
   "execution_count": 58,
   "metadata": {},
   "outputs": [
    {
     "name": "stdout",
     "output_type": "stream",
     "text": [
      "['S', 'h', 'a', 'h', 'i', 'd']\n"
     ]
    }
   ],
   "source": [
    "name = 'Shahid'\n",
    "l1 = list(name)\n",
    "print(l1)"
   ]
  },
  {
   "cell_type": "code",
   "execution_count": null,
   "metadata": {},
   "outputs": [],
   "source": []
  }
 ],
 "metadata": {
  "kernelspec": {
   "display_name": "pyspiders_venv",
   "language": "python",
   "name": "python3"
  },
  "language_info": {
   "codemirror_mode": {
    "name": "ipython",
    "version": 3
   },
   "file_extension": ".py",
   "mimetype": "text/x-python",
   "name": "python",
   "nbconvert_exporter": "python",
   "pygments_lexer": "ipython3",
   "version": "3.11.7"
  }
 },
 "nbformat": 4,
 "nbformat_minor": 2
}
