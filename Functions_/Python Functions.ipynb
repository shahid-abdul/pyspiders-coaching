{
 "cells": [
  {
   "attachments": {},
   "cell_type": "markdown",
   "metadata": {},
   "source": [
    "# Python Functions\n",
    "\n",
    "# user defined functions"
   ]
  },
  {
   "cell_type": "code",
   "execution_count": null,
   "metadata": {},
   "outputs": [],
   "source": [
    "def message1():    # fun def \n",
    "    print (\"Hello Functions !\")"
   ]
  },
  {
   "cell_type": "code",
   "execution_count": null,
   "metadata": {},
   "outputs": [],
   "source": [
    "message1()  # function call\n",
    "\n",
    "print(\"after fun\")"
   ]
  },
  {
   "cell_type": "markdown",
   "metadata": {},
   "source": [
    "### functio def"
   ]
  },
  {
   "cell_type": "code",
   "execution_count": null,
   "metadata": {},
   "outputs": [],
   "source": [
    "def msg1(s,i,f):  \n",
    "    print (s,i,f)   "
   ]
  },
  {
   "cell_type": "markdown",
   "metadata": {},
   "source": [
    "### fun calling"
   ]
  },
  {
   "cell_type": "code",
   "execution_count": null,
   "metadata": {},
   "outputs": [],
   "source": [
    "msg1('str',100,1000.50)\n",
    "\n",
    "print(\"end of fun call\")"
   ]
  },
  {
   "cell_type": "code",
   "execution_count": null,
   "metadata": {},
   "outputs": [],
   "source": [
    "# addition of two numbers"
   ]
  },
  {
   "cell_type": "code",
   "execution_count": null,
   "metadata": {},
   "outputs": [],
   "source": [
    "def sum(x,y):   # fun def # x 10 y 20\n",
    "    s=x+y  \n",
    "    print (\"Sum is inside function\" ,s)\n",
    "\n",
    "sum(10,20)  # fun call"
   ]
  },
  {
   "cell_type": "code",
   "execution_count": null,
   "metadata": {},
   "outputs": [],
   "source": [
    "def sum(a,b):  \n",
    "    s=a+b  \n",
    "    return s\n",
    "\n",
    "a,b=10,20\n",
    "total=sum(a,b)  \n",
    "print (\"Sum is outside function\", total)"
   ]
  },
  {
   "cell_type": "code",
   "execution_count": null,
   "metadata": {},
   "outputs": [],
   "source": [
    "# function for biggest of two numbers"
   ]
  },
  {
   "cell_type": "code",
   "execution_count": null,
   "metadata": {},
   "outputs": [],
   "source": [
    "def max_2( x, y ):\n",
    "    if x > y:\n",
    "        return x\n",
    "    else :\n",
    "        return y\n",
    "\n",
    "a,b=20,10\n",
    "\n",
    "res = max_2(a,b)\n",
    "print(res)"
   ]
  },
  {
   "cell_type": "code",
   "execution_count": null,
   "metadata": {},
   "outputs": [],
   "source": [
    "# Function for prime no"
   ]
  },
  {
   "cell_type": "code",
   "execution_count": null,
   "metadata": {},
   "outputs": [],
   "source": [
    "def prime(num):\n",
    "    n=1\n",
    "    count=0\n",
    "    while (n<=num):\n",
    "        if((num%n)==0):\n",
    "            count=count+1\n",
    "        n=n+1\n",
    "    if(count==2):\n",
    "        return (\"Prime\")\n",
    "    else:\n",
    "        return (\"not a prime\")\n",
    "n = int(input(\"enter a no\"))\n",
    "res = prime(n)\n",
    "print(res)"
   ]
  },
  {
   "cell_type": "code",
   "execution_count": null,
   "metadata": {},
   "outputs": [],
   "source": [
    "# Function for factorial"
   ]
  },
  {
   "cell_type": "code",
   "execution_count": null,
   "metadata": {},
   "outputs": [],
   "source": [
    "def factorial(num):\n",
    "    n=1\n",
    "    while num>0:\n",
    "        n=n*num\n",
    "        num=num-1\n",
    "    return n\n",
    "\n",
    "number = 6\n",
    "res=factorial(number)\n",
    "print(res)"
   ]
  },
  {
   "cell_type": "markdown",
   "metadata": {},
   "source": [
    "### Variable scopes"
   ]
  },
  {
   "cell_type": "code",
   "execution_count": null,
   "metadata": {},
   "outputs": [],
   "source": [
    "# If we create a variable with in a function , that is local to the fun\n",
    "\n",
    "# out side of fun we cannot access\n",
    "print('-----local var---------')\n",
    "\n",
    "def message():  \n",
    "    a1=10  \n",
    "    print (\"Value of a is\",a1) \n",
    "\n",
    "message()  \n",
    "\n",
    "print('end')\n",
    "#print (a1) "
   ]
  },
  {
   "cell_type": "code",
   "execution_count": 2,
   "metadata": {},
   "outputs": [
    {
     "name": "stdout",
     "output_type": "stream",
     "text": [
      "-----global var---------\n",
      "Value of a is 10\n",
      "Value of b is 120\n",
      "120\n"
     ]
    }
   ],
   "source": [
    "print('-----global var---------')\n",
    "# if we declare a var outside of fun is called as global\n",
    "# global var can be accessed with in a fun and outside of fun\n",
    "\n",
    "b=20  \n",
    "def message():  \n",
    "    a1=10 \n",
    "    global b\n",
    "    b =  b + 100\n",
    "    print (\"Value of a is\",a1)\n",
    "    print (\"Value of b is\",b)\n",
    "    \n",
    "message()  \n",
    "#print (a1)\n",
    "print (b)"
   ]
  },
  {
   "cell_type": "code",
   "execution_count": null,
   "metadata": {},
   "outputs": [],
   "source": [
    "# Scopes as per LEGB rule"
   ]
  },
  {
   "cell_type": "code",
   "execution_count": 3,
   "metadata": {},
   "outputs": [
    {
     "name": "stdout",
     "output_type": "stream",
     "text": [
      "Enclosing var1  100 in inner fun\n",
      "Local var 2 60 in outer fun\n",
      "Global var 5 in global\n"
     ]
    }
   ],
   "source": [
    "test_var = 5  # global\n",
    "\n",
    "def outer_function():\n",
    "    \n",
    "    test_var = 60 # local\n",
    "    \n",
    "    def inner_function():\n",
    "        \n",
    "        test_var = 100 # enclosing\n",
    "        print(f\"Enclosing var1  {test_var} in inner fun\")\n",
    "        \n",
    "    inner_function()\n",
    "    print(f\"Local var 2 {test_var} in outer fun\")\n",
    "\n",
    "outer_function() # fun call \n",
    "print(f\"Global var {test_var} in global\")"
   ]
  },
  {
   "cell_type": "code",
   "execution_count": 4,
   "metadata": {},
   "outputs": [
    {
     "name": "stdout",
     "output_type": "stream",
     "text": [
      "Enclosing var 100 in inner fun\n",
      "Local var 60 in outer fun\n",
      "Local var 60 in outer fun\n",
      "Global var 5 in global\n"
     ]
    }
   ],
   "source": [
    "test_var1 = 5\n",
    "\n",
    "def outer_function():\n",
    "    \n",
    "    test_var2 = 60\n",
    "    \n",
    "    def inner_function():\n",
    "        test_var3 = 100\n",
    "        \n",
    "        print(f\"Enclosing var {test_var3} in inner fun\")\n",
    "        print(f\"Local var {test_var2} in outer fun\")\n",
    "    inner_function()\n",
    "    print(f\"Local var {test_var2} in outer fun\")\n",
    "\n",
    "outer_function()\n",
    "\n",
    "print(f\"Global var {test_var1} in global\")"
   ]
  },
  {
   "cell_type": "markdown",
   "metadata": {},
   "source": [
    "### Function arguments"
   ]
  },
  {
   "cell_type": "markdown",
   "metadata": {},
   "source": [
    "### Default args\n",
    "\n",
    "1. Default args has to be decl from right to left in fun def\n",
    "2. Unless the right arg is default we can not make other args default\n",
    "3. How to make a var as default , assigning a value to a var \n",
    "4. We will call the def with no suffficient args"
   ]
  },
  {
   "cell_type": "code",
   "execution_count": 8,
   "metadata": {},
   "outputs": [
    {
     "name": "stdout",
     "output_type": "stream",
     "text": [
      "--------default args---------\n"
     ]
    }
   ],
   "source": [
    "print('--------default args---------')\n",
    "def msg(no,Name=\"Rani\",Age=21):  \n",
    "         print (no,Name,Age) "
   ]
  },
  {
   "cell_type": "code",
   "execution_count": 9,
   "metadata": {},
   "outputs": [
    {
     "name": "stdout",
     "output_type": "stream",
     "text": [
      "100 Ravi 20\n"
     ]
    }
   ],
   "source": [
    "msg(no=100,Name='Ravi',Age=20)  "
   ]
  },
  {
   "cell_type": "code",
   "execution_count": 10,
   "metadata": {},
   "outputs": [
    {
     "name": "stdout",
     "output_type": "stream",
     "text": [
      "103 Raju 21\n"
     ]
    }
   ],
   "source": [
    "msg(no=103, Name=\"Raju\")"
   ]
  },
  {
   "cell_type": "code",
   "execution_count": 11,
   "metadata": {},
   "outputs": [
    {
     "name": "stdout",
     "output_type": "stream",
     "text": [
      "102 Rani 21\n"
     ]
    }
   ],
   "source": [
    "msg(no=102)"
   ]
  },
  {
   "cell_type": "code",
   "execution_count": null,
   "metadata": {},
   "outputs": [],
   "source": [
    "#msg(no)"
   ]
  },
  {
   "cell_type": "code",
   "execution_count": null,
   "metadata": {},
   "outputs": [],
   "source": [
    "def raise_power(number, power = 2):\n",
    "    return number ** power\n",
    "\n",
    "print(raise_power(9))\n",
    "\n",
    "print(raise_power(2, 3))"
   ]
  },
  {
   "cell_type": "markdown",
   "metadata": {},
   "source": [
    "## Keyword args"
   ]
  },
  {
   "cell_type": "code",
   "execution_count": 12,
   "metadata": {},
   "outputs": [
    {
     "name": "stdout",
     "output_type": "stream",
     "text": [
      "--------keyword args---------\n"
     ]
    }
   ],
   "source": [
    "print('--------keyword args---------')\n",
    "def msg(id,name):  \n",
    "            print (id)\n",
    "            print (name)  \n",
    "            return  \n"
   ]
  },
  {
   "cell_type": "code",
   "execution_count": 13,
   "metadata": {},
   "outputs": [
    {
     "name": "stdout",
     "output_type": "stream",
     "text": [
      "100\n",
      "Raj\n"
     ]
    }
   ],
   "source": [
    "msg(id=100,name='Raj')  "
   ]
  },
  {
   "cell_type": "code",
   "execution_count": 14,
   "metadata": {},
   "outputs": [
    {
     "name": "stdout",
     "output_type": "stream",
     "text": [
      "101\n",
      "Rahul\n"
     ]
    }
   ],
   "source": [
    "msg(name='Rahul',id=101)  "
   ]
  },
  {
   "cell_type": "markdown",
   "metadata": {},
   "source": [
    "## Positional args"
   ]
  },
  {
   "cell_type": "code",
   "execution_count": 5,
   "metadata": {},
   "outputs": [
    {
     "name": "stdout",
     "output_type": "stream",
     "text": [
      "30\n"
     ]
    }
   ],
   "source": [
    "def sum(a,b):  \n",
    "        c=a+b  \n",
    "        print (c)  \n",
    "        \n",
    "sum(10,20)  "
   ]
  },
  {
   "cell_type": "code",
   "execution_count": 6,
   "metadata": {},
   "outputs": [
    {
     "ename": "TypeError",
     "evalue": "sum() missing 1 required positional argument: 'b'",
     "output_type": "error",
     "traceback": [
      "\u001b[1;31m---------------------------------------------------------------------------\u001b[0m",
      "\u001b[1;31mTypeError\u001b[0m                                 Traceback (most recent call last)",
      "Cell \u001b[1;32mIn[6], line 1\u001b[0m\n\u001b[1;32m----> 1\u001b[0m \u001b[38;5;28msum\u001b[39m(\u001b[38;5;241m30\u001b[39m)\n",
      "\u001b[1;31mTypeError\u001b[0m: sum() missing 1 required positional argument: 'b'"
     ]
    }
   ],
   "source": [
    "sum(30) "
   ]
  },
  {
   "cell_type": "code",
   "execution_count": 7,
   "metadata": {},
   "outputs": [
    {
     "ename": "TypeError",
     "evalue": "sum() takes 2 positional arguments but 3 were given",
     "output_type": "error",
     "traceback": [
      "\u001b[1;31m---------------------------------------------------------------------------\u001b[0m",
      "\u001b[1;31mTypeError\u001b[0m                                 Traceback (most recent call last)",
      "Cell \u001b[1;32mIn[7], line 1\u001b[0m\n\u001b[1;32m----> 1\u001b[0m \u001b[38;5;28msum\u001b[39m(\u001b[38;5;241m30\u001b[39m,\u001b[38;5;241m10\u001b[39m,\u001b[38;5;241m20\u001b[39m)\n",
      "\u001b[1;31mTypeError\u001b[0m: sum() takes 2 positional arguments but 3 were given"
     ]
    }
   ],
   "source": [
    "sum(30,10,20) "
   ]
  },
  {
   "cell_type": "markdown",
   "metadata": {},
   "source": [
    "# Flexible args 1"
   ]
  },
  {
   "cell_type": "code",
   "execution_count": 16,
   "metadata": {},
   "outputs": [],
   "source": [
    "def add(*num):\n",
    "    sum = 0\n",
    "    for n in num:\n",
    "        sum = sum + n\n",
    "    print(\"Sum:\",sum)"
   ]
  },
  {
   "cell_type": "code",
   "execution_count": 17,
   "metadata": {},
   "outputs": [
    {
     "name": "stdout",
     "output_type": "stream",
     "text": [
      "Sum: 10\n"
     ]
    }
   ],
   "source": [
    "add(10)"
   ]
  },
  {
   "cell_type": "code",
   "execution_count": 20,
   "metadata": {},
   "outputs": [
    {
     "name": "stdout",
     "output_type": "stream",
     "text": [
      "Sum: 0\n"
     ]
    }
   ],
   "source": [
    "add()"
   ]
  },
  {
   "cell_type": "code",
   "execution_count": 18,
   "metadata": {},
   "outputs": [
    {
     "name": "stdout",
     "output_type": "stream",
     "text": [
      "Sum: 30.5\n"
     ]
    }
   ],
   "source": [
    "add(10,20.5)"
   ]
  },
  {
   "cell_type": "code",
   "execution_count": 19,
   "metadata": {},
   "outputs": [
    {
     "name": "stdout",
     "output_type": "stream",
     "text": [
      "Sum: 60\n"
     ]
    }
   ],
   "source": [
    "add(10,20,30)"
   ]
  },
  {
   "cell_type": "markdown",
   "metadata": {},
   "source": [
    "### Flexible args 2"
   ]
  },
  {
   "cell_type": "code",
   "execution_count": 21,
   "metadata": {},
   "outputs": [
    {
     "name": "stdout",
     "output_type": "stream",
     "text": [
      "<class 'dict'>\n",
      "{'age': 25, 'position': 'Data Scientist'}\n",
      "<class 'dict'>\n",
      "{'name': 'abc software', 'email': 'support@abc.com', 'position': 'ML Engineer'}\n"
     ]
    }
   ],
   "source": [
    "def kwargs_example(**kwargs):\n",
    "    print(type(kwargs))\n",
    "    print(kwargs)\n",
    "\n",
    "kwargs_example(age = 25, position = \"Data Scientist\")\n",
    "\n",
    "kwargs_example(name = \"abc software\", email = \"support@abc.com\", position = \"ML Engineer\")"
   ]
  },
  {
   "cell_type": "code",
   "execution_count": null,
   "metadata": {},
   "outputs": [],
   "source": [
    "# Build in funs"
   ]
  },
  {
   "cell_type": "code",
   "execution_count": null,
   "metadata": {},
   "outputs": [],
   "source": [
    "print(abs(-3))\n",
    "print(min(1, 2, 3, 4, 5))\n",
    "print(max(4, 5, 6, 7, 8))\n",
    "print(pow(3, 2))\n",
    "print(len(\"abc engineers\"))"
   ]
  },
  {
   "cell_type": "markdown",
   "metadata": {},
   "source": [
    "## Funs from preinstalled libraries"
   ]
  },
  {
   "cell_type": "code",
   "execution_count": 22,
   "metadata": {},
   "outputs": [
    {
     "name": "stdout",
     "output_type": "stream",
     "text": [
      "6\n",
      "2.0\n",
      "3.141592653589793\n",
      "0.5403023058681398\n",
      "720\n",
      "8.0\n"
     ]
    }
   ],
   "source": [
    "import math\n",
    "print(math.ceil(5.3))\n",
    "print(math.sqrt(4))\n",
    "print(math.pi)\n",
    "print(math.cos(1))\n",
    "print(math.factorial(6))\n",
    "print(math.pow(2, 3))"
   ]
  },
  {
   "cell_type": "code",
   "execution_count": 23,
   "metadata": {},
   "outputs": [
    {
     "name": "stdout",
     "output_type": "stream",
     "text": [
      "2.0\n",
      "720\n"
     ]
    }
   ],
   "source": [
    "from math import sqrt,factorial\n",
    "print(sqrt(4))\n",
    "print(factorial(6))"
   ]
  },
  {
   "cell_type": "code",
   "execution_count": 24,
   "metadata": {},
   "outputs": [
    {
     "name": "stdout",
     "output_type": "stream",
     "text": [
      "0.725435031879953\n",
      "8\n"
     ]
    }
   ],
   "source": [
    "import random\n",
    "print(random.random())\n",
    "print(random.randint(5,10))"
   ]
  },
  {
   "cell_type": "markdown",
   "metadata": {},
   "source": [
    "### Recursive funs\n",
    "1. a fun call it self\n",
    "2. until a condition satisfy"
   ]
  },
  {
   "cell_type": "code",
   "execution_count": 25,
   "metadata": {},
   "outputs": [
    {
     "name": "stdout",
     "output_type": "stream",
     "text": [
      "3\n",
      "2\n",
      "1\n",
      "rec funs!\n",
      "after\n"
     ]
    }
   ],
   "source": [
    "def rec_cout(n):\n",
    "    if n <= 0:\n",
    "        print('rec funs!')\n",
    "    else:\n",
    "        print(n)\n",
    "        rec_cout(n-1)\n",
    "\n",
    "rec_cout(3)\n",
    "\n",
    "print(\"after\")"
   ]
  },
  {
   "cell_type": "code",
   "execution_count": null,
   "metadata": {},
   "outputs": [],
   "source": [
    "def print_n(s, n):\n",
    "    if n <= 0:\n",
    "        return\n",
    "    print(s)\n",
    "    print_n(s, n-1)\n",
    "    \n",
    "print_n(\"functions\",3)"
   ]
  },
  {
   "cell_type": "code",
   "execution_count": 26,
   "metadata": {},
   "outputs": [
    {
     "data": {
      "text/plain": [
       "120"
      ]
     },
     "execution_count": 26,
     "metadata": {},
     "output_type": "execute_result"
    }
   ],
   "source": [
    "def factorial_recursive(n):\n",
    "    if n == 1:\n",
    "        return 1\n",
    "    else:\n",
    "        return n * factorial_recursive(n-1)\n",
    "factorial_recursive(5)"
   ]
  },
  {
   "cell_type": "markdown",
   "metadata": {},
   "source": [
    "### Lambda Funs"
   ]
  },
  {
   "cell_type": "code",
   "execution_count": 27,
   "metadata": {},
   "outputs": [
    {
     "name": "stdout",
     "output_type": "stream",
     "text": [
      "10\n",
      "10.0\n",
      "15\n"
     ]
    },
    {
     "data": {
      "text/plain": [
       "'Lambda Functions'"
      ]
     },
     "execution_count": 27,
     "metadata": {},
     "output_type": "execute_result"
    }
   ],
   "source": [
    "v1 = lambda x : x * 2\n",
    "print(v1(5))\n",
    "\n",
    "v2 = lambda x: x * 2\n",
    "print(v2(5.0)) \n",
    "\n",
    "v3 = lambda x, y: x + y\n",
    "print (v3 (5,10)) \n",
    "\n",
    "Name = lambda first, second: first +second\n",
    "Name('Lambda ', 'Functions')   "
   ]
  },
  {
   "cell_type": "code",
   "execution_count": 28,
   "metadata": {},
   "outputs": [
    {
     "name": "stdout",
     "output_type": "stream",
     "text": [
      "20\n"
     ]
    }
   ],
   "source": [
    "x = lambda a, b : a if(a > b) else b\n",
    "print(x(10, 20))"
   ]
  },
  {
   "cell_type": "code",
   "execution_count": 29,
   "metadata": {},
   "outputs": [],
   "source": [
    "evenOdd = (lambda x: 'odd' if x%2==0 else 'even')"
   ]
  },
  {
   "cell_type": "code",
   "execution_count": 30,
   "metadata": {},
   "outputs": [
    {
     "name": "stdout",
     "output_type": "stream",
     "text": [
      "odd\n"
     ]
    }
   ],
   "source": [
    "print(evenOdd(2))"
   ]
  },
  {
   "cell_type": "code",
   "execution_count": 31,
   "metadata": {},
   "outputs": [
    {
     "name": "stdout",
     "output_type": "stream",
     "text": [
      "even\n"
     ]
    }
   ],
   "source": [
    "print(evenOdd(3))"
   ]
  },
  {
   "cell_type": "code",
   "execution_count": 32,
   "metadata": {},
   "outputs": [
    {
     "name": "stdout",
     "output_type": "stream",
     "text": [
      "9\n"
     ]
    }
   ],
   "source": [
    "# Positional arguments\n",
    "add = lambda x, y, z: x+y+z\n",
    "print(add(2, 3, 4))"
   ]
  },
  {
   "cell_type": "code",
   "execution_count": 33,
   "metadata": {},
   "outputs": [
    {
     "name": "stdout",
     "output_type": "stream",
     "text": [
      "9\n"
     ]
    }
   ],
   "source": [
    "# Keyword arguments\n",
    "add = lambda x, y, z: x+y+z\n",
    "print(add(2, z=3, y=4))"
   ]
  },
  {
   "cell_type": "code",
   "execution_count": 34,
   "metadata": {},
   "outputs": [
    {
     "name": "stdout",
     "output_type": "stream",
     "text": [
      "9\n"
     ]
    }
   ],
   "source": [
    "# Default arguments\n",
    "add = lambda x, y=3, z=4: x+y+z\n",
    "print(add(2))"
   ]
  },
  {
   "cell_type": "code",
   "execution_count": 1,
   "metadata": {},
   "outputs": [
    {
     "name": "stdout",
     "output_type": "stream",
     "text": [
      "9\n"
     ]
    }
   ],
   "source": [
    "# *args\n",
    "add = lambda *args: sum(args)\n",
    "print(add(2, 3, 4))"
   ]
  },
  {
   "cell_type": "code",
   "execution_count": 2,
   "metadata": {},
   "outputs": [
    {
     "name": "stdout",
     "output_type": "stream",
     "text": [
      "9\n"
     ]
    }
   ],
   "source": [
    "# **args\n",
    "add = lambda **kwargs: sum(kwargs.values())\n",
    "print(add(x=2, y=3, z=4))"
   ]
  },
  {
   "cell_type": "code",
   "execution_count": null,
   "metadata": {},
   "outputs": [],
   "source": [
    "# Calling funs by val / ref"
   ]
  },
  {
   "cell_type": "code",
   "execution_count": null,
   "metadata": {},
   "outputs": [],
   "source": [
    "print('---call by val---')\n",
    "def fun(a1):\n",
    "   a=a1+4\n",
    "   print (\"Inside the function\", a)\n",
    "\n",
    "a= 10\n",
    "fun(a)\n",
    "print (\"Outside the function\", a)"
   ]
  },
  {
   "cell_type": "code",
   "execution_count": null,
   "metadata": {},
   "outputs": [],
   "source": [
    "print('---call by ref---')\n",
    "def abc(list1): \n",
    "   list1.extend([23,89]) \n",
    "   print (\"list inside the function: \",list1)\n",
    "\n",
    "list1 = [12,67,90] \n",
    "print (\"list before pass\", list1)\n",
    "abc(list1) \n",
    "print (\"list outside the function\", list1)"
   ]
  },
  {
   "cell_type": "code",
   "execution_count": null,
   "metadata": {},
   "outputs": [],
   "source": [
    "# Simple calculator"
   ]
  },
  {
   "cell_type": "code",
   "execution_count": 5,
   "metadata": {},
   "outputs": [
    {
     "name": "stdout",
     "output_type": "stream",
     "text": [
      "Select operation.\n",
      "1.Add\n",
      "2.Subtract\n",
      "3.Multiply\n",
      "4.Divide\n"
     ]
    },
    {
     "name": "stdin",
     "output_type": "stream",
     "text": [
      "Enter choice(1/2/3/4): 5\n",
      "Enter first number:  1\n",
      "Enter second number:  1\n"
     ]
    },
    {
     "name": "stdout",
     "output_type": "stream",
     "text": [
      "Invalid input\n"
     ]
    }
   ],
   "source": [
    "def add(x, y):\n",
    "     return x + y\n",
    "def subtract(x, y):\n",
    "     return x - y\n",
    "def multiply(x, y):\n",
    "     return x * y\n",
    "def divide(x, y):\n",
    "    return x / y\n",
    "   \n",
    "print(\"Select operation.\")\n",
    "print(\"1.Add\")\n",
    "print(\"2.Subtract\")\n",
    "print(\"3.Multiply\")\n",
    "print(\"4.Divide\")\n",
    "\n",
    "choice = input(\"Enter choice(1/2/3/4):\")\n",
    "\n",
    "num1 = int(input(\"Enter first number: \"))\n",
    "num2 = int(input(\"Enter second number: \"))\n",
    "\n",
    "if choice == '1':\n",
    "    print(add(num1,num2))\n",
    "\n",
    "elif choice == '2':\n",
    "    print(subtract(num1,num2))\n",
    "\n",
    "elif choice == '3':\n",
    "    print(multiply(num1,num2))\n",
    "\n",
    "elif choice == '4':\n",
    "    print(divide(num1,num2))\n",
    "else:\n",
    "    print(\"Invalid input\")"
   ]
  },
  {
   "cell_type": "code",
   "execution_count": null,
   "metadata": {},
   "outputs": [],
   "source": []
  }
 ],
 "metadata": {
  "kernelspec": {
   "display_name": "Python 3 (ipykernel)",
   "language": "python",
   "name": "python3"
  },
  "language_info": {
   "codemirror_mode": {
    "name": "ipython",
    "version": 3
   },
   "file_extension": ".py",
   "mimetype": "text/x-python",
   "name": "python",
   "nbconvert_exporter": "python",
   "pygments_lexer": "ipython3",
   "version": "3.12.7"
  }
 },
 "nbformat": 4,
 "nbformat_minor": 4
}
