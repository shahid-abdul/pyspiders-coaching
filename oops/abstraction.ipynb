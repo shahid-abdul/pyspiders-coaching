{
 "cells": [
  {
   "cell_type": "code",
   "execution_count": 1,
   "metadata": {},
   "outputs": [
    {
     "name": "stdout",
     "output_type": "stream",
     "text": [
      "my method is implemented in sub class\n",
      "I am common method of abstract class\n"
     ]
    }
   ],
   "source": [
    "from abc import ABC,abstractmethod\n",
    "\n",
    "class myclass(ABC):\n",
    "    @abstractmethod\n",
    "    def mymethod(self):\n",
    "        pass\n",
    "\n",
    "    def common(self):\n",
    "        print(\"I am common method of abstract class\")\n",
    "\n",
    "class subclass(myclass):\n",
    "    def mymethod(self):\n",
    "        print(\"my method is implemented in sub class\")\n",
    "\n",
    "s1 = subclass()\n",
    "s1.mymethod()\n",
    "s1.common()\n"
   ]
  },
  {
   "cell_type": "code",
   "execution_count": null,
   "metadata": {},
   "outputs": [],
   "source": [
    "# create an abstract class named: FD account \n",
    "# it should contain methods like interest calculations,\n",
    "# Do the implementation for method in sub classes called post office and banks\n",
    "# while doing the calculations follow the below criterieas\n",
    "# 1.The method should accept 4 parameters called name,years,ammount,age\n",
    "# 2.Check the age if it is below 60 calculate the interest in such a way that \n",
    "#   - He is investing for 5 years of Rs.2500 every month \n",
    "#   - Then need to claculate total months into year\n",
    "#   - Calculate the total no of months * amount\n",
    "#   - Calculate 11.5% in total investment ammount and return total returns with interest ammount\n",
    "#   - If it is for 3 years calculate the interest for 9.5%\n",
    "#   - If it is for 1 year calculate for 7.5%\n",
    "# 3.If the age is above 60\n",
    "#   - if the total years is then interest = 14.5%\n",
    "#   - if it is 3 years interest = 11.5%\n",
    "#   - if it is 1 year interest = 9.5%"
   ]
  },
  {
   "cell_type": "code",
   "execution_count": null,
   "metadata": {},
   "outputs": [],
   "source": []
  }
 ],
 "metadata": {
  "kernelspec": {
   "display_name": "pyspiders_venv",
   "language": "python",
   "name": "python3"
  },
  "language_info": {
   "codemirror_mode": {
    "name": "ipython",
    "version": 3
   },
   "file_extension": ".py",
   "mimetype": "text/x-python",
   "name": "python",
   "nbconvert_exporter": "python",
   "pygments_lexer": "ipython3",
   "version": "3.11.7"
  }
 },
 "nbformat": 4,
 "nbformat_minor": 2
}
