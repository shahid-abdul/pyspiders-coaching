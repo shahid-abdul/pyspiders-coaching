{
 "cells": [
  {
   "cell_type": "code",
   "execution_count": 9,
   "metadata": {},
   "outputs": [
    {
     "name": "stdout",
     "output_type": "stream",
     "text": [
      "4\n"
     ]
    }
   ],
   "source": [
    "class Example:\n",
    "    a = 10\n",
    "\n",
    "    def __init__(self,p):\n",
    "        self.p = p\n",
    "        \n",
    "    def meth(self):\n",
    "        print(self.p)\n",
    "obj1 = Example(4)\n",
    "# obj1.meth()\n",
    "Example.meth(obj1)"
   ]
  },
  {
   "cell_type": "code",
   "execution_count": 12,
   "metadata": {},
   "outputs": [
    {
     "name": "stdout",
     "output_type": "stream",
     "text": [
      "1000\n",
      "10\n"
     ]
    }
   ],
   "source": [
    "class Example:\n",
    "    a = 10\n",
    "\n",
    "    def __init__(self,p):\n",
    "        self.p = p\n",
    "        \n",
    "    def meth(self):\n",
    "        print(self.p)\n",
    "\n",
    "obj1 = Example(1000)\n",
    "print(obj1.p)\n",
    "\n",
    "print(Example.a)"
   ]
  },
  {
   "cell_type": "code",
   "execution_count": 22,
   "metadata": {},
   "outputs": [
    {
     "name": "stdout",
     "output_type": "stream",
     "text": [
      ".......Your Details....\n",
      "name: Abdul\n",
      "age: 20\n",
      "mno: 143\n",
      "gender: male\n",
      "degre: CSE\n",
      ".......Thank You.......\n",
      ".......Your Details....\n",
      "name: Tharun\n",
      "age: 20\n",
      "mno: 1432\n",
      "gender: male\n",
      "degre: ECE\n",
      ".......Thank You.......\n",
      ".......Your Details....\n",
      "name: Deepika\n",
      "age: 21\n",
      "mno: 0\n",
      "gender: Female\n",
      "degre: EEE\n",
      ".......Thank You.......\n",
      ".......Your Details....\n",
      "name: Venu\n",
      "age: 21\n",
      "mno: 1431\n",
      "gender: male\n",
      "degre: IT\n",
      ".......Thank You.......\n",
      ".......Your Details....\n",
      "name: Nisha\n",
      "age: 21\n",
      "mno: 11\n",
      "gender: female\n",
      "degre: MECH\n",
      ".......Thank You.......\n"
     ]
    }
   ],
   "source": [
    "class student:\n",
    "    institute = \"Pysipders\"\n",
    "    location = \"Basavanagudi\"\n",
    "\n",
    "    def __init__(self,name,age,gender,mno,degree):\n",
    "        self.name = name\n",
    "        self.age = age\n",
    "        self.mno = mno\n",
    "        self.degree = degree\n",
    "        self.gender = gender\n",
    "\n",
    "    def details(self):\n",
    "        print(\".......Your Details....\")\n",
    "        print(f\"name: {self.name}\")\n",
    "        print(f\"age: {self.age}\")\n",
    "        print(f\"mno: {self.mno}\")\n",
    "        print(f\"gender: {self.gender}\")\n",
    "        print(f\"degre: {self.degree}\")\n",
    "        print(\".......Thank You.......\")\n",
    "\n",
    "s1 = student('Abdul',20,\"male\",143,\"CSE\")\n",
    "s2 = student('Tharun',20,'male',1432,'ECE')\n",
    "s3 = student('Deepika',21,'Female',00,'EEE')\n",
    "s4 = student('Venu',21,'male',1431,'IT')\n",
    "s5 = student('Nisha',21,'female',11,'MECH')\n",
    "\n",
    "s1.details()\n",
    "s2.details()\n",
    "s3.details()\n",
    "s4.details()\n",
    "s5.details()"
   ]
  },
  {
   "cell_type": "code",
   "execution_count": null,
   "metadata": {},
   "outputs": [],
   "source": []
  }
 ],
 "metadata": {
  "kernelspec": {
   "display_name": "pyspiders_venv",
   "language": "python",
   "name": "python3"
  },
  "language_info": {
   "codemirror_mode": {
    "name": "ipython",
    "version": 3
   },
   "file_extension": ".py",
   "mimetype": "text/x-python",
   "name": "python",
   "nbconvert_exporter": "python",
   "pygments_lexer": "ipython3",
   "version": "3.11.7"
  }
 },
 "nbformat": 4,
 "nbformat_minor": 2
}
