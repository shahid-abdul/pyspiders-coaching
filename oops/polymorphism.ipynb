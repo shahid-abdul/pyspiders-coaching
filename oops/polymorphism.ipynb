{
 "cells": [
  {
   "cell_type": "code",
   "execution_count": 2,
   "metadata": {},
   "outputs": [
    {
     "name": "stdout",
     "output_type": "stream",
     "text": [
      "bow bow\n",
      "jimmy\n",
      "meow meow\n",
      "goldie\n"
     ]
    }
   ],
   "source": [
    "class dog:\n",
    "    def noise(self):\n",
    "        print('bow bow')\n",
    "    \n",
    "    def name(self):\n",
    "        print('jimmy')\n",
    "\n",
    "class cat:\n",
    "    def noise(self):\n",
    "        print('meow meow')\n",
    "    \n",
    "    def name(self):\n",
    "        print('goldie')\n",
    "\n",
    "def animal(obj):\n",
    "    obj.noise()\n",
    "    obj.name()\n",
    "\n",
    "d1 = dog()\n",
    "c1 = cat()\n",
    "\n",
    "animal(d1)\n",
    "animal(c1)"
   ]
  },
  {
   "cell_type": "markdown",
   "metadata": {},
   "source": [
    "# Compile Time Polymorphism - method overloading"
   ]
  },
  {
   "cell_type": "code",
   "execution_count": 7,
   "metadata": {},
   "outputs": [
    {
     "name": "stdout",
     "output_type": "stream",
     "text": [
      "method 3\n",
      "1 2 3 "
     ]
    }
   ],
   "source": [
    "class myclass:\n",
    "    def method(self,a):\n",
    "        print('method 1')\n",
    "        print(a)\n",
    "\n",
    "    def method(self,a,b):\n",
    "        print('method 2')\n",
    "        print(a,b ,end=\" \")\n",
    "\n",
    "    def method(self,a,b,c):\n",
    "        print('method 3')\n",
    "        print(a,b,c,end=\" \")\n",
    "\n",
    "m1 = myclass()\n",
    "m1.method(1,2,3)\n"
   ]
  },
  {
   "cell_type": "markdown",
   "metadata": {},
   "source": [
    "# Run Time Polymorphism - method overriding"
   ]
  },
  {
   "cell_type": "code",
   "execution_count": null,
   "metadata": {},
   "outputs": [
    {
     "name": "stdout",
     "output_type": "stream",
     "text": [
      "i will give training on django\n",
      "I will give training of data science\n"
     ]
    }
   ],
   "source": [
    "class campus_connect:\n",
    "    def trainer_abdul(self):\n",
    "        print('I will give training of data science')\n",
    "    \n",
    "class pyspiders(campus_connect):\n",
    "    def trainer_abdul(self):\n",
    "        print('i will give training on django')\n",
    "\n",
    "p1 = pyspiders()\n",
    "p1.trainer_abdul()\n",
    "\n",
    "c1 = campus_connect()\n",
    "c1.trainer_abdul()\n"
   ]
  },
  {
   "cell_type": "code",
   "execution_count": 13,
   "metadata": {},
   "outputs": [
    {
     "name": "stdout",
     "output_type": "stream",
     "text": [
      "area of the circle is 50.285714285714285\n",
      "area of the rectangle is 6\n"
     ]
    }
   ],
   "source": [
    "class shape:\n",
    "    def area(self):\n",
    "        pass\n",
    "\n",
    "class circle(shape):\n",
    "    pi = (22/7)\n",
    "    def area(self,radius):\n",
    "        return self.pi*radius*radius\n",
    "\n",
    "class rectangle(shape):\n",
    "    def area(self,l,b):\n",
    "        return l*b\n",
    "\n",
    "s1 = shape()\n",
    "c1 = circle()\n",
    "r1 = rectangle()\n",
    "\n",
    "print('area of the circle is',c1.area(4))\n",
    "print('area of the rectangle is',r1.area(2,3))"
   ]
  },
  {
   "cell_type": "markdown",
   "metadata": {},
   "source": [
    "# Single Ton class"
   ]
  },
  {
   "cell_type": "code",
   "execution_count": 4,
   "metadata": {},
   "outputs": [
    {
     "name": "stdout",
     "output_type": "stream",
     "text": [
      "<__main__.karnataka_cm object at 0x109b52cd0>\n"
     ]
    }
   ],
   "source": [
    "class karnataka_cm:\n",
    "    __cm = None\n",
    "    def __init__(self):\n",
    "        if karnataka_cm.__cm is None:\n",
    "            karnataka_cm.__cm = self\n",
    "        else:\n",
    "            raise Exception(\"state should contain only 1 cm\")\n",
    "\n",
    "kcm1 = karnataka_cm()\n",
    "print(kcm1)\n",
    "# kcm2 = karnataka_cm() # state should contain only 1 cm"
   ]
  },
  {
   "cell_type": "code",
   "execution_count": null,
   "metadata": {},
   "outputs": [],
   "source": [
    "# create a class with name: mydictdetails\n",
    "# methods: add_items,delete_items,update_items,display\n",
    "# when the obj is created a empty dict should create\n",
    "# Note: should not use any inbuild methods"
   ]
  },
  {
   "cell_type": "code",
   "execution_count": 5,
   "metadata": {},
   "outputs": [
    {
     "name": "stdout",
     "output_type": "stream",
     "text": [
      "{}\n"
     ]
    }
   ],
   "source": [
    "class My_Dict_Details:\n",
    "    def __init__(self):\n",
    "        self.dictionary = {}\n",
    "    def display(self):\n",
    "        print(self.dictionary)\n",
    "\n",
    "m1= My_Dict_Details()\n",
    "m1.display()"
   ]
  },
  {
   "cell_type": "code",
   "execution_count": null,
   "metadata": {},
   "outputs": [],
   "source": []
  }
 ],
 "metadata": {
  "kernelspec": {
   "display_name": "pyspiders_venv",
   "language": "python",
   "name": "python3"
  },
  "language_info": {
   "codemirror_mode": {
    "name": "ipython",
    "version": 3
   },
   "file_extension": ".py",
   "mimetype": "text/x-python",
   "name": "python",
   "nbconvert_exporter": "python",
   "pygments_lexer": "ipython3",
   "version": "3.11.7"
  }
 },
 "nbformat": 4,
 "nbformat_minor": 2
}
