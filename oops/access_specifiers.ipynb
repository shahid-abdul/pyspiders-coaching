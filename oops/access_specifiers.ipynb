{
 "cells": [
  {
   "cell_type": "markdown",
   "metadata": {},
   "source": [
    "# Access Specifiers"
   ]
  },
  {
   "cell_type": "code",
   "execution_count": 5,
   "metadata": {},
   "outputs": [
    {
     "name": "stdout",
     "output_type": "stream",
     "text": [
      "a value is 100\n",
      "b value is 200\n",
      "c value is 300\n",
      "Accessing public attribute outside the class -> 100\n",
      "Accessing protected attribute outside the class -> 200\n"
     ]
    }
   ],
   "source": [
    "class myclass:\n",
    "    def __init__(self):\n",
    "        self.a = 100 # public\n",
    "        self._b = 200 # protected\n",
    "        self.__c = 300 # private\n",
    "\n",
    "    def mymethod(self):\n",
    "        print(f'a value is {self.a}')\n",
    "        print(f'b value is {self._b}')\n",
    "        print(f'c value is {self.__c}')\n",
    "\n",
    "m1 = myclass()\n",
    "m1.mymethod()\n",
    "print('Accessing public attribute outside the class ->',m1.a)\n",
    "print('Accessing protected attribute outside the class ->',m1._b)\n",
    "# print('Accessing private attribute outside the class ->',m1.__c) # cannot access"
   ]
  },
  {
   "cell_type": "markdown",
   "metadata": {},
   "source": [
    "\n",
    "|| inside the class | outside the class | from one class to another|\n",
    "|---|---|---|---|\n",
    "|public|yes | yes | yes |\n",
    "|protected| yes | yes | yes(is-a relationship) |\n",
    "|private| yes | no | no |\n"
   ]
  },
  {
   "cell_type": "code",
   "execution_count": null,
   "metadata": {},
   "outputs": [
    {
     "name": "stdout",
     "output_type": "stream",
     "text": [
      "I am display - public in access\n",
      "I am test - private in access\n",
      "I am view - protected in access\n",
      "I am test - private in access\n"
     ]
    }
   ],
   "source": [
    "# program to give access levels to user defined methods\n",
    "class one:\n",
    "    def display(self):\n",
    "        print('I am display - public in access')\n",
    "        self.__test()\n",
    "    \n",
    "    def _view(self):\n",
    "        print('I am view - protected in access')\n",
    "        self.__test()\n",
    "\n",
    "    def __test(self):\n",
    "        print('I am test - private in access')\n",
    "\n",
    "o1 = one()\n",
    "o1.display()\n",
    "o1._view()"
   ]
  },
  {
   "cell_type": "markdown",
   "metadata": {},
   "source": [
    "## Python Bean Class"
   ]
  },
  {
   "cell_type": "code",
   "execution_count": 19,
   "metadata": {},
   "outputs": [
    {
     "name": "stdout",
     "output_type": "stream",
     "text": [
      "Abdul\n",
      "Tharun\n"
     ]
    }
   ],
   "source": [
    "class Employee:\n",
    "    def __init__(self,name):\n",
    "        self.__Name = name\n",
    "    def getName(self):\n",
    "        return self.__Name\n",
    "    def setName(self,name):\n",
    "        self.__Name = name\n",
    "e1 = Employee('Abdul')\n",
    "print(e1.getName())\n",
    "e1.setName('Tharun')\n",
    "print(e1.getName())"
   ]
  },
  {
   "cell_type": "markdown",
   "metadata": {},
   "source": [
    "# Property Method"
   ]
  },
  {
   "cell_type": "code",
   "execution_count": 22,
   "metadata": {},
   "outputs": [
    {
     "name": "stdout",
     "output_type": "stream",
     "text": [
      "get method is called\n",
      "tiger\n",
      "\n",
      "get method is called\n",
      "get method is called\n",
      "lion\n"
     ]
    }
   ],
   "source": [
    "class Employee:\n",
    "    def __init__(self,name):\n",
    "        self.__Name = name\n",
    "\n",
    "    def getName(self):\n",
    "        print('get method is called')\n",
    "        return self.__Name\n",
    "    \n",
    "    def setName(self,name):\n",
    "        print('get method is called')\n",
    "        self.__Name = name\n",
    "\n",
    "    var = property(getName,setName)\n",
    "\n",
    "e1 = Employee('tiger')\n",
    "print(e1.var)\n",
    "print()\n",
    "e1.var = 'lion'\n",
    "print(e1.var)\n"
   ]
  },
  {
   "cell_type": "code",
   "execution_count": 7,
   "metadata": {},
   "outputs": [
    {
     "name": "stdout",
     "output_type": "stream",
     "text": [
      "100\n",
      "200\n",
      "I am the method of class B\n",
      "\n",
      "10\n",
      "20\n",
      "I am the method of class A\n"
     ]
    }
   ],
   "source": [
    "class A:\n",
    "    def __init__(self):\n",
    "        self.a = 10\n",
    "        self.b = 20\n",
    "\n",
    "    def m1(self):\n",
    "        print('I am the method of class A')\n",
    "\n",
    "class B:\n",
    "    def __init__(self):\n",
    "        self.x = 100\n",
    "        self.y = 200\n",
    "        self.c1 = A()\n",
    "    \n",
    "    def m2(self):\n",
    "        print('I am the method of class B')\n",
    "\n",
    "c2 = B()\n",
    "print(c2.x)\n",
    "print(c2.y)\n",
    "c2.m2()\n",
    "print()\n",
    "print(c2.c1.a)\n",
    "print(c2.c1.b)\n",
    "c2.c1.m1()"
   ]
  },
  {
   "cell_type": "code",
   "execution_count": null,
   "metadata": {},
   "outputs": [],
   "source": [
    "class Heart:\n",
    "    def heart_beat(self):\n",
    "        print('Normal Heart beart of a human is 80/120')\n",
    "\n",
    "    def heart_analysis(self):\n",
    "        print('Heart have four chambers for pumping blood')\n",
    "\n",
    "class Human:\n",
    "    def gender(self):\n",
    "        print('')"
   ]
  },
  {
   "cell_type": "code",
   "execution_count": 13,
   "metadata": {},
   "outputs": [
    {
     "name": "stdout",
     "output_type": "stream",
     "text": [
      "You are doing something\n",
      "\n",
      "You heartbeat is abnormal\n"
     ]
    }
   ],
   "source": [
    "class Heart:\n",
    "    def __init__(self,name,heart_beat):\n",
    "        self.name = name\n",
    "        self.heart_beat = heart_beat\n",
    "\n",
    "    def heart_analysis(self):\n",
    "        if self.heart_beat >= 68 and self.heart_beat <= 74:\n",
    "            print('You heartbeat is normal')\n",
    "        else:\n",
    "            print('You heartbeat is abnormal')\n",
    "\n",
    "class Human:\n",
    "    def __init__(self,name,age,heart_beat):\n",
    "        self.name = name\n",
    "        self.age = age\n",
    "        self.heart_beat = heart_beat\n",
    "        self.h1 = Heart(name,heart_beat)\n",
    "\n",
    "    def human_analysis(self):\n",
    "        print('You are doing something')\n",
    "\n",
    "h2 = Human('abdul',20,80)\n",
    "h2.human_analysis()\n",
    "print()\n",
    "h2.h1.heart_analysis()"
   ]
  },
  {
   "cell_type": "code",
   "execution_count": null,
   "metadata": {},
   "outputs": [],
   "source": [
    "# program to built has-a relationship between two classes as follows\n",
    "# Create a class called Battery and it should has a attribute current capacity, \n",
    "# It should get a value during object creation time\n",
    "# and methods like charging and discharging\n",
    "# create a class called mobile, It should contain attributes like name,price,color and object of battery class\n",
    "# methods like calls,netflix,bgmi\n",
    "# If these methods are executing. Automatically discharging method of battery class\n",
    "# If I call plug into charge, we need to call charging method of battery class"
   ]
  },
  {
   "cell_type": "code",
   "execution_count": 7,
   "metadata": {},
   "outputs": [
    {
     "name": "stdout",
     "output_type": "stream",
     "text": [
      "You are in call so\n",
      "discharging the phone\n",
      "You are watching netflix so\n",
      "discharging the phone\n",
      "charging the phone\n"
     ]
    }
   ],
   "source": [
    "class Battery:\n",
    "    def __init__(self,current_capacity):\n",
    "        self.current_capacity = current_capacity\n",
    "    \n",
    "    def charging(self):\n",
    "        print('charging the phone')\n",
    "    \n",
    "    def discharging(self):\n",
    "        print('discharging the phone')\n",
    "\n",
    "class Mobile:\n",
    "    def __init__(self,name,price,color,current_capacity):\n",
    "        self.name = name\n",
    "        self.price = price\n",
    "        self.color = color\n",
    "        self.current_capacity = current_capacity\n",
    "        self.b1 = Battery(current_capacity)\n",
    "\n",
    "    def calls(self):\n",
    "        print('You are in call so')\n",
    "        self.b1.discharging()\n",
    "    \n",
    "    def netflix(self):\n",
    "        print('You are watching netflix so')\n",
    "        self.b1.discharging()\n",
    "    \n",
    "    def bgmi(self):\n",
    "        print('you are playing bgmi so')\n",
    "        self.b1.discharging()\n",
    "\n",
    "    def plug_into_charge(self):\n",
    "        self.b1.charging()\n",
    "\n",
    "m1 = Mobile('iphone',100000,'white','20')\n",
    "m1.calls()\n",
    "m1.netflix()\n",
    "m1.plug_into_charge()"
   ]
  },
  {
   "cell_type": "code",
   "execution_count": null,
   "metadata": {},
   "outputs": [],
   "source": []
  }
 ],
 "metadata": {
  "kernelspec": {
   "display_name": "pyspiders_venv",
   "language": "python",
   "name": "python3"
  },
  "language_info": {
   "codemirror_mode": {
    "name": "ipython",
    "version": 3
   },
   "file_extension": ".py",
   "mimetype": "text/x-python",
   "name": "python",
   "nbconvert_exporter": "python",
   "pygments_lexer": "ipython3",
   "version": "3.11.7"
  }
 },
 "nbformat": 4,
 "nbformat_minor": 2
}
