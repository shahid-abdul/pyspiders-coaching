{
 "cells": [
  {
   "cell_type": "markdown",
   "metadata": {},
   "source": [
    "# Access Specifiers"
   ]
  },
  {
   "cell_type": "code",
   "execution_count": 5,
   "metadata": {},
   "outputs": [
    {
     "name": "stdout",
     "output_type": "stream",
     "text": [
      "a value is 100\n",
      "b value is 200\n",
      "c value is 300\n",
      "Accessing public attribute outside the class -> 100\n",
      "Accessing protected attribute outside the class -> 200\n"
     ]
    }
   ],
   "source": [
    "class myclass:\n",
    "    def __init__(self):\n",
    "        self.a = 100 # public\n",
    "        self._b = 200 # protected\n",
    "        self.__c = 300 # private\n",
    "\n",
    "    def mymethod(self):\n",
    "        print(f'a value is {self.a}')\n",
    "        print(f'b value is {self._b}')\n",
    "        print(f'c value is {self.__c}')\n",
    "\n",
    "m1 = myclass()\n",
    "m1.mymethod()\n",
    "print('Accessing public attribute outside the class ->',m1.a)\n",
    "print('Accessing protected attribute outside the class ->',m1._b)\n",
    "# print('Accessing private attribute outside the class ->',m1.__c) # cannot access"
   ]
  },
  {
   "cell_type": "markdown",
   "metadata": {},
   "source": [
    "\n",
    "|| inside the class | outside the class | from one class to another|\n",
    "|---|---|---|---|\n",
    "|public|yes | yes | yes |\n",
    "|protected| yes | yes | yes(is-a relationship) |\n",
    "|private| yes | no | no |\n"
   ]
  },
  {
   "cell_type": "code",
   "execution_count": null,
   "metadata": {},
   "outputs": [
    {
     "name": "stdout",
     "output_type": "stream",
     "text": [
      "I am display - public in access\n",
      "I am test - private in access\n",
      "I am view - protected in access\n",
      "I am test - private in access\n"
     ]
    }
   ],
   "source": [
    "# program to give access levels to user defined methods\n",
    "class one:\n",
    "    def display(self):\n",
    "        print('I am display - public in access')\n",
    "        self.__test()\n",
    "    \n",
    "    def _view(self):\n",
    "        print('I am view - protected in access')\n",
    "        self.__test()\n",
    "\n",
    "    def __test(self):\n",
    "        print('I am test - private in access')\n",
    "\n",
    "o1 = one()\n",
    "o1.display()\n",
    "o1._view()"
   ]
  },
  {
   "cell_type": "code",
   "execution_count": null,
   "metadata": {},
   "outputs": [],
   "source": []
  }
 ],
 "metadata": {
  "kernelspec": {
   "display_name": "pyspiders_venv",
   "language": "python",
   "name": "python3"
  },
  "language_info": {
   "codemirror_mode": {
    "name": "ipython",
    "version": 3
   },
   "file_extension": ".py",
   "mimetype": "text/x-python",
   "name": "python",
   "nbconvert_exporter": "python",
   "pygments_lexer": "ipython3",
   "version": "3.11.7"
  }
 },
 "nbformat": 4,
 "nbformat_minor": 2
}
