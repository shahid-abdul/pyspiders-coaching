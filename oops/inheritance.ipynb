{
 "cells": [
  {
   "cell_type": "markdown",
   "metadata": {},
   "source": [
    "# 1. Single Level Inheritance"
   ]
  },
  {
   "cell_type": "code",
   "execution_count": 7,
   "metadata": {},
   "outputs": [
    {
     "name": "stdout",
     "output_type": "stream",
     "text": [
      "BMW\n",
      "parent owns bmw car\n",
      "Royal Enfield\n",
      "child owns royal enfield\n"
     ]
    }
   ],
   "source": [
    "class parent:\n",
    "    car = 'BMW'\n",
    "    def method1(self):\n",
    "        print('parent owns bmw car')\n",
    "    \n",
    "class child(parent):\n",
    "    bike = 'Royal Enfield'\n",
    "    def method2(self):\n",
    "        print('child owns royal enfield')\n",
    "c1 = child()\n",
    "print(c1.car)\n",
    "c1.method1()\n",
    "print(c1.bike)\n",
    "c1.method2()"
   ]
  },
  {
   "cell_type": "code",
   "execution_count": null,
   "metadata": {},
   "outputs": [
    {
     "name": "stdout",
     "output_type": "stream",
     "text": [
      "Ferrari\n",
      "child owns Ferrari\n"
     ]
    }
   ],
   "source": [
    "class parent:\n",
    "    car = 'BMW'\n",
    "    def method1(self):\n",
    "        print('parent owns bmw car')\n",
    "    \n",
    "class child(parent):\n",
    "    bike = 'Royal Enfield'\n",
    "    def method2(self):\n",
    "        print('child owns royal enfield')\n",
    "c1 = child()\n",
    "print(c1.car)\n",
    "c1.method1()\n",
    "print(c1.bike)\n",
    "c1.method2()"
   ]
  },
  {
   "cell_type": "code",
   "execution_count": 13,
   "metadata": {},
   "outputs": [
    {
     "name": "stdout",
     "output_type": "stream",
     "text": [
      "Ferarri\n",
      "child owns Ferarri\n"
     ]
    }
   ],
   "source": [
    "class parent:\n",
    "    car = 'BMW'\n",
    "    def method1(self):\n",
    "        print('parent owns bmw car')\n",
    "    \n",
    "class child(parent):\n",
    "    car = 'Ferarri'\n",
    "    def method1(self):\n",
    "        print('child owns Ferarri')\n",
    "c1 = child()\n",
    "print(c1.car)\n",
    "c1.method1()\n"
   ]
  },
  {
   "cell_type": "code",
   "execution_count": 14,
   "metadata": {},
   "outputs": [
    {
     "name": "stdout",
     "output_type": "stream",
     "text": [
      "Ferarri\n",
      "BMW\n"
     ]
    }
   ],
   "source": [
    "class parent:\n",
    "    car = 'BMW'\n",
    "    \n",
    "class child(parent):\n",
    "    car = 'Ferarri'\n",
    "    def method1(self):\n",
    "        print(self.car)\n",
    "        print(super().car)\n",
    "c1 = child()\n",
    "c1.method1()\n"
   ]
  },
  {
   "cell_type": "code",
   "execution_count": null,
   "metadata": {},
   "outputs": [
    {
     "name": "stdout",
     "output_type": "stream",
     "text": [
      "parent owns bmw\n",
      "child owns ferarri\n"
     ]
    }
   ],
   "source": [
    "class parent:\n",
    "    car = 'BMW'\n",
    "    def method1(self):\n",
    "        print('parent owns bmw')\n",
    "class child(parent):\n",
    "    car = 'Ferarri'\n",
    "    def method1(self):\n",
    "        super().method1()\n",
    "        print('child owns ferarri')\n",
    "        \n",
    "c1 = child()\n",
    "c1.method1()"
   ]
  },
  {
   "cell_type": "code",
   "execution_count": null,
   "metadata": {},
   "outputs": [
    {
     "name": "stdout",
     "output_type": "stream",
     "text": [
      "parent class\n"
     ]
    }
   ],
   "source": [
    "class parent:\n",
    "    def __init__(self):\n",
    "        print(\"parent class\")\n",
    "class child(parent):\n",
    "    def __init__(self):\n",
    "        super().__init__()\n",
    "c1 = child()"
   ]
  },
  {
   "cell_type": "code",
   "execution_count": 6,
   "metadata": {},
   "outputs": [
    {
     "name": "stdout",
     "output_type": "stream",
     "text": [
      "child class\n",
      "parent class\n",
      "BMW\n"
     ]
    }
   ],
   "source": [
    "class parent:\n",
    "    def __init__(self,car):\n",
    "        self.car = car\n",
    "        print(\"parent class\")\n",
    "        print(self.car)\n",
    "class child(parent):\n",
    "    def __init__(self,car):\n",
    "        print('child class')\n",
    "        super().__init__(car)\n",
    "c1 = child('BMW')"
   ]
  },
  {
   "cell_type": "code",
   "execution_count": 17,
   "metadata": {},
   "outputs": [
    {
     "name": "stdout",
     "output_type": "stream",
     "text": [
      "version 2.0\n",
      "Abdul u can do shopping\n",
      "Amazon Fresh is also available\n",
      "Abdul u can do payments or banking\n"
     ]
    }
   ],
   "source": [
    "class Amazon1:\n",
    "    version = \"version 1.0\"\n",
    "    def __init__(self,name,phno):\n",
    "        self.name = name # self.n = name is also possible\n",
    "        self.phno = phno # self.pno = phno is also possible\n",
    "\n",
    "    def shopping(self):\n",
    "        print(f'{self.name} u can do shopping')\n",
    "\n",
    "    def ott(self):\n",
    "        print(f'{self.name} u can watch otts')\n",
    "\n",
    "# user1 = Amazon1('abdul',143)\n",
    "# print(user1.version)\n",
    "# user1.shopping()\n",
    "# user1.ott()\n",
    "\n",
    "class Amazon2(Amazon1):\n",
    "    version = \"version 2.0\"\n",
    "    def __init__(self, name, phno,email):\n",
    "        super().__init__(name, phno)\n",
    "        self.email = email\n",
    "\n",
    "    def shopping(self):\n",
    "        super().shopping()\n",
    "        print('Amazon Fresh is also available')\n",
    "        \n",
    "    def banking(self):\n",
    "        print(f'{self.name} u can do payments or banking')\n",
    "\n",
    "user2 = Amazon2('Abdul',1432,'cutie143@gmail.com')\n",
    "print(user2.version)\n",
    "user2.shopping()\n",
    "user2.banking()"
   ]
  },
  {
   "cell_type": "markdown",
   "metadata": {},
   "source": [
    "# 2. Multilevel Inheritance"
   ]
  },
  {
   "cell_type": "code",
   "execution_count": 20,
   "metadata": {},
   "outputs": [
    {
     "name": "stdout",
     "output_type": "stream",
     "text": [
      "version 3.0\n",
      "U can call here\n",
      "U can chat here\n",
      "You can create ur own avatar\n",
      "U can make upi payments here\n",
      "you can use meta Ai for any queries\n"
     ]
    }
   ],
   "source": [
    "class whatsapp1:\n",
    "    version = \"version 1.0\"\n",
    "\n",
    "    def __init__(self,phone):\n",
    "        self.phone = phone\n",
    "        \n",
    "    def chat(self):\n",
    "        print('U can chat here')\n",
    "    \n",
    "    def call(self):\n",
    "        print('U can call here')\n",
    "\n",
    "class whatsapp2(whatsapp1):\n",
    "    version = 'version2'\n",
    "\n",
    "    def __init__(self, phone):\n",
    "        super().__init__(phone)\n",
    "    \n",
    "    def avatar(self):\n",
    "        print('You can create ur own avatar')\n",
    "    \n",
    "    def payment(self):\n",
    "        print('U can make upi payments here')\n",
    "\n",
    "\n",
    "class whatsapp3(whatsapp2):\n",
    "    version = 'version 3.0'\n",
    "\n",
    "    def __init__(self, phone):\n",
    "        super().__init__(phone)\n",
    "\n",
    "    def meta(self):\n",
    "        print(\"you can use meta Ai for any queries\")\n",
    "    \n",
    "user1 = whatsapp3(143)\n",
    "print(user1.version)\n",
    "user1.call()\n",
    "user1.chat()\n",
    "user1.avatar()\n",
    "user1.payment()\n",
    "user1.meta()"
   ]
  },
  {
   "cell_type": "markdown",
   "metadata": {},
   "source": [
    "# 3. Hierarchical Inheritance"
   ]
  },
  {
   "cell_type": "code",
   "execution_count": 25,
   "metadata": {},
   "outputs": [
    {
     "name": "stdout",
     "output_type": "stream",
     "text": [
      "header\n",
      "page1 content\n",
      "footer\n",
      "\n",
      "header\n",
      "page2 content\n",
      "footer\n"
     ]
    }
   ],
   "source": [
    "class base:\n",
    "    def header(self):\n",
    "        print('header')\n",
    "    def footer(self):\n",
    "        print('footer')\n",
    "    \n",
    "class page1(base):\n",
    "    def header(self):\n",
    "        super().header()\n",
    "    def content(self):\n",
    "        print('page1 content')\n",
    "    def footer(self):\n",
    "        super().footer()\n",
    "\n",
    "class page2(base):\n",
    "    def header(self):\n",
    "        super().header()\n",
    "    def content(self):\n",
    "        print('page2 content')\n",
    "    def footer(self):\n",
    "        super().footer()\n",
    "\n",
    "p1 = page1()\n",
    "p1.header()\n",
    "p1.content()\n",
    "p1.footer()\n",
    "\n",
    "print()\n",
    "\n",
    "p2 = page2()\n",
    "p2.header()\n",
    "p2.content()\n",
    "p2.footer()"
   ]
  },
  {
   "cell_type": "markdown",
   "metadata": {},
   "source": [
    "# 4. Multiple Inheritance"
   ]
  },
  {
   "cell_type": "code",
   "execution_count": 38,
   "metadata": {},
   "outputs": [
    {
     "name": "stdout",
     "output_type": "stream",
     "text": [
      "class A - method 1\n",
      "class B - method 1\n",
      "class B - method B\n"
     ]
    }
   ],
   "source": [
    "class A:\n",
    "    def method1(self):\n",
    "        print('class A - method 1')\n",
    "\n",
    "class B:\n",
    "    def method1(self):\n",
    "        print('class B - method 1')\n",
    "    \n",
    "    def method2(slef):\n",
    "        print('class B - method B')\n",
    "    \n",
    "class C(A,B):\n",
    "    def method1(self):\n",
    "        super().method1()\n",
    "        B.method1(self)\n",
    "    def method2(slef):\n",
    "        super().method2()\n",
    "\n",
    "c1 = C()\n",
    "c1.method1()\n",
    "c1.method2()\n",
    "#print(C.mro())"
   ]
  },
  {
   "cell_type": "code",
   "execution_count": 45,
   "metadata": {},
   "outputs": [
    {
     "name": "stdout",
     "output_type": "stream",
     "text": [
      "stared using petrol\n"
     ]
    }
   ],
   "source": [
    "class Pvehicle:\n",
    "    mode = 'petrol'\n",
    "    def start(self):\n",
    "        print('stared using petrol')\n",
    "    \n",
    "class Evehicle:\n",
    "    mode = 'Electric'\n",
    "    def start(self):\n",
    "        print('started using battery')\n",
    "\n",
    "class Hybrid_vehicle(Evehicle,Pvehicle):\n",
    "    mode = 'Hybrid'\n",
    "    def set_speed(self,speed):\n",
    "        if 60 <= speed <= 180:\n",
    "            self.mode = 'petrol'\n",
    "            Pvehicle.start(self)\n",
    "        else:\n",
    "            self.mode = 'Electric'\n",
    "            Evehicle.start(self)\n",
    "\n",
    "h1 = Hybrid_vehicle()\n",
    "h1.set_speed(100)"
   ]
  },
  {
   "cell_type": "markdown",
   "metadata": {},
   "source": [
    "# 5. Hybrid Inheritance"
   ]
  },
  {
   "cell_type": "code",
   "execution_count": 1,
   "metadata": {},
   "outputs": [
    {
     "name": "stdout",
     "output_type": "stream",
     "text": [
      "cat is pet animal..\n",
      "Human can take care of pet animals\n",
      "parrot is a pet bird..\n",
      "Humans can take care of pet birds\n",
      "cheetah is a wild animal..\n",
      "Eagle is a wild bird..\n"
     ]
    }
   ],
   "source": [
    "class Birds:\n",
    "    def wild_birds(self):\n",
    "        print('Eagle is a wild bird..')\n",
    "    def pet_birds(self):\n",
    "        print('parrot is a pet bird..')\n",
    "\n",
    "class Animals:\n",
    "    def wild_animals(self):\n",
    "        print('cheetah is a wild animal..')\n",
    "    def pet_animals(self):\n",
    "        print('cat is pet animal..')\n",
    "\n",
    "class organims(Birds,Animals):\n",
    "    def wild_animals(self):\n",
    "        super().wild_animals()\n",
    "    def wild_birds(self):\n",
    "        super().wild_birds()\n",
    "\n",
    "class Humans(organims):\n",
    "    def pet_animals(self):\n",
    "        super().pet_animals()\n",
    "        print('Human can take care of pet animals')\n",
    "    def pet_birds(self):\n",
    "        super().pet_birds()\n",
    "        print('Humans can take care of pet birds')\n",
    "\n",
    "h1 = Humans()\n",
    "h1.pet_animals()\n",
    "h1.pet_birds()\n",
    "h1.wild_animals()\n",
    "h1.wild_birds()"
   ]
  },
  {
   "cell_type": "code",
   "execution_count": null,
   "metadata": {},
   "outputs": [],
   "source": []
  }
 ],
 "metadata": {
  "kernelspec": {
   "display_name": "pyspiders_venv",
   "language": "python",
   "name": "python3"
  },
  "language_info": {
   "codemirror_mode": {
    "name": "ipython",
    "version": 3
   },
   "file_extension": ".py",
   "mimetype": "text/x-python",
   "name": "python",
   "nbconvert_exporter": "python",
   "pygments_lexer": "ipython3",
   "version": "3.11.7"
  }
 },
 "nbformat": 4,
 "nbformat_minor": 2
}
