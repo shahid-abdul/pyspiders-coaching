{
 "cells": [
  {
   "cell_type": "markdown",
   "metadata": {},
   "source": [
    "#### Look Ahead (Positive and Negative)\n",
    "\n",
    "    Positive Look Ahead ((?=...)): Asserts that a pattern must be followed by another pattern.\n",
    "    \n",
    "    Negative Look Ahead ((?!...)): Asserts that a pattern must not be followed by another pattern."
   ]
  },
  {
   "cell_type": "markdown",
   "metadata": {},
   "source": [
    "### Password Validation Example (Lookahead)"
   ]
  },
  {
   "cell_type": "markdown",
   "metadata": {},
   "source": [
    "Requirement: Find passwords that:\n",
    "\n",
    "    Contain at least one digit ((?=.*\\d))\n",
    "\n",
    "    Contain at least one special character ((?=.*[@#$%]))\n",
    "\n",
    "    Are 8-20 characters long (.{8,20})"
   ]
  },
  {
   "cell_type": "code",
   "execution_count": null,
   "metadata": {},
   "outputs": [],
   "source": [
    "import re\n",
    "\n",
    "pattern = r'^(?=.*\\d)(?=.*[@#$%]).{8,20}$'\n",
    "passwords = [\"weak\", \"strong1#\", \"nogood1\", \"excellent9$\"]\n",
    "\n",
    "for pwd in passwords:\n",
    "    if re.fullmatch(pattern, pwd):\n",
    "        print(f\"'{pwd}' is valid\")\n",
    "    else:\n",
    "        print(f\"'{pwd}' is invalid\") "
   ]
  },
  {
   "cell_type": "code",
   "execution_count": null,
   "metadata": {},
   "outputs": [],
   "source": []
  },
  {
   "cell_type": "markdown",
   "metadata": {},
   "source": [
    "Structure:\n",
    "\n",
    "    (?= ... ) → Positive lookahead (checks ahead but doesn't consume characters)\n",
    "\n",
    "    .* → Matches any characters (except newlines) zero or more times\n",
    "\n",
    "    \\d → Matches any digit (0-9)"
   ]
  },
  {
   "cell_type": "markdown",
   "metadata": {},
   "source": [
    "Meaning:\n",
    "\n",
    "    (?=.*\\d) means:\n",
    "\n",
    "    \"Assert that somewhere after the current position, there is at least one digit\""
   ]
  },
  {
   "cell_type": "code",
   "execution_count": null,
   "metadata": {},
   "outputs": [],
   "source": []
  },
  {
   "cell_type": "markdown",
   "metadata": {},
   "source": [
    "Structure:\n",
    "\n",
    "    (?= ... ) → Positive lookahead (checks ahead without consuming characters)\n",
    "\n",
    "    .* → Matches any characters (except newlines) zero or more times\n",
    "\n",
    "    [@#$%] → Character class matching any one of these symbols: @, #, $, or %"
   ]
  },
  {
   "cell_type": "markdown",
   "metadata": {},
   "source": [
    "Meaning:\n",
    "\n",
    "    (?=.*[@#$%]) means:\n",
    "    \n",
    "    \"Assert that somewhere after the current position, there is at least one of these special characters: @, #, $, or %\""
   ]
  },
  {
   "cell_type": "code",
   "execution_count": null,
   "metadata": {},
   "outputs": [],
   "source": []
  },
  {
   "cell_type": "markdown",
   "metadata": {},
   "source": [
    "#### Look Behind (Positive and Negative)\n",
    "\n",
    "    Positive Look Behind ((?<=...)): Asserts that a pattern must be preceded by another pattern.\n",
    "    \n",
    "    Negative Look Behind ((?<!...)): Asserts that a pattern must not be preceded by another pattern.\n"
   ]
  },
  {
   "cell_type": "code",
   "execution_count": null,
   "metadata": {},
   "outputs": [],
   "source": []
  },
  {
   "cell_type": "markdown",
   "metadata": {},
   "source": [
    "### Currency Amounts (Lookbehind)"
   ]
  },
  {
   "cell_type": "code",
   "execution_count": 2,
   "metadata": {},
   "outputs": [
    {
     "name": "stdout",
     "output_type": "stream",
     "text": [
      "['20', '45.50']\n"
     ]
    }
   ],
   "source": [
    "import re\n",
    "text = \"Items cost $20, €30, and $45.50 each.\"\n",
    "\n",
    "# Positive lookbehind for $\n",
    "prices = re.findall(r'(?<=\\$)\\d+\\.?\\d*', text)\n",
    "print(prices)  "
   ]
  },
  {
   "cell_type": "code",
   "execution_count": 3,
   "metadata": {},
   "outputs": [
    {
     "name": "stdout",
     "output_type": "stream",
     "text": [
      "['20', '45.50']\n"
     ]
    }
   ],
   "source": [
    "text = \"Items cost $20, €30, and $45.50 each.\"\n",
    "\n",
    "# Match $ followed by number and capture only the number\n",
    "prices = re.findall(r'\\$(\\d+\\.?\\d*)', text)\n",
    "\n",
    "print(prices)"
   ]
  },
  {
   "cell_type": "markdown",
   "metadata": {},
   "source": [
    "The Pattern: (?<=\\$)\\d+\\.?\\d*'\n",
    "\n",
    "(?<=\\$) - Positive Lookbehind Assertion\n",
    "\n",
    "    (?<=...) means \"must be preceded by...\"\n",
    "    \n",
    "    \\$ matches a literal dollar sign ($ needs escaping)\n",
    "    \n"
   ]
  },
  {
   "cell_type": "markdown",
   "metadata": {},
   "source": [
    "\\d+ - Matches the Whole Number Part\n",
    "\n",
    "    \\d matches any digit (0-9)\n",
    "\n",
    "    + means \"one or more\" digits\n"
   ]
  },
  {
   "cell_type": "markdown",
   "metadata": {},
   "source": [
    "\\.? - Optional Decimal Point\n",
    "\n",
    "    \\. matches a literal dot (decimal point)\n",
    "\n",
    "    ? makes it optional (0 or 1 occurrence)"
   ]
  },
  {
   "cell_type": "markdown",
   "metadata": {},
   "source": [
    "\\d* - Matches Optional Decimal Places\n",
    "\n",
    "    \\d matches digits\n",
    "\n",
    "    * means \"zero or more\" digits\n"
   ]
  },
  {
   "cell_type": "markdown",
   "metadata": {},
   "source": [
    "⚖️ Why Use Lookbehind?\n",
    "Use lookbehind when:\n",
    "\n",
    "    You want to ensure a specific prefix (like $) exists\n",
    "\n",
    "    But you don’t want it included in your match"
   ]
  },
  {
   "cell_type": "code",
   "execution_count": null,
   "metadata": {},
   "outputs": [],
   "source": [
    "text = \"Items cost $20, €30, and $45.50 each.\"\n",
    "\n",
    "# Match $ or € followed by number\n",
    "prices = re.findall(r'[\\$€](\\d+\\.?\\d*)', text)\n",
    "print(prices)"
   ]
  },
  {
   "cell_type": "code",
   "execution_count": null,
   "metadata": {},
   "outputs": [],
   "source": []
  },
  {
   "cell_type": "markdown",
   "metadata": {},
   "source": [
    "### examples"
   ]
  },
  {
   "cell_type": "code",
   "execution_count": 4,
   "metadata": {},
   "outputs": [
    {
     "name": "stdout",
     "output_type": "stream",
     "text": [
      "['Python', 'Java']\n"
     ]
    }
   ],
   "source": [
    "import re\n",
    "\n",
    "text = \"Hello Python world, Hello Java world, Hi Python universe\"\n",
    "pattern = r'(?<=Hello )\\w+(?= world)'  # Match a word between \"Hello\" and \"world\"\n",
    "\n",
    "matches = re.findall(pattern, text)\n",
    "print(matches)  "
   ]
  },
  {
   "cell_type": "markdown",
   "metadata": {},
   "source": [
    "#### Password Valid \n",
    "(e.g., at least one uppercase letter, one digit, and one special character)."
   ]
  },
  {
   "cell_type": "code",
   "execution_count": null,
   "metadata": {},
   "outputs": [],
   "source": [
    "import re\n",
    "\n",
    "password = \"Passw0rd!\"\n",
    "pattern = r'^(?=.*[A-Z])(?=.*\\d)(?=.*[@$!%*?&])[A-Za-z\\d@$!%*?&]{8,}$'\n",
    "\n",
    "if re.match(pattern, password):\n",
    "    print(\"Valid password!\")\n",
    "else:\n",
    "    print(\"Invalid password!\")"
   ]
  },
  {
   "cell_type": "markdown",
   "metadata": {},
   "source": [
    "Explanation:\n",
    "    \n",
    "    (?=.*[A-Z]): At least one uppercase letter.\n",
    "    \n",
    "    (?=.*\\d): At least one digit.\n",
    "    \n",
    "    (?=.*[@$!%*?&]): At least one special character.\n",
    "    \n",
    "    [A-Za-z\\d@$!%*?&]{8,}: Match the entire password with at least 8 characters."
   ]
  },
  {
   "cell_type": "code",
   "execution_count": 5,
   "metadata": {},
   "outputs": [
    {
     "name": "stdout",
     "output_type": "stream",
     "text": [
      "['2023-10-25', '2023-11-20']\n"
     ]
    }
   ],
   "source": [
    "import re\n",
    "\n",
    "text = \"Date: 2023-10-25, Event: Conference, Date: 2023-11-20\"\n",
    "pattern = r'(?<=Date: )\\d{4}-\\d{2}-\\d{2}'  # Match dates preceded by \"Date: \"\n",
    "\n",
    "matches = re.findall(pattern, text)\n",
    "print(matches)  "
   ]
  },
  {
   "cell_type": "markdown",
   "metadata": {},
   "source": [
    "#### Split a string at commas, but keep the commas"
   ]
  },
  {
   "cell_type": "code",
   "execution_count": null,
   "metadata": {},
   "outputs": [],
   "source": [
    "import re\n",
    "\n",
    "text = \"apple,banana,orange,mango\"\n",
    "pattern = r'(?=,)' \n",
    "\n",
    "result = re.split(pattern, text)\n",
    "print(result)  "
   ]
  },
  {
   "cell_type": "code",
   "execution_count": null,
   "metadata": {},
   "outputs": [],
   "source": []
  }
 ],
 "metadata": {
  "kernelspec": {
   "display_name": "Python 3 (ipykernel)",
   "language": "python",
   "name": "python3"
  },
  "language_info": {
   "codemirror_mode": {
    "name": "ipython",
    "version": 3
   },
   "file_extension": ".py",
   "mimetype": "text/x-python",
   "name": "python",
   "nbconvert_exporter": "python",
   "pygments_lexer": "ipython3",
   "version": "3.12.7"
  }
 },
 "nbformat": 4,
 "nbformat_minor": 4
}
