{
 "cells": [
  {
   "cell_type": "code",
   "execution_count": 3,
   "metadata": {},
   "outputs": [
    {
     "name": "stdout",
     "output_type": "stream",
     "text": [
      "1\n",
      "2\n",
      "3\n",
      "loop has been ended\n"
     ]
    }
   ],
   "source": [
    "for i in range(1,10):\n",
    "    if i == 4:\n",
    "        print(\"loop has been ended\")\n",
    "        break\n",
    "    print(i)"
   ]
  },
  {
   "cell_type": "code",
   "execution_count": 1,
   "metadata": {},
   "outputs": [
    {
     "name": "stdout",
     "output_type": "stream",
     "text": [
      "a\n"
     ]
    }
   ],
   "source": [
    "n = input(\"Enter a character: \")\n",
    "small = 0\n",
    "capital = 0\n",
    "numeric = 0\n",
    "ascii = 0\n",
    "\n",
    "if n >= 'A' and n <= 'Z':\n",
    "    small = ord(n)+32\n",
    "    # print(f\"Small letter of {n} is {chr(small)}\")\n",
    "    print(chr(ord(n)+32))\n",
    "elif n >= 'a' and n <= 'z':\n",
    "    capital = ord(n)-32\n",
    "    print(f\"Capital letter of {n} is {chr(capital)}\")\n",
    "elif n >= '0' and n <= '9':\n",
    "    print(ord(n)**2)\n",
    "else:\n",
    "    ascii = ord(n) + 5\n",
    "    print(chr(ascii))"
   ]
  },
  {
   "cell_type": "code",
   "execution_count": 33,
   "metadata": {},
   "outputs": [
    {
     "name": "stdout",
     "output_type": "stream",
     "text": [
      "l\n",
      "s\n",
      "h\n",
      "a\n",
      "h\n",
      "i\n",
      "d\n"
     ]
    }
   ],
   "source": [
    "n = input(\"Enter the string: \")\n",
    "i = 0\n",
    "while i < len(n):\n",
    "    if n[i] >= 'a' and n[i] <= 'z':\n",
    "        print(n[i])\n",
    "    i += 1"
   ]
  },
  {
   "cell_type": "code",
   "execution_count": 1,
   "metadata": {},
   "outputs": [
    {
     "name": "stdout",
     "output_type": "stream",
     "text": [
      "Not Weird\n"
     ]
    }
   ],
   "source": [
    "n = int(input())\n",
    "\n",
    "if n%2==0 and (n>=2 and n<=5):\n",
    "    print(\"Not Weird\")\n",
    "elif n%2==0 and (n>=6 and n<=20):\n",
    "    print(\"Weird\")\n",
    "elif n%2==0 and (n>20):\n",
    "    print(\"Not Weird\")\n",
    "else:\n",
    "    print(\"Weird\")"
   ]
  },
  {
   "cell_type": "code",
   "execution_count": 2,
   "metadata": {},
   "outputs": [
    {
     "name": "stdout",
     "output_type": "stream",
     "text": [
      "14\n",
      "6\n",
      "40\n"
     ]
    }
   ],
   "source": [
    "a = int(input())\n",
    "b = int(input())\n",
    "\n",
    "print(a+b)\n",
    "print(a-b)\n",
    "print(a*b)"
   ]
  },
  {
   "cell_type": "code",
   "execution_count": 3,
   "metadata": {},
   "outputs": [
    {
     "name": "stdout",
     "output_type": "stream",
     "text": [
      "5\n",
      "5.0\n"
     ]
    }
   ],
   "source": [
    "a = int(input())\n",
    "b = int(input())\n",
    "\n",
    "print(a//b)\n",
    "print(a/b)"
   ]
  },
  {
   "cell_type": "code",
   "execution_count": 5,
   "metadata": {},
   "outputs": [
    {
     "name": "stdout",
     "output_type": "stream",
     "text": [
      "0\n",
      "1\n",
      "4\n"
     ]
    }
   ],
   "source": [
    "n = int(input())\n",
    "\n",
    "# for i in range(5):\n",
    "#     print(i**2)\n",
    "\n",
    "i = 0\n",
    "while i < n:\n",
    "    print(i**2)\n",
    "    i+=1\n"
   ]
  },
  {
   "cell_type": "code",
   "execution_count": 6,
   "metadata": {},
   "outputs": [
    {
     "name": "stdout",
     "output_type": "stream",
     "text": [
      "True\n"
     ]
    }
   ],
   "source": [
    "def is_leap(year):\n",
    "    \n",
    "    if (year%4 == 0 and year%100 != 0) or (year%400 == 0):\n",
    "        return True\n",
    "    else:\n",
    "        return False\n",
    "year = int(input())\n",
    "print(is_leap(year))"
   ]
  },
  {
   "cell_type": "code",
   "execution_count": 7,
   "metadata": {},
   "outputs": [
    {
     "name": "stdout",
     "output_type": "stream",
     "text": [
      "123"
     ]
    }
   ],
   "source": [
    "n = int(input())\n",
    "for i in range(1,n+1):\n",
    "    print(str(i),end=\"\")"
   ]
  },
  {
   "cell_type": "markdown",
   "metadata": {},
   "source": [
    "# Pattern Printing"
   ]
  },
  {
   "cell_type": "code",
   "execution_count": 10,
   "metadata": {},
   "outputs": [
    {
     "name": "stdout",
     "output_type": "stream",
     "text": [
      "* \n",
      "* * \n",
      "* * * \n",
      "* * * * \n"
     ]
    }
   ],
   "source": [
    "# Right angle triangle\n",
    "n = int(input(\"Enter the rows: \"))\n",
    "\n",
    "for i in range(1,n+1):\n",
    "    print('* ' * i)"
   ]
  },
  {
   "cell_type": "code",
   "execution_count": 11,
   "metadata": {},
   "outputs": [
    {
     "name": "stdout",
     "output_type": "stream",
     "text": [
      "* * * * * \n",
      "* * * * \n",
      "* * * \n",
      "* * \n",
      "* \n",
      "\n"
     ]
    }
   ],
   "source": [
    "# Inverted Right angle triangle\n",
    "n = int(input(\"Enter the rows: \"))\n",
    "i = 0\n",
    "while n >= i:\n",
    "    print('* ' * n)\n",
    "    n -= 1"
   ]
  },
  {
   "cell_type": "code",
   "execution_count": 32,
   "metadata": {},
   "outputs": [
    {
     "name": "stdout",
     "output_type": "stream",
     "text": [
      "    *\n",
      "   ***\n",
      "  *****\n",
      " *******\n"
     ]
    }
   ],
   "source": [
    "n = int(input(\"Enter the rows: \"))\n",
    "\n",
    "for i in range(1,n+1):\n",
    "    print(\" \" * (n-i), end=\" \")\n",
    "    print(\"*\" * (2 * i - 1))"
   ]
  },
  {
   "cell_type": "code",
   "execution_count": 19,
   "metadata": {},
   "outputs": [
    {
     "name": "stdout",
     "output_type": "stream",
     "text": [
      "30\n",
      "10\n"
     ]
    }
   ],
   "source": [
    "# a = int(input(\"Enter a: \"))\n",
    "# b = int(input(\"Enter b: \"))\n",
    "\n",
    "a = 10\n",
    "b = 30\n",
    "\n",
    "a = b^a\n",
    "b = a^b\n",
    "a = a^b\n",
    "print(a)\n",
    "print(b)\n",
    "\n",
    "\n"
   ]
  },
  {
   "cell_type": "code",
   "execution_count": 24,
   "metadata": {},
   "outputs": [
    {
     "name": "stdout",
     "output_type": "stream",
     "text": [
      "11 is odd\n"
     ]
    }
   ],
   "source": [
    "a = int(input('Enter a: '))\n",
    "if a & 1 == 0:\n",
    "    print(f'{a} is even')\n",
    "else:\n",
    "    print(f'{a} is odd')"
   ]
  },
  {
   "cell_type": "code",
   "execution_count": 8,
   "metadata": {},
   "outputs": [
    {
     "name": "stdout",
     "output_type": "stream",
     "text": [
      "Double spaces found..\n",
      "  Abdul is a good boy\n",
      " Abdul is a good boy\n"
     ]
    }
   ],
   "source": [
    "s = '  Abdul is a good boy'\n",
    "if \"  \" in s:\n",
    "    print(\"Double spaces found..\")\n",
    "else:\n",
    "    print(\"No double spaces found..\")\n",
    "\n",
    "print(s)\n",
    "print(s.replace(\"  \",\" \"))\n",
    "# print(s.replace(\"  \",\"\"))"
   ]
  },
  {
   "cell_type": "code",
   "execution_count": 1,
   "metadata": {},
   "outputs": [
    {
     "name": "stdout",
     "output_type": "stream",
     "text": [
      "a is 10 and b is 20 and c is 30\n"
     ]
    }
   ],
   "source": [
    "a = 10\n",
    "b = 20\n",
    "c = 30\n",
    "\n",
    "print('a is {} and b is {} and c is {}'.format(a,b,c))"
   ]
  },
  {
   "cell_type": "code",
   "execution_count": 3,
   "metadata": {},
   "outputs": [
    {
     "name": "stdout",
     "output_type": "stream",
     "text": [
      "a is 10 and b is '20' and c is 30\n"
     ]
    }
   ],
   "source": [
    "a = 10\n",
    "b = 20\n",
    "c = 30\n",
    "\n",
    "print(\"a is {} and b is '{}' and c is {}\".format(a,b,c))"
   ]
  },
  {
   "cell_type": "code",
   "execution_count": 10,
   "metadata": {},
   "outputs": [
    {
     "name": "stdout",
     "output_type": "stream",
     "text": [
      "1\n"
     ]
    }
   ],
   "source": [
    "print(7&1)"
   ]
  },
  {
   "cell_type": "code",
   "execution_count": 11,
   "metadata": {},
   "outputs": [
    {
     "name": "stdout",
     "output_type": "stream",
     "text": [
      "11\n",
      "3\n",
      "3\n"
     ]
    }
   ],
   "source": [
    "print(10|1)\n",
    "print(2|1)\n",
    "print(3|1)"
   ]
  },
  {
   "cell_type": "code",
   "execution_count": 24,
   "metadata": {},
   "outputs": [
    {
     "name": "stdout",
     "output_type": "stream",
     "text": [
      "10\n",
      "12\n",
      "10\n",
      "12\n"
     ]
    }
   ],
   "source": [
    "\n",
    "\n",
    "print(11>>1<<1)\n",
    "print(13>>1<<1)\n",
    "\n",
    "print(10>>1<<1)\n",
    "print(12>>1<<1)"
   ]
  },
  {
   "cell_type": "code",
   "execution_count": null,
   "metadata": {},
   "outputs": [],
   "source": []
  }
 ],
 "metadata": {
  "kernelspec": {
   "display_name": "pyspiders_venv",
   "language": "python",
   "name": "python3"
  },
  "language_info": {
   "codemirror_mode": {
    "name": "ipython",
    "version": 3
   },
   "file_extension": ".py",
   "mimetype": "text/x-python",
   "name": "python",
   "nbconvert_exporter": "python",
   "pygments_lexer": "ipython3",
   "version": "3.11.7"
  }
 },
 "nbformat": 4,
 "nbformat_minor": 2
}
