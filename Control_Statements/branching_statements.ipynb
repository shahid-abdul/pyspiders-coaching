{
 "cells": [
  {
   "cell_type": "markdown",
   "metadata": {},
   "source": [
    "## 1. if statement"
   ]
  },
  {
   "cell_type": "code",
   "execution_count": 2,
   "metadata": {},
   "outputs": [],
   "source": [
    "num = int(input(\"Enter a value: \"))\n",
    "if (num == 1):\n",
    "    print(\"helo pyspiders\")"
   ]
  },
  {
   "cell_type": "code",
   "execution_count": 4,
   "metadata": {},
   "outputs": [
    {
     "name": "stdout",
     "output_type": "stream",
     "text": [
      "helo rithu\n"
     ]
    }
   ],
   "source": [
    "num = int(input(\"Enter a value: \"))\n",
    "if (num >= 50 and num <= 100):\n",
    "    print(\"helo rithu\")"
   ]
  },
  {
   "cell_type": "markdown",
   "metadata": {},
   "source": [
    "# 2. if else statement"
   ]
  },
  {
   "cell_type": "code",
   "execution_count": 6,
   "metadata": {},
   "outputs": [
    {
     "name": "stdout",
     "output_type": "stream",
     "text": [
      "20 is not a single digit\n"
     ]
    }
   ],
   "source": [
    "# To check the number is sigle digit or not\n",
    "num = int(input(\"Enter a value: \"))\n",
    "if (num < 10 and num > -10):\n",
    "    print(num, \"is a single digit\")\n",
    "else:\n",
    "    print(num, \"is not a single digit\")"
   ]
  },
  {
   "cell_type": "code",
   "execution_count": 7,
   "metadata": {},
   "outputs": [
    {
     "name": "stdout",
     "output_type": "stream",
     "text": [
      "999 is not a double digit\n"
     ]
    }
   ],
   "source": [
    "# To check the number is double digit or not\n",
    "num = int(input(\"Enter a value: \"))\n",
    "if (num > 9 and num < 100 or num < -9 and num > -100):\n",
    "    print(num, \"is a double digit\")\n",
    "else:\n",
    "    print(num, \"is not a double digit\")"
   ]
  },
  {
   "cell_type": "code",
   "execution_count": 15,
   "metadata": {},
   "outputs": [
    {
     "name": "stdout",
     "output_type": "stream",
     "text": [
      "-777 is a triple digit\n"
     ]
    }
   ],
   "source": [
    "# To check the number is triple digit or not\n",
    "num = int(input(\"Enter a value: \"))\n",
    "if (num > 99 and num < 1000 or num < -99 and num > -1000):\n",
    "    print(num, \"is a triple digit\")\n",
    "else:\n",
    "    print(num, \"is not a triple digit\")"
   ]
  },
  {
   "cell_type": "code",
   "execution_count": 9,
   "metadata": {},
   "outputs": [
    {
     "name": "stdout",
     "output_type": "stream",
     "text": [
      "23  is a odd value\n"
     ]
    }
   ],
   "source": [
    "# To check the number is even or not\n",
    "val = int(input(\"Enter a value: \"))\n",
    "if(val%2 == 0):\n",
    "    print(val, \"is a even value\")\n",
    "else:\n",
    "    print(val, \" is a odd value\")\n",
    "\n",
    "#another method\n",
    "\n",
    "#val = int(input(\"Enter a value: \"))\n",
    "#if(val%2 == 1):\n",
    "#    print(val, \"is a odd value\")\n",
    "#else:\n",
    "#    print(val, \" is a even value\")"
   ]
  },
  {
   "cell_type": "code",
   "execution_count": 20,
   "metadata": {},
   "outputs": [
    {
     "name": "stdout",
     "output_type": "stream",
     "text": [
      "22 is a even number\n"
     ]
    }
   ],
   "source": [
    "# checking for even or odd number without % operator\n",
    "val = int(input(\"Enter a value: \"))\n",
    "if((val//2)*2 == val):\n",
    "    print(val, \"is a even number\")\n",
    "else:\n",
    "    print(val, \"is a odd number\")"
   ]
  },
  {
   "cell_type": "code",
   "execution_count": 11,
   "metadata": {},
   "outputs": [
    {
     "name": "stdout",
     "output_type": "stream",
     "text": [
      "2020 is a leap year\n"
     ]
    }
   ],
   "source": [
    "# To check the year is leap year or not\n",
    "year = int(input(\"Enter the year: \"))\n",
    "if (year%4 == 0 and year%100 != 0) or (year%400 == 0):\n",
    "    print(year, \"is a leap year\")\n",
    "else:\n",
    "    print(year, \"is not a leap year\")"
   ]
  },
  {
   "cell_type": "code",
   "execution_count": 12,
   "metadata": {},
   "outputs": [
    {
     "name": "stdout",
     "output_type": "stream",
     "text": [
      "u is a vowel\n"
     ]
    }
   ],
   "source": [
    "# To determine the given character is vowel or consonent\n",
    "char = input(\"Enter a alphabet letter:\")\n",
    "vowels = \"aeiouAEIOU\"\n",
    "if (char in vowels):\n",
    "    print(char, \"is a vowel\")\n",
    "else:\n",
    "    print(char, \"is not a vowel\")\n"
   ]
  },
  {
   "cell_type": "code",
   "execution_count": 13,
   "metadata": {},
   "outputs": [
    {
     "name": "stdout",
     "output_type": "stream",
     "text": [
      "3 4 5 are pythogorean triples\n"
     ]
    }
   ],
   "source": [
    "# To check the given three numbers are pythogorean triples are not\n",
    "a = int(input(\"Enter first number: \"))\n",
    "b = int(input(\"Enter second number: \"))\n",
    "c = int(input(\"Enter third number: \"))\n",
    "if (a**2 + b**2 == c**2):\n",
    "    print(a,b,c, \"are pythogorean triples\")\n",
    "else:\n",
    "    print(a,b,c, \"are not pythogorean triples\")"
   ]
  },
  {
   "cell_type": "code",
   "execution_count": 13,
   "metadata": {},
   "outputs": [
    {
     "name": "stdout",
     "output_type": "stream",
     "text": [
      "64 is a perfect square root\n"
     ]
    }
   ],
   "source": [
    "import math\n",
    "number = int(input(\"Enter a number\"))\n",
    "root = math.sqrt(number)\n",
    "\n",
    "\n",
    "if (root*root == number):\n",
    "    print(number, \"is a perfect square root\")\n",
    "else:\n",
    "    print(number, \"is not a prefect square root\")"
   ]
  },
  {
   "cell_type": "code",
   "execution_count": 15,
   "metadata": {},
   "outputs": [
    {
     "name": "stdout",
     "output_type": "stream",
     "text": [
      "% is not an alphabet\n"
     ]
    }
   ],
   "source": [
    "# To check the character entered is an alphabet or not\n",
    "char = input(\"Enter a character\")\n",
    "if (char >= 'a' and char <= 'z') or (char >= 'A' and char <= 'Z'):\n",
    "    print(char, \"is an alphabet\")\n",
    "else:\n",
    "    print(char, \"is not an alphabet\")"
   ]
  },
  {
   "cell_type": "code",
   "execution_count": 2,
   "metadata": {},
   "outputs": [
    {
     "name": "stdout",
     "output_type": "stream",
     "text": [
      "2 is positive integer\n"
     ]
    }
   ],
   "source": [
    "# To verify entered integer is positive or not\n",
    "num = int(input(\"Enter a number\"))\n",
    "if (num > 0):\n",
    "    print(num, \"is positive integer\")\n",
    "else:\n",
    "    print(num, \"is not a positive integer\")"
   ]
  },
  {
   "cell_type": "markdown",
   "metadata": {},
   "source": [
    "# 3. if elif statement"
   ]
  },
  {
   "cell_type": "code",
   "execution_count": 18,
   "metadata": {},
   "outputs": [
    {
     "name": "stdout",
     "output_type": "stream",
     "text": [
      "The number entered is zero\n"
     ]
    }
   ],
   "source": [
    "# To check the given number is positive, negative or zero\n",
    "num = int(input(\"Enter a number: \"))\n",
    "if (num > 0):\n",
    "    print(num, \"is a positive number\")\n",
    "elif (num < 0):\n",
    "    print(num, \"is a negative number\")\n",
    "else:\n",
    "    print(\"The number entered is zero\")"
   ]
  },
  {
   "cell_type": "code",
   "execution_count": 22,
   "metadata": {},
   "outputs": [
    {
     "name": "stdout",
     "output_type": "stream",
     "text": [
      "E10 is a upper case alphabet\n"
     ]
    }
   ],
   "source": [
    "# Entered character is upper case alphabet or lower case alphabet or numeric string or special character\n",
    "val = input(\"Enter a string: \")\n",
    "if (val >= 'A' and val <= 'Z'):\n",
    "    print(val, \"is a upper case alphabet\")\n",
    "elif (val >= 'a' and val <= 'z'):\n",
    "    print(val, \"is a lower case alphabet\")\n",
    "elif (val >= '0' and val <= '9'):\n",
    "    print(val, \"is a numeric value\")\n",
    "else:\n",
    "    print(val, \"is special character\")"
   ]
  },
  {
   "cell_type": "code",
   "execution_count": 24,
   "metadata": {},
   "outputs": [
    {
     "name": "stdout",
     "output_type": "stream",
     "text": [
      "Your percentage is: 91.33333333333333\n",
      "You got A Grade..\n"
     ]
    }
   ],
   "source": [
    "# program to check the grade\n",
    "sub1 = int(input(\"Enter marks in python: \"))\n",
    "sub2 = int(input(\"Enter marks in sql: \"))\n",
    "sub3 = int(input(\"Enter marks in aptitude: \"))\n",
    "total = ((sub1+sub2+sub3)/300)*100\n",
    "print(\"Your percentage is:\",total)\n",
    "if (total>90 and total<100):\n",
    "    print(\"You got A Grade..\")\n",
    "elif (total>80 and total<91):\n",
    "    print(\"You got B Grade..\")\n",
    "elif (total>35 and total<81):\n",
    "    print(\"You got C Grade..\")\n",
    "else:\n",
    "    print(\"Better luck next time..\")"
   ]
  },
  {
   "cell_type": "code",
   "execution_count": 27,
   "metadata": {},
   "outputs": [
    {
     "name": "stdout",
     "output_type": "stream",
     "text": [
      "abdul\n",
      "You are a senior citizen..\n"
     ]
    }
   ],
   "source": [
    "# Program to check age criteria\n",
    "name = input(\"Enter your name: \")\n",
    "age = int(input(\"Enter your age: \"))\n",
    "if (age<10 and age>0):\n",
    "    print(\"You are child..\")\n",
    "elif (age<19 and age>9):\n",
    "    print(\"Your a teenager..\")\n",
    "elif (age<60 and age>21):\n",
    "    print(\"You are an adult..\")\n",
    "else:\n",
    "    print(name)\n",
    "    print(\"You are a senior citizen..\")\n"
   ]
  },
  {
   "cell_type": "code",
   "execution_count": 29,
   "metadata": {},
   "outputs": [
    {
     "name": "stdout",
     "output_type": "stream",
     "text": [
      "2100 is a century year..\n"
     ]
    }
   ],
   "source": [
    "# To check the year is leap year or century year or non leap year\n",
    "year = int(input(\"Enter the year: \"))\n",
    "if (year%4 == 0 and year%100 != 0) or (year%400 == 0):\n",
    "    print(year, \"is a leap year..\")\n",
    "elif (year%100 == 0):\n",
    "    print(year, \"is a century year..\")\n",
    "else:\n",
    "    print(year, \"is not a leap year..\")"
   ]
  },
  {
   "cell_type": "markdown",
   "metadata": {},
   "source": [
    "# 4. nested if statement"
   ]
  },
  {
   "cell_type": "code",
   "execution_count": 32,
   "metadata": {},
   "outputs": [
    {
     "name": "stdout",
     "output_type": "stream",
     "text": [
      "A is a vowel\n"
     ]
    }
   ],
   "source": [
    "# To check the alphabet is vowel, consonent or not an alphabet\n",
    "n = input(\"Enter a character: \")\n",
    "if (n >= 'A' and n <= 'Z') or (n >= 'a' and n <= 'z'):\n",
    "    if (n in \"AEIOUaeiou\"):\n",
    "        print(n, \"is a vowel\")\n",
    "    else:\n",
    "        print(n, \"is a consonent\")\n",
    "else:\n",
    "    print(n, \"is a not an alphabet\")"
   ]
  },
  {
   "cell_type": "code",
   "execution_count": 22,
   "metadata": {},
   "outputs": [
    {
     "name": "stdout",
     "output_type": "stream",
     "text": [
      "Your percentage is: 94.0\n",
      "You got A Grade..\n"
     ]
    }
   ],
   "source": [
    "# program to check the grade\n",
    "sub1 = int(input(\"Enter marks in python: \"))\n",
    "sub2 = int(input(\"Enter marks in sql: \"))\n",
    "sub3 = int(input(\"Enter marks in aptitude: \"))\n",
    "percentage = ((sub1+sub2+sub3)/300)*100\n",
    "print(\"Your percentage is:\",total)\n",
    "if (sub1>0 and sub1<100) and (sub2>0 and sub2<100) and (sub3>0 and sub3<100):\n",
    "    if (percentage>90 and percentage<100):\n",
    "        print(\"You got A Grade..\")\n",
    "    elif (percentage>80 and percentage<91):\n",
    "        print(\"You got B Grade..\")\n",
    "    elif (percentage>35 and percentage<81):\n",
    "        print(\"You got C Grade..\")\n",
    "    else:\n",
    "        print(\"Better luck next time..\")\n",
    "else:\n",
    "    print(\"Please enter valid marks\")"
   ]
  },
  {
   "cell_type": "code",
   "execution_count": 23,
   "metadata": {},
   "outputs": [
    {
     "name": "stdout",
     "output_type": "stream",
     "text": [
      "You are eligible fot loan upto 1000000...\n"
     ]
    }
   ],
   "source": [
    "# program to check for loan eligibility\n",
    "credit_score = int(input(\"Enter your credit score: \"))\n",
    "salary = int(input(\"Enter your annual income: \"))\n",
    "if (credit_score>740 and credit_score<900):\n",
    "    if(salary>=100000 and salary<=300000):\n",
    "        print(\"You are eligible for loan upto 1 lakh...\")\n",
    "    elif(salary>300000 and salary<=500000):\n",
    "        print(\"You are eligible fot loan upto 10 lakh...\")\n",
    "    elif(salary>500000 and salary<=1000000):\n",
    "        print(\"You are eligible for loan upto 20 lakh...\")\n",
    "    else:\n",
    "        print(\"You are eligible for loan upto 50 lakh...\")\n",
    "else:\n",
    "    print(\"Your credit score is not ment for our loan criteria\")"
   ]
  },
  {
   "cell_type": "code",
   "execution_count": 34,
   "metadata": {},
   "outputs": [
    {
     "name": "stdout",
     "output_type": "stream",
     "text": [
      "You are not eligible for voting...\n"
     ]
    }
   ],
   "source": [
    "# vote criteria checking\n",
    "a = input(\"Enter your gender\\n male\\t female\\t   other\\n option: \").lower()\n",
    "b = [\"male\", \"female\", \"other\"]\n",
    "if (a in b):\n",
    "    age = int(input(\"Enter your age: \"))\n",
    "    if (a in [\"male\", \"other\"]) and (age >= 18 and age <=65):\n",
    "        print(\"You are eligible for voting...\")\n",
    "    elif (a == \"female\") and (age >= 21 and age <= 45):\n",
    "        print(\"You are eligible for voting..\")\n",
    "    else:\n",
    "        print(\"You are not eligible for voting...\")\n",
    "else:\n",
    "    print(\"Please enter a valid gender...\")"
   ]
  },
  {
   "cell_type": "code",
   "execution_count": 34,
   "metadata": {},
   "outputs": [
    {
     "name": "stdout",
     "output_type": "stream",
     "text": [
      "rithu You are not eligible to vote...\n"
     ]
    }
   ],
   "source": [
    "# another method to check vote eligibility\n",
    "# gen = input(\"Enter your gender\\n male\\t female\\t   other\\n option: \")\n",
    "# if (gen in [\"male\", \"female\"]):\n",
    "#     age = int(input(\"Enter your age: \"))\n",
    "#     if (gen in [\"male\", \"other\"]):\n",
    "#         if (age >= 18 and age <= 65):\n",
    "#             print(\"You are eligible to vote...\")\n",
    "#         else:\n",
    "#             print(\"You are not eligible to vote...\")\n",
    "#     else:\n",
    "#         if (age >= 21 and age <= 45):\n",
    "#             print(\"You are eligible to vote...\")\n",
    "#         else:\n",
    "#             print(\"You are not eligible to vote...\")\n",
    "# else:\n",
    "#     print(\"Please enter a valid gender...\")\n",
    "\n",
    "\n",
    "                        #or\n",
    "    \n",
    "\n",
    "# another method to check vote eligibility\n",
    "# gen = input(\"Enter your gender\\n male\\t female\\t   other\\n option: \")\n",
    "# if (gen in [\"male\", \"female\"]):\n",
    "#     name = input(\"Enter your name: \")\n",
    "#     age = int(input(\"Enter your age: \"))\n",
    "#     if ((gen in [\"male\", \"other\"] and (age >= 18 and age <= 65)) or (age >= 21 and age <= 45)):\n",
    "#         print(name,\"You are eligible to vote...\")\n",
    "#     else:\n",
    "#         print(name,\"You are not eligible to vote...\")\n",
    "# else:\n",
    "#     print(\"Please enter a valid gender...\")\n",
    "\n",
    "\n",
    "                        #or\n",
    "\n",
    "\n",
    "# another method to check vote eligibility\n",
    "gen = input(\"Enter your gender\\n male\\t female\\t   other\\n option: \")\n",
    "if (gen in [\"male\", \"female\"]):\n",
    "    name = input(\"Enter your name: \")\n",
    "    age = int(input(\"Enter your age: \"))\n",
    "    if ((gen in [\"male\", \"other\"] and (age in range(18,66))) or (age in range(21,46))):\n",
    "        print(name,\"You are eligible to vote...\")\n",
    "    else:\n",
    "        print(name,\"You are not eligible to vote...\")\n",
    "else:\n",
    "    print(\"Please enter a valid gender...\")"
   ]
  },
  {
   "cell_type": "code",
   "execution_count": 37,
   "metadata": {},
   "outputs": [
    {
     "name": "stdout",
     "output_type": "stream",
     "text": [
      "Addition of two numbers is:  56.0\n"
     ]
    }
   ],
   "source": [
    "# simple calculator\n",
    "operation = input(\"Please enter an operation to perform\\n +\\t -\\t* \\t/ \\n pick one\")\n",
    "if (operation in ['+','-','*','/']):\n",
    "    num1 = float(input(\"Enter your number: \"))\n",
    "    num2 = float(input(\"Enter your second number: \"))\n",
    "    if (operation == '+'):\n",
    "        print(\"Addition of two numbers is: \", (num1+num2))\n",
    "    elif (operation == '-'):\n",
    "        print(\"Subtraction of two numbers is: \", (num1-num2))\n",
    "    elif (operation == '*'):\n",
    "        print(\"Multiplication of two numbers is: \", (num1*num2))\n",
    "    else:\n",
    "        print(\"Division of two numbers is: \", (num1/num2))\n",
    "else:\n",
    "    print(\"Please Enter a valid operation...\")"
   ]
  },
  {
   "cell_type": "markdown",
   "metadata": {},
   "source": [
    "# match case statement"
   ]
  },
  {
   "cell_type": "code",
   "execution_count": 35,
   "metadata": {},
   "outputs": [
    {
     "name": "stdout",
     "output_type": "stream",
     "text": [
      "Thor\n"
     ]
    }
   ],
   "source": [
    "n = int(input(\"n: \"))\n",
    "\n",
    "match n:\n",
    "    case 1:\n",
    "        print(\"Iron Man\")\n",
    "    case 2:\n",
    "        print(\"Thor\")\n",
    "    case 3:\n",
    "        print(\"Spider Man\")\n",
    "    case _:\n",
    "        print(\"Abdul\")"
   ]
  },
  {
   "cell_type": "code",
   "execution_count": 41,
   "metadata": {},
   "outputs": [
    {
     "name": "stdout",
     "output_type": "stream",
     "text": [
      "2 4\n",
      "The exponent of entered values is:  16\n"
     ]
    }
   ],
   "source": [
    "# # calculator using case\n",
    "# num1 = int(input(\"Enter first number: \"))\n",
    "# num2 = int(input(\"Enter second number: \"))\n",
    "# print(num1,num2)\n",
    "\n",
    "# opp = input(\"Enter the operation to perform: \")\n",
    "\n",
    "# match opp:\n",
    "#     case '+':\n",
    "#         print(\"The sum of entered values is: \",num1+num2)\n",
    "#     case '-':\n",
    "#         print(\"The difference of entered values is: \",num1-num2)\n",
    "#     case '*':\n",
    "#         print(\"The multiplication of entered values is: \",num1*num2)\n",
    "#     case '/':\n",
    "#         print(\"The division of entered values is: \",num1/num2)\n",
    "#     case '//':\n",
    "#         print(\"The floor division of entered values is: \",num1//num2)\n",
    "#     case '**':\n",
    "#         print(\"The exponent of entered values is: \",num1**num2)\n",
    "#     case '%':\n",
    "#         print(\"The modulus of entered values is: \",num1%num2)\n",
    "    \n",
    "#     case _:\n",
    "#         print(opp, \"This operation cannot be performed\")\n",
    "\n",
    "                    #another method\n",
    "# calculator using case\n",
    "while(True):\n",
    "    \n",
    "    opp = input(\"Select operation to perform\\n +\\t -\\t *\\t /\\t **\\t //\\t cancle\\n operation: \")\n",
    "    num1 = int(input(\"Enter first number: \"))\n",
    "    num2 = int(input(\"Enter second number: \"))\n",
    "\n",
    "    match opp:\n",
    "        case '+':\n",
    "            print(\"The sum of entered values is: \",num1+num2)\n",
    "        case '-':\n",
    "            print(\"The difference of entered values is: \",num1-num2)\n",
    "        case '*':\n",
    "            print(\"The multiplication of entered values is: \",num1*num2)\n",
    "        case '/':\n",
    "            print(\"The division of entered values is: \",num1/num2)\n",
    "        case '//':\n",
    "            print(\"The floor division of entered values is: \",num1//num2)\n",
    "        case '**':\n",
    "            print(\"The exponent of entered values is: \",num1**num2)\n",
    "        case '%':\n",
    "            print(\"The modulus of entered values is: \",num1%num2)\n",
    "        case 'cancle':\n",
    "            break\n",
    "        case _:\n",
    "            print(opp, \"This operation cannot be performed\")\n",
    "            print(\"Please select one operator from above operations\")\n",
    "\n"
   ]
  },
  {
   "cell_type": "code",
   "execution_count": 1,
   "metadata": {},
   "outputs": [
    {
     "name": "stdout",
     "output_type": "stream",
     "text": [
      "Fourth day in a week is: Thursday\n"
     ]
    }
   ],
   "source": [
    "# checking the day\n",
    "day = int(input(\"Enter a number from 1 to 7: \"))\n",
    "match day:\n",
    "    case 1:\n",
    "        print(\"First day in a week is: Monday\")\n",
    "    case 2:\n",
    "        print(\"Second day in a week is: Tuesday\")\n",
    "    case 3:\n",
    "        print(\"Third day in a week is: Wednesday\")\n",
    "    case 4:\n",
    "        print(\"Fourth day in a week is: Thursday\")\n",
    "    case 5:\n",
    "        print(\"Fifth day in a week is: Friday\")\n",
    "    case 6:\n",
    "        print(\"Seventh day in a week is: Saturday\")\n",
    "    case _:\n",
    "        print(\"Please enter a number from 1 to 7...\")"
   ]
  },
  {
   "cell_type": "code",
   "execution_count": 21,
   "metadata": {},
   "outputs": [
    {
     "name": "stdout",
     "output_type": "stream",
     "text": [
      "it is vowel\n"
     ]
    }
   ],
   "source": [
    "n = input(\"Enter a char: \")\n",
    "if (n>= 'A' and n<='Z'): \n",
    "    if n not in \"AEIOU\":\n",
    "      print(\"It is consonent...\")\n",
    "    else:\n",
    "     print(\"it is vowel\")\n",
    "else:\n",
    "    print(\"It is not an upper case alphabet\")"
   ]
  },
  {
   "cell_type": "code",
   "execution_count": 1,
   "metadata": {},
   "outputs": [
    {
     "name": "stdout",
     "output_type": "stream",
     "text": [
      "10\n"
     ]
    }
   ],
   "source": [
    "a = 10\n",
    "if a==10:\n",
    "    pass\n",
    "    print(a)"
   ]
  },
  {
   "cell_type": "code",
   "execution_count": null,
   "metadata": {},
   "outputs": [],
   "source": []
  }
 ],
 "metadata": {
  "kernelspec": {
   "display_name": "pyspiders_venv",
   "language": "python",
   "name": "python3"
  },
  "language_info": {
   "codemirror_mode": {
    "name": "ipython",
    "version": 3
   },
   "file_extension": ".py",
   "mimetype": "text/x-python",
   "name": "python",
   "nbconvert_exporter": "python",
   "pygments_lexer": "ipython3",
   "version": "3.11.7"
  }
 },
 "nbformat": 4,
 "nbformat_minor": 2
}
