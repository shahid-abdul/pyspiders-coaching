{
 "cells": [
  {
   "cell_type": "code",
   "execution_count": null,
   "id": "a70939b0",
   "metadata": {},
   "outputs": [],
   "source": [
    "num1, num2, num3 = 30,20,10\n",
    "\n",
    "large = num1\n",
    "\n",
    "if (large > num2):\n",
    "    large = large\n",
    "else:\n",
    "    large = num2\n",
    "    \n",
    "if (large >  num3):\n",
    "    large = large\n",
    "else:\n",
    "    large=num3\n",
    "    \n",
    "print(\"The largest number is\",large)"
   ]
  },
  {
   "cell_type": "markdown",
   "id": "fac61829",
   "metadata": {},
   "source": [
    "### Method 2"
   ]
  },
  {
   "cell_type": "code",
   "execution_count": 1,
   "id": "90a982f9",
   "metadata": {},
   "outputs": [
    {
     "name": "stdout",
     "output_type": "stream",
     "text": [
      "The largest number is 30\n"
     ]
    }
   ],
   "source": [
    "a,b,c= 10,20,30\n",
    "l=0\n",
    "if (a >= b) and (a >= c): \n",
    "    l = a \n",
    "elif (b >= a) and (b >= c): \n",
    "    l = b \n",
    "else: \n",
    "    l = c \n",
    "\n",
    "print(\"The largest number is\",l)"
   ]
  },
  {
   "cell_type": "markdown",
   "id": "e0154514",
   "metadata": {},
   "source": [
    "### Method 3"
   ]
  },
  {
   "cell_type": "code",
   "execution_count": 2,
   "id": "2cc7fea4",
   "metadata": {},
   "outputs": [
    {
     "name": "stdout",
     "output_type": "stream",
     "text": [
      "30\n"
     ]
    }
   ],
   "source": [
    "def maximum(a, b, c): \n",
    " \n",
    "    if (a >= b) and (a >= c): \n",
    "        l = a \n",
    " \n",
    "    elif (b >= a) and (b >= c): \n",
    "        l = b \n",
    "    else: \n",
    "        l = c \n",
    "         \n",
    "    return l \n",
    " \n",
    "a,b,c = 10,20,30\n",
    "print(maximum(a, b, c)) "
   ]
  },
  {
   "cell_type": "markdown",
   "id": "07b9215b",
   "metadata": {},
   "source": [
    "### Method 4"
   ]
  },
  {
   "cell_type": "code",
   "execution_count": 3,
   "id": "218a2acb",
   "metadata": {},
   "outputs": [
    {
     "name": "stdout",
     "output_type": "stream",
     "text": [
      "30\n"
     ]
    }
   ],
   "source": [
    "def maximum(a, b, c):\n",
    "    list = [a, b, c]\n",
    "    return max(list)\n",
    " \n",
    "a,b,c = 10,20,30\n",
    "print(maximum(a, b, c)) "
   ]
  },
  {
   "cell_type": "markdown",
   "id": "c4fda661",
   "metadata": {},
   "source": [
    "### Method 5"
   ]
  },
  {
   "cell_type": "code",
   "execution_count": 4,
   "id": "540ec9db",
   "metadata": {},
   "outputs": [
    {
     "name": "stdout",
     "output_type": "stream",
     "text": [
      "30\n"
     ]
    }
   ],
   "source": [
    "a,b,c = 10,20,30\n",
    "\n",
    "print(max(a, b, c))"
   ]
  },
  {
   "cell_type": "markdown",
   "id": "22b2cb98",
   "metadata": {},
   "source": [
    "### Method 6"
   ]
  },
  {
   "cell_type": "code",
   "execution_count": 5,
   "id": "67a6210e",
   "metadata": {},
   "outputs": [
    {
     "name": "stdout",
     "output_type": "stream",
     "text": [
      "30\n"
     ]
    }
   ],
   "source": [
    "def maximum(a, b, c):\n",
    "    list = [a, b, c]\n",
    "    list.sort()\n",
    "    return list[-1]\n",
    " \n",
    "a,b,c = 10,20,30\n",
    "print(maximum(a, b, c)) "
   ]
  },
  {
   "cell_type": "markdown",
   "id": "63d6f546",
   "metadata": {},
   "source": [
    "### Method 7 "
   ]
  },
  {
   "cell_type": "code",
   "execution_count": null,
   "id": "ac9636d2",
   "metadata": {},
   "outputs": [],
   "source": [
    "a,b,c= 10,20,30\n",
    "l = a\n",
    "\n",
    "if a >= b:\n",
    "    if a >= c:\n",
    "        l=a\n",
    "elif b >= l:\n",
    "    if b >= c:\n",
    "        l=b\n",
    "    else :\n",
    "        l=c\n",
    "        \n",
    "print(l)"
   ]
  },
  {
   "cell_type": "markdown",
   "id": "a0a1b6f8",
   "metadata": {},
   "source": [
    "### Method 8"
   ]
  },
  {
   "cell_type": "code",
   "execution_count": null,
   "id": "3bb4109a",
   "metadata": {},
   "outputs": [],
   "source": [
    "a,b,c = 30 , 30 , 10\n",
    "l=a\n",
    "l = a if a>b else b\n",
    "l = c if c>l else l\n",
    "print(l)"
   ]
  },
  {
   "cell_type": "code",
   "execution_count": null,
   "id": "0663a2d2",
   "metadata": {},
   "outputs": [],
   "source": []
  }
 ],
 "metadata": {
  "kernelspec": {
   "display_name": "Python 3 (ipykernel)",
   "language": "python",
   "name": "python3"
  },
  "language_info": {
   "codemirror_mode": {
    "name": "ipython",
    "version": 3
   },
   "file_extension": ".py",
   "mimetype": "text/x-python",
   "name": "python",
   "nbconvert_exporter": "python",
   "pygments_lexer": "ipython3",
   "version": "3.12.7"
  }
 },
 "nbformat": 4,
 "nbformat_minor": 5
}
