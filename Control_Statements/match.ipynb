{
 "cells": [
  {
   "cell_type": "code",
   "execution_count": 1,
   "metadata": {},
   "outputs": [
    {
     "name": "stdout",
     "output_type": "stream",
     "text": [
      "Third day in a week is: Monday\n"
     ]
    }
   ],
   "source": [
    "# checking the day\n",
    "day = int(input(\"Enter a number from 1 to 7: \"))\n",
    "match day:\n",
    "    case 1:\n",
    "        print(\"First day in a week is: Monday\")\n",
    "    case 2:\n",
    "        print(\"Second day in a week is: Tuesday\")\n",
    "    case 3:\n",
    "        print(\"Third day in a week is: Wednesday\")\n",
    "    case 4:\n",
    "        print(\"Fourth day in a week is: Thursday\")\n",
    "    case 5:\n",
    "        print(\"Fifth day in a week is: Friday\")\n",
    "    case 6:\n",
    "        print(\"Seventh day in a week is: Saturday\")\n",
    "    case _:\n",
    "        print(\"Please enter a number from 1 to 7...\")"
   ]
  },
  {
   "cell_type": "code",
   "execution_count": null,
   "metadata": {},
   "outputs": [],
   "source": []
  }
 ],
 "metadata": {
  "kernelspec": {
   "display_name": "pyspiders_venv",
   "language": "python",
   "name": "python3"
  },
  "language_info": {
   "codemirror_mode": {
    "name": "ipython",
    "version": 3
   },
   "file_extension": ".py",
   "mimetype": "text/x-python",
   "name": "python",
   "nbconvert_exporter": "python",
   "pygments_lexer": "ipython3",
   "version": "3.11.7"
  }
 },
 "nbformat": 4,
 "nbformat_minor": 2
}
