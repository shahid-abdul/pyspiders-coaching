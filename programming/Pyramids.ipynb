{
 "cells": [
  {
   "cell_type": "markdown",
   "metadata": {},
   "source": [
    "## Pyramids"
   ]
  },
  {
   "cell_type": "code",
   "execution_count": 2,
   "metadata": {},
   "outputs": [
    {
     "name": "stdout",
     "output_type": "stream",
     "text": [
      "      * \n",
      "    * * * \n",
      "  * * * * * \n",
      "* * * * * * * \n"
     ]
    }
   ],
   "source": [
    "n = int(input(\"Enter a  value: \"))\n",
    "# star = 1\n",
    "# spc = n-1\n",
    "# for i in range(n):\n",
    "#     for j in range(spc):\n",
    "#         print(' ',end=\" \")\n",
    "#     for k in range(star):\n",
    "#         print('*',end=\" \")\n",
    "#     print()\n",
    "#     spc -= 1\n",
    "#     star += 2\n",
    "\n",
    "for i in range(n):\n",
    "    for j in range(n-i-1):\n",
    "        print(' ',end=\" \")\n",
    "    for k in range(2*i+1):\n",
    "        print('*',end=\" \")\n",
    "    print()"
   ]
  },
  {
   "cell_type": "code",
   "execution_count": 16,
   "metadata": {},
   "outputs": [
    {
     "name": "stdout",
     "output_type": "stream",
     "text": [
      "     *  \n",
      "   *   *  \n",
      " *   *   *  \n"
     ]
    }
   ],
   "source": [
    "n = int(input(\"Enter a number: \"))\n",
    "for i in range(n):\n",
    "    for j in range(n-i-1):\n",
    "        print(\" \",end=\" \")\n",
    "    for k in range(i+1):\n",
    "        print(\" * \",end=\" \")\n",
    "    print()"
   ]
  },
  {
   "cell_type": "code",
   "execution_count": 15,
   "metadata": {},
   "outputs": [
    {
     "name": "stdout",
     "output_type": "stream",
     "text": [
      "      *       \n",
      "    *   *     \n",
      "  *       *   \n",
      "* * * * * * * \n"
     ]
    }
   ],
   "source": [
    "n = int(input(\"Enter a number: \"))\n",
    "for i in range(n):\n",
    "    for j in range(n*2-1):\n",
    "        if i+j==n-1 or j-i==n-1 or i==n-1:\n",
    "            print('*',end=\" \")\n",
    "        else: \n",
    "            print(\" \",end=\" \")\n",
    "    print()"
   ]
  },
  {
   "cell_type": "code",
   "execution_count": 34,
   "metadata": {},
   "outputs": [
    {
     "name": "stdout",
     "output_type": "stream",
     "text": [
      "* * * * * \n",
      "  *   *   \n",
      "    *     \n"
     ]
    }
   ],
   "source": [
    "n = int(input(\"Enter a number: \"))\n",
    "for i in range(n):\n",
    "    for j in range(n*2-1):\n",
    "        if i==0 or i+j==2*n-2 or i==j:\n",
    "            print('*',end=\" \")\n",
    "        else: \n",
    "            print(\" \",end=\" \")\n",
    "    print()"
   ]
  },
  {
   "cell_type": "code",
   "execution_count": 52,
   "metadata": {},
   "outputs": [
    {
     "name": "stdout",
     "output_type": "stream",
     "text": [
      "        * \n",
      "      * * \n",
      "    *   * \n",
      "  *     * \n",
      "*       * \n",
      "  *     * \n",
      "    *   * \n",
      "      * * \n",
      "        * \n"
     ]
    }
   ],
   "source": [
    "n = int(input(\"Enter a number: \"))\n",
    "for i in range(2*n-1):\n",
    "    for j in range(n):\n",
    "        if i+j == n-1 or j== n-1 or i-j==n-1:\n",
    "            print(\"*\",end=\" \")\n",
    "        else:\n",
    "            print(\" \",end=\" \")\n",
    "    print()"
   ]
  },
  {
   "cell_type": "code",
   "execution_count": 58,
   "metadata": {},
   "outputs": [
    {
     "name": "stdout",
     "output_type": "stream",
     "text": [
      "*       \n",
      "* *     \n",
      "*   *   \n",
      "*     * \n",
      "*   *   \n",
      "* *     \n",
      "*       \n"
     ]
    }
   ],
   "source": [
    "n = int(input(\"Enter a number: \"))\n",
    "for i in range(2*n-1):\n",
    "    for j in range(n):\n",
    "        if j==0 or i==j or i+j==2*n-2:\n",
    "            print('*',end=\" \")\n",
    "        else:\n",
    "            print(\" \",end=\" \")\n",
    "    print()"
   ]
  },
  {
   "cell_type": "code",
   "execution_count": 66,
   "metadata": {},
   "outputs": [
    {
     "name": "stdout",
     "output_type": "stream",
     "text": [
      "* * * * * * * \n",
      "  * * * * * \n",
      "    * * * \n",
      "      * \n"
     ]
    }
   ],
   "source": [
    "a = int(input())\n",
    "for i in range(a):\n",
    "    space = \"  \" * (i)\n",
    "    star = \"* \" * (2 * (a - i) - 1)\n",
    "    result = space + star \n",
    "    print(result)"
   ]
  },
  {
   "cell_type": "code",
   "execution_count": 80,
   "metadata": {},
   "outputs": [
    {
     "name": "stdout",
     "output_type": "stream",
     "text": [
      "* * * * * * * \n",
      "  * * * * * \n",
      "    * * * \n",
      "      * \n"
     ]
    }
   ],
   "source": [
    "n = int(input(\"Enter a number: \"))\n",
    "for i in range(n):\n",
    "    for j in range(i):\n",
    "        print(' ',end=\" \")\n",
    "    for k in range(2*(n-i)-1):\n",
    "        print('*',end=\" \")\n",
    "    print()"
   ]
  },
  {
   "cell_type": "code",
   "execution_count": 81,
   "metadata": {},
   "outputs": [
    {
     "name": "stdout",
     "output_type": "stream",
     "text": [
      "      A \n",
      "    B B B \n",
      "  C C C C C \n",
      "D D D D D D D \n"
     ]
    }
   ],
   "source": [
    "n = int(input(\"Enter a number: \"))\n",
    "val = ord('A')\n",
    "for i in range(n):\n",
    "    for j in range(n-i-1):\n",
    "        print(' ',end=\" \")\n",
    "    for k in range(2*i+1):\n",
    "        print(chr(val),end=\" \")\n",
    "    print()\n",
    "    val += 1\n",
    "    if val > ord('Z'):\n",
    "        val = ord('A')"
   ]
  },
  {
   "cell_type": "code",
   "execution_count": 84,
   "metadata": {},
   "outputs": [
    {
     "name": "stdout",
     "output_type": "stream",
     "text": [
      "      1 \n",
      "    2 3 4 \n",
      "  5 6 7 8 9 \n",
      "1 2 3 4 5 6 7 \n"
     ]
    }
   ],
   "source": [
    "n = int(input(\"Enter a number: \"))\n",
    "val = 1\n",
    "for i in range(n):\n",
    "    for j in range(n-i-1):\n",
    "        print(' ',end=\" \")\n",
    "    for k in range(2*i+1):\n",
    "        print(val,end=\" \")\n",
    "        val += 1\n",
    "        if val > 9:\n",
    "            val = 1\n",
    "    print()"
   ]
  },
  {
   "cell_type": "code",
   "execution_count": 85,
   "metadata": {},
   "outputs": [
    {
     "name": "stdout",
     "output_type": "stream",
     "text": [
      "      4 \n",
      "    3 2 1 \n",
      "  9 8 7 6 5 \n",
      "4 3 2 1 9 8 7 \n"
     ]
    }
   ],
   "source": [
    "n = int(input(\"Enter a number: \"))\n",
    "val = n\n",
    "if val > 9:\n",
    "    val = 9\n",
    "for i in range(n):\n",
    "    for j in range(n-i-1):\n",
    "        print(' ',end=\" \")\n",
    "    for k in range(2*i+1):\n",
    "        print(val,end=\" \")\n",
    "        val -= 1\n",
    "        if val < 1:\n",
    "            val = 9\n",
    "    print()"
   ]
  },
  {
   "cell_type": "code",
   "execution_count": 86,
   "metadata": {},
   "outputs": [
    {
     "name": "stdout",
     "output_type": "stream",
     "text": [
      "      4 \n",
      "    3 3 3 \n",
      "  2 2 2 2 2 \n",
      "1 1 1 1 1 1 1 \n"
     ]
    }
   ],
   "source": [
    "n = int(input(\"Enter a number: \"))\n",
    "val = n\n",
    "if val > 9:\n",
    "    val = 9\n",
    "for i in range(n):\n",
    "    for j in range(n-i-1):\n",
    "        print(' ',end=\" \")\n",
    "    for k in range(2*i+1):\n",
    "        print(val,end=\" \")\n",
    "    print()\n",
    "    val -= 1\n",
    "    if val < 1:\n",
    "        val = 9"
   ]
  },
  {
   "cell_type": "code",
   "execution_count": 87,
   "metadata": {},
   "outputs": [
    {
     "name": "stdout",
     "output_type": "stream",
     "text": [
      "      D \n",
      "    C C C \n",
      "  B B B B B \n",
      "A A A A A A A \n"
     ]
    }
   ],
   "source": [
    "n = int(input(\"Enter a number: \"))\n",
    "val = ord('A')+n-1\n",
    "for i in range(n):\n",
    "    for j in range(n-i-1):\n",
    "        print(' ',end=\" \")\n",
    "    for k in range(2*i+1):\n",
    "        print(chr(val),end=\" \")\n",
    "    print()\n",
    "    val -= 1\n",
    "    if val > ord('Z'):\n",
    "        val = ord('A')"
   ]
  },
  {
   "cell_type": "code",
   "execution_count": 89,
   "metadata": {},
   "outputs": [
    {
     "name": "stdout",
     "output_type": "stream",
     "text": [
      "1 2 3 4 5 6 7 \n",
      "  8 9 1 2 3 \n",
      "    4 5 6 \n",
      "      7 \n"
     ]
    }
   ],
   "source": [
    "n = int(input(\"Enter n: \"))\n",
    "val = 1\n",
    "for i in range(n):\n",
    "    for j in range(i):\n",
    "        print(\" \",end=\" \")\n",
    "    for k in range(2*(n-i)-1):\n",
    "        print(val,end=\" \")\n",
    "        val += 1\n",
    "        if val > 9:\n",
    "            val = 1\n",
    "    print()"
   ]
  },
  {
   "cell_type": "code",
   "execution_count": 93,
   "metadata": {},
   "outputs": [
    {
     "name": "stdout",
     "output_type": "stream",
     "text": [
      "* *     \n",
      "* *     \n",
      "    * * \n",
      "    * * \n"
     ]
    }
   ],
   "source": [
    "n = int(input(\"Enter n: \"))\n",
    "for i in range(n):\n",
    "    for j in range(n):\n",
    "        if (i < n/2 and j < n/2) or (i >= n/2 and j >= n/2):\n",
    "            print(\"*\",end=\" \")\n",
    "        else:\n",
    "            print(\" \",end=\" \")\n",
    "    print()"
   ]
  },
  {
   "cell_type": "code",
   "execution_count": 97,
   "metadata": {},
   "outputs": [
    {
     "name": "stdout",
     "output_type": "stream",
     "text": [
      "A B C D E F G H I \n",
      "  J K L M N O P \n",
      "    Q R S T U \n",
      "      V W X \n",
      "        Y \n"
     ]
    }
   ],
   "source": [
    "n = int(input(\"Enter n: \"))\n",
    "val = ord('A')\n",
    "for i in range(n):\n",
    "    for j in range(i):\n",
    "        print(\" \",end=\" \")\n",
    "    for k in range(2*(n-i)-1):\n",
    "        print(chr(val),end=\" \")\n",
    "        val += 1\n",
    "        if val > ord('Z'):\n",
    "            val = ord('A')\n",
    "    print()"
   ]
  },
  {
   "cell_type": "code",
   "execution_count": 102,
   "metadata": {},
   "outputs": [
    {
     "name": "stdout",
     "output_type": "stream",
     "text": [
      "D C B A Z Y X \n",
      "  W V U T S \n",
      "    R Q P \n",
      "      O \n"
     ]
    }
   ],
   "source": [
    "n = int(input(\"Enter n: \"))\n",
    "val = ord('A')+n-1\n",
    "if val > ord('Z'):\n",
    "    val = ord('Z')\n",
    "for i in range(n):\n",
    "    for j in range(i):\n",
    "        print(\" \",end=\" \")\n",
    "    for k in range(2*(n-i)-1):\n",
    "        print(chr(val),end=\" \")\n",
    "        val -= 1\n",
    "        if val < ord('A'):\n",
    "            val = ord('Z')\n",
    "    print()"
   ]
  },
  {
   "cell_type": "code",
   "execution_count": 114,
   "metadata": {},
   "outputs": [
    {
     "name": "stdout",
     "output_type": "stream",
     "text": [
      "D C B A Z Y X \n",
      "  W       V   \n",
      "    U   T     \n",
      "      S       \n"
     ]
    }
   ],
   "source": [
    "n = int(input(\"Enter n: \"))\n",
    "val = ord('A')+n-1\n",
    "if val > ord('Z'):\n",
    "    val = ord('Z')\n",
    "for i in range(n):\n",
    "    for j in range(2*n-1):\n",
    "        if i==0 or i==j or i+j==2*n-2:\n",
    "            print(chr(val),end=\" \")\n",
    "            val -= 1\n",
    "            if val < ord('A'):\n",
    "                val = ord('Z')\n",
    "        else:\n",
    "            print(\" \",end=\" \")\n",
    "    print()"
   ]
  },
  {
   "cell_type": "code",
   "execution_count": 115,
   "metadata": {},
   "outputs": [
    {
     "name": "stdout",
     "output_type": "stream",
     "text": [
      "1 2 3 4 5 6 7 8 9 \n",
      "  1           2   \n",
      "    3       4     \n",
      "      5   6       \n",
      "        7         \n"
     ]
    }
   ],
   "source": [
    "n = int(input(\"Enter n: \"))\n",
    "val = 1\n",
    "for i in range(n):\n",
    "    for j in range(2*n-1):\n",
    "        if i==j or i==0 or i+j==2*n-2:\n",
    "            print(val,end=\" \")\n",
    "            val += 1\n",
    "            if val>9:\n",
    "                val = 1\n",
    "        else:\n",
    "            print(' ',end=\" \")\n",
    "    print()"
   ]
  },
  {
   "cell_type": "code",
   "execution_count": 116,
   "metadata": {},
   "outputs": [
    {
     "name": "stdout",
     "output_type": "stream",
     "text": [
      "D D D D D D D \n",
      "  C       C   \n",
      "    B   B     \n",
      "      A       \n"
     ]
    }
   ],
   "source": [
    "n = int(input(\"Enter n: \"))\n",
    "val = ord('A')+n-1\n",
    "if val > ord('Z'):\n",
    "    val = ord('Z')\n",
    "for i in range(n):\n",
    "    for j in range(2*n-1):\n",
    "        if i==0 or i==j or i+j==2*n-2:\n",
    "            print(chr(val),end=\" \")\n",
    "        else:\n",
    "            print(\" \",end=\" \")\n",
    "    print()\n",
    "    val -= 1\n",
    "    if val < ord('A'):\n",
    "        val = ord('Z')"
   ]
  },
  {
   "cell_type": "code",
   "execution_count": 137,
   "metadata": {},
   "outputs": [
    {
     "name": "stdout",
     "output_type": "stream",
     "text": [
      "  * *   \n",
      "*     * \n",
      "*     * \n",
      "  * *   \n"
     ]
    }
   ],
   "source": [
    "n=int(input(\"n:\"))\n",
    "for i in range(n):\n",
    "    for j in range(n):\n",
    "        if i==0 or i==n-1:\n",
    "            if j>0 and j<n-1:\n",
    "                print(\"*\",end=\" \")\n",
    "            else:\n",
    "                print(\" \",end=\" \")\n",
    "        else:\n",
    "            if j>0 and j<n-1:\n",
    "                print(\" \",end=\" \")\n",
    "            else:\n",
    "                print(\"*\",end=\" \")\n",
    "    print()"
   ]
  },
  {
   "cell_type": "code",
   "execution_count": null,
   "metadata": {},
   "outputs": [],
   "source": []
  }
 ],
 "metadata": {
  "kernelspec": {
   "display_name": "pyspiders_venv",
   "language": "python",
   "name": "python3"
  },
  "language_info": {
   "codemirror_mode": {
    "name": "ipython",
    "version": 3
   },
   "file_extension": ".py",
   "mimetype": "text/x-python",
   "name": "python",
   "nbconvert_exporter": "python",
   "pygments_lexer": "ipython3",
   "version": "3.11.7"
  }
 },
 "nbformat": 4,
 "nbformat_minor": 2
}
