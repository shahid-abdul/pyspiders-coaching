{
 "cells": [
  {
   "cell_type": "markdown",
   "metadata": {},
   "source": [
    "# Searching Techniques\n",
    "### 1. Linear Search - No need to sort the list\n",
    "        \n",
    "### 2. Binary Search - Here sorting is mandatory\n",
    "        "
   ]
  },
  {
   "cell_type": "markdown",
   "metadata": {},
   "source": [
    "# 1. Linear Search"
   ]
  },
  {
   "cell_type": "code",
   "execution_count": 14,
   "metadata": {},
   "outputs": [
    {
     "name": "stdout",
     "output_type": "stream",
     "text": [
      "1 is present at the index of 0\n"
     ]
    }
   ],
   "source": [
    "l1 = [1,2,4,2,4,1,4,6,8,2,1,1,4,6,7]\n",
    "key = int(input())\n",
    "# found = False\n",
    "# for i in range(len(l1)):\n",
    "#     if l1[i] == key:\n",
    "#         print(f'{key} is present at the index of {i}')\n",
    "#         found = True\n",
    "#         break\n",
    "# if not found:\n",
    "#     print(f'{key} is not found')\n",
    "\n",
    "for i in range(len(l1)):\n",
    "    if l1[i] == key:\n",
    "        print(f'{key} is present at the index of {i}')\n",
    "        break\n",
    "else:\n",
    "    print(f'{key} is not found')"
   ]
  },
  {
   "cell_type": "code",
   "execution_count": 24,
   "metadata": {},
   "outputs": [
    {
     "name": "stdout",
     "output_type": "stream",
     "text": [
      "1 2 3 4 5 6 7 8 9 \n",
      "loop executed completely\n"
     ]
    }
   ],
   "source": [
    "# Understanding for else in python\n",
    "n = int(input())\n",
    "for i in range(1,10):\n",
    "    if i == n:\n",
    "        break\n",
    "    print(i,end=\" \")\n",
    "else:\n",
    "    print('\\nloop executed completely')"
   ]
  },
  {
   "cell_type": "code",
   "execution_count": 27,
   "metadata": {},
   "outputs": [
    {
     "name": "stdout",
     "output_type": "stream",
     "text": [
      "\n",
      "loop executed completely\n"
     ]
    }
   ],
   "source": [
    "# Understanding while else in python\n",
    "n = int(input())\n",
    "while i == n:\n",
    "    print(i,end=' ')\n",
    "    break\n",
    "else:\n",
    "    print('\\nloop executed completely')"
   ]
  },
  {
   "cell_type": "code",
   "execution_count": 36,
   "metadata": {},
   "outputs": [
    {
     "name": "stdout",
     "output_type": "stream",
     "text": [
      "The 3nd/th occurence of 1 is present at the index of 10\n"
     ]
    }
   ],
   "source": [
    "l1 = [1,2,4,2,4,1,4,6,8,2,1,1,4,6,7]\n",
    "key = int(input())\n",
    "occurance = int(input('occurance: '))\n",
    "count = 0\n",
    "for i in range(len(l1)):\n",
    "    if l1[i] == key:\n",
    "        count += 1\n",
    "        if count == occurance:\n",
    "            print(f'The {occurance}nd/th occurence of {key} is present at the index of {i}')\n",
    "            break\n",
    "else:\n",
    "    print(f'The {occurance}nd/th occurence of {key} is not found')"
   ]
  },
  {
   "cell_type": "code",
   "execution_count": null,
   "metadata": {},
   "outputs": [],
   "source": []
  }
 ],
 "metadata": {
  "kernelspec": {
   "display_name": "pyspiders_venv",
   "language": "python",
   "name": "python3"
  },
  "language_info": {
   "codemirror_mode": {
    "name": "ipython",
    "version": 3
   },
   "file_extension": ".py",
   "mimetype": "text/x-python",
   "name": "python",
   "nbconvert_exporter": "python",
   "pygments_lexer": "ipython3",
   "version": "3.11.7"
  }
 },
 "nbformat": 4,
 "nbformat_minor": 2
}
