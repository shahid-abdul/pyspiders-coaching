{
 "cells": [
  {
   "cell_type": "code",
   "execution_count": 1,
   "metadata": {},
   "outputs": [
    {
     "name": "stdout",
     "output_type": "stream",
     "text": [
      "1       \n",
      "2 2     \n",
      "3 3 3   \n",
      "4 4 4 4 \n"
     ]
    }
   ],
   "source": [
    "# 1.\n",
    "\n",
    "n = int(input('Enter n: '))\n",
    "val = 1\n",
    "\n",
    "for i in range(n):\n",
    "    for j in range(n):\n",
    "        if i >= j:\n",
    "            print(val,end=\" \")\n",
    "        else:\n",
    "            print(' ',end=\" \")\n",
    "    print()\n",
    "    val += 1\n",
    "    if val > 9:\n",
    "        val = 1"
   ]
  },
  {
   "cell_type": "code",
   "execution_count": 2,
   "metadata": {},
   "outputs": [
    {
     "name": "stdout",
     "output_type": "stream",
     "text": [
      "4       \n",
      "3 3     \n",
      "2 2 2   \n",
      "1 1 1 1 \n"
     ]
    }
   ],
   "source": [
    "# 2.\n",
    "n = int(input('Enter n: '))\n",
    "val = n\n",
    "\n",
    "if val > 9:\n",
    "    val = 9\n",
    "for i in range(n):\n",
    "    for j in range(n):\n",
    "        if i >= j:\n",
    "            print(val,end=\" \")\n",
    "        else:\n",
    "            print(' ',end=\" \")\n",
    "    print()\n",
    "    val -= 1\n",
    "    if val < 1:\n",
    "        val = 9"
   ]
  },
  {
   "cell_type": "code",
   "execution_count": 3,
   "metadata": {},
   "outputs": [
    {
     "name": "stdout",
     "output_type": "stream",
     "text": [
      "4       \n",
      "  3     \n",
      "    2   \n",
      "      1 \n"
     ]
    }
   ],
   "source": [
    "# 3.\n",
    "n = int(input('Enter n: '))\n",
    "val = n\n",
    "if val > 9:\n",
    "    val = 9\n",
    "for i in range(n):\n",
    "    for j in range(n):\n",
    "        if i == j:\n",
    "            print(val,end=\" \")\n",
    "        else:\n",
    "            print(' ',end=\" \")\n",
    "    print()\n",
    "    val -= 1\n",
    "    if val < 1:\n",
    "        val = 9"
   ]
  },
  {
   "cell_type": "code",
   "execution_count": 4,
   "metadata": {},
   "outputs": [
    {
     "name": "stdout",
     "output_type": "stream",
     "text": [
      "1       \n",
      "  2     \n",
      "    3   \n",
      "      4 \n"
     ]
    }
   ],
   "source": [
    "# 4. \n",
    "n = int(input('Enter n: '))\n",
    "val = 1\n",
    "\n",
    "for i in range(n):\n",
    "    for j in range(n):\n",
    "        if i == j:\n",
    "            print(val,end=\" \")\n",
    "        else:\n",
    "            print(' ',end=\" \")\n",
    "    print()\n",
    "    val += 1\n",
    "    if val > 9:\n",
    "        val = 1"
   ]
  },
  {
   "cell_type": "code",
   "execution_count": 5,
   "metadata": {},
   "outputs": [
    {
     "name": "stdout",
     "output_type": "stream",
     "text": [
      "A       \n",
      "  B     \n",
      "    C   \n",
      "      D \n"
     ]
    }
   ],
   "source": [
    "# 5. \n",
    "n = int(input('Enter n: '))\n",
    "val = ord('A')\n",
    "for i in range(n):\n",
    "    for j in range(n):\n",
    "        if i == j:\n",
    "            print(chr(val),end=\" \")\n",
    "        else:\n",
    "            print(' ',end=\" \")\n",
    "    print()\n",
    "    val += 1\n",
    "    if val > ord('Z'):\n",
    "        val = ord('A')"
   ]
  },
  {
   "cell_type": "code",
   "execution_count": 6,
   "metadata": {},
   "outputs": [
    {
     "name": "stdout",
     "output_type": "stream",
     "text": [
      "Z       \n",
      "  Y     \n",
      "    X   \n",
      "      W \n"
     ]
    }
   ],
   "source": [
    "# 6. \n",
    "n = int(input('Enter n: '))\n",
    "val = ord('Z')\n",
    "if n > 26:\n",
    "    val = ord('Z')\n",
    "for i in range(n):\n",
    "    for j in range(n):\n",
    "        if i == j:\n",
    "            print(chr(val),end=\" \")\n",
    "        else:\n",
    "            print(' ',end=\" \")\n",
    "    print()\n",
    "    val -= 1\n",
    "    if val < ord('A'):\n",
    "        val = ord('Z')"
   ]
  },
  {
   "cell_type": "code",
   "execution_count": 7,
   "metadata": {},
   "outputs": [
    {
     "name": "stdout",
     "output_type": "stream",
     "text": [
      "      1 \n",
      "    2 2 \n",
      "  3 3 3 \n",
      "4 4 4 4 \n"
     ]
    }
   ],
   "source": [
    "# 7. \n",
    "n = int(input('Enter n: '))\n",
    "val = 1\n",
    "for i in range(n):\n",
    "    for j in range(n):\n",
    "        if i+j >= n-1:\n",
    "            print(val,end=\" \")\n",
    "        else:\n",
    "            print(' ',end=\" \")\n",
    "    print()\n",
    "    val += 1\n",
    "    if val > 9:\n",
    "        val = 1"
   ]
  },
  {
   "cell_type": "code",
   "execution_count": 8,
   "metadata": {},
   "outputs": [
    {
     "name": "stdout",
     "output_type": "stream",
     "text": [
      "      4 \n",
      "    3 3 \n",
      "  2 2 2 \n",
      "1 1 1 1 \n"
     ]
    }
   ],
   "source": [
    "# 8. \n",
    "n = int(input('Enter n: '))\n",
    "val = n\n",
    "if val > 9:\n",
    "    val = 9\n",
    "for i in range(n):\n",
    "    for j in range(n):\n",
    "        if i+j >= n-1:\n",
    "            print(val,end=\" \")\n",
    "        else:\n",
    "            print(' ',end=\" \")\n",
    "    print()\n",
    "    val -= 1\n",
    "    if val < 1:\n",
    "        val = 9"
   ]
  },
  {
   "cell_type": "code",
   "execution_count": 37,
   "metadata": {},
   "outputs": [
    {
     "name": "stdout",
     "output_type": "stream",
     "text": [
      "1 2 3 4 \n",
      "  1 2 3 \n",
      "    1 2 \n",
      "      1 \n"
     ]
    }
   ],
   "source": [
    "# 9. \n",
    "# n = int(input('Enter n: '))\n",
    "# val = 1\n",
    "# for i in range(n):\n",
    "#     for j in range(n):\n",
    "#         if i <= j:\n",
    "#             print(val+j,end=\" \")\n",
    "#         else:\n",
    "#             print(' ',end=\" \")\n",
    "        \n",
    "#     print()\n",
    "#     val -= 1\n",
    "\n",
    "\n",
    "n = int(input('Enter n: '))\n",
    "val = 1\n",
    "for i in range(n):\n",
    "    for j in range(n):\n",
    "        if i <= j:\n",
    "            print(val, end=\" \")\n",
    "            val += 1\n",
    "            if val > 9:\n",
    "                val = 1\n",
    "        else:\n",
    "            print(' ', end=\" \")\n",
    "    print()\n",
    "    val = 1"
   ]
  },
  {
   "cell_type": "code",
   "execution_count": 42,
   "metadata": {},
   "outputs": [
    {
     "name": "stdout",
     "output_type": "stream",
     "text": [
      "4 4 4 4 \n",
      "  3 3 3 \n",
      "    2 2 \n",
      "      1 \n"
     ]
    }
   ],
   "source": [
    "# 10.\n",
    "n = int(input('Enter n: '))\n",
    "val = n\n",
    "if n > 9:\n",
    "    val = 9\n",
    "for i in range(n):\n",
    "    for j in range(n):\n",
    "        if i <= j:\n",
    "            print(val,end=\" \")\n",
    "        else: \n",
    "            print(\" \",end=\" \")\n",
    "    print()\n",
    "    val -= 1\n",
    "    if val < 1:\n",
    "        val = 9"
   ]
  },
  {
   "cell_type": "code",
   "execution_count": 44,
   "metadata": {},
   "outputs": [
    {
     "name": "stdout",
     "output_type": "stream",
     "text": [
      "A B C D \n",
      "  A B C \n",
      "    A B \n",
      "      A \n"
     ]
    }
   ],
   "source": [
    "# 11.\n",
    "n = int(input('Enter n: '))\n",
    "val = ord('A')\n",
    "if n > 26:\n",
    "    val = 9\n",
    "for i in range(n):\n",
    "    for j in range(n):\n",
    "        if i <= j:\n",
    "            print(chr(val),end=\" \")\n",
    "            val += 1\n",
    "            if val > ord('Z'):\n",
    "                val = ord('A')\n",
    "        else: \n",
    "            print(\" \",end=\" \")\n",
    "    print()\n",
    "    val = ord('A')"
   ]
  },
  {
   "cell_type": "code",
   "execution_count": 46,
   "metadata": {},
   "outputs": [
    {
     "name": "stdout",
     "output_type": "stream",
     "text": [
      "A       \n",
      "A B     \n",
      "A B C   \n",
      "A B C D \n"
     ]
    }
   ],
   "source": [
    "# 12. \n",
    "n = int(input('Enter n: '))\n",
    "val = ord('A')\n",
    "for i in range(n):\n",
    "    for j in range(n):\n",
    "        if i >= j:\n",
    "            print(chr(val),end=\" \")\n",
    "            val += 1\n",
    "            if val > ord('Z'):\n",
    "                val = ord('A')\n",
    "        else: \n",
    "            print(\" \",end=\" \")\n",
    "    print()\n",
    "    val = ord('A')"
   ]
  },
  {
   "cell_type": "code",
   "execution_count": 75,
   "metadata": {},
   "outputs": [
    {
     "name": "stdout",
     "output_type": "stream",
     "text": [
      "D C B A \n",
      "  D C B \n",
      "    D C \n",
      "      D \n"
     ]
    }
   ],
   "source": [
    "# 13.\n",
    "n = int(input('Enter n: '))\n",
    "val = ord('A')+(n-1)\n",
    "# if n > 25:\n",
    "#     val = ord('Z')\n",
    "if val > ord('Z'):\n",
    "    val = ord('Z')\n",
    "\n",
    "for i in range(n):\n",
    "    for j in range(n):\n",
    "        if i <= j:\n",
    "            print(chr(val),end=' ')\n",
    "            val -= 1\n",
    "            if val < ord('A'):\n",
    "                val = ord('Z')\n",
    "        else: \n",
    "            print(' ',end=\" \")\n",
    "    print()\n",
    "    val = ord('A')+(n-1)\n",
    "    # if n > 25:\n",
    "    #     val = ord('Z')\n",
    "    if val > ord('Z'):\n",
    "        val = ord('Z')"
   ]
  },
  {
   "cell_type": "code",
   "execution_count": 71,
   "metadata": {},
   "outputs": [
    {
     "name": "stdout",
     "output_type": "stream",
     "text": [
      "D       \n",
      "C C     \n",
      "B B B   \n",
      "A A A A \n"
     ]
    }
   ],
   "source": [
    "# 14. \n",
    "n = int(input('Enter n: '))\n",
    "val = ord('A')+(n-1)\n",
    "if n > 25:\n",
    "    # val += 25\n",
    "    val = ord('Z')\n",
    "for i in range(n):\n",
    "    for j in range(n):\n",
    "        if i >= j:\n",
    "            print(chr(val),end=\" \")\n",
    "        else:\n",
    "            print(\" \",end=\" \")\n",
    "    print()\n",
    "    val -= 1\n",
    "    if val < ord('A'):\n",
    "        val = ord('Z')"
   ]
  },
  {
   "cell_type": "code",
   "execution_count": 78,
   "metadata": {},
   "outputs": [
    {
     "name": "stdout",
     "output_type": "stream",
     "text": [
      "      A \n",
      "    B   \n",
      "  C     \n",
      "D       \n"
     ]
    }
   ],
   "source": [
    "# 15. \n",
    "n = int(input('Enter n: '))\n",
    "val = ord('A')\n",
    "for i in range(n):\n",
    "    for j in range(n):\n",
    "        if i+j == n-1:\n",
    "            print(chr(val),end=\" \")\n",
    "        else:\n",
    "            print(' ',end=\" \")\n",
    "    print()\n",
    "    val += 1\n",
    "    if val > ord('Z'):\n",
    "        val = ord('A')"
   ]
  },
  {
   "cell_type": "code",
   "execution_count": 80,
   "metadata": {},
   "outputs": [
    {
     "name": "stdout",
     "output_type": "stream",
     "text": [
      "A B C D \n",
      "A B C   \n",
      "A B     \n",
      "A       \n"
     ]
    }
   ],
   "source": [
    "# 16.\n",
    "n = int(input('Enter n: '))\n",
    "val = ord('A')\n",
    "for i in range(n):\n",
    "    for j in range(n):\n",
    "        if i+j <= n-1:\n",
    "            print(chr(val),end=\" \")\n",
    "            val += 1\n",
    "            if val > ord('Z'):\n",
    "                val = ord('A')\n",
    "        else:\n",
    "            print(\" \",end=\" \")\n",
    "    print()\n",
    "    val = ord('A')"
   ]
  },
  {
   "cell_type": "code",
   "execution_count": 83,
   "metadata": {},
   "outputs": [
    {
     "name": "stdout",
     "output_type": "stream",
     "text": [
      "      Z \n",
      "    Y   \n",
      "  X     \n",
      "W       \n"
     ]
    }
   ],
   "source": [
    "# 17. \n",
    "n = int(input('Enter n: '))\n",
    "val = ord('Z')\n",
    "for i in range(n):\n",
    "    for j in range(n):\n",
    "        if i+j == n-1:\n",
    "            print(chr(val),end=\" \")\n",
    "        else:\n",
    "            print(\" \",end=\" \")\n",
    "    print()\n",
    "    val -= 1\n",
    "    if val < ord('A'):\n",
    "        val = ord('Z')"
   ]
  },
  {
   "cell_type": "code",
   "execution_count": 86,
   "metadata": {},
   "outputs": [
    {
     "name": "stdout",
     "output_type": "stream",
     "text": [
      "      4 \n",
      "    3   \n",
      "  2     \n",
      "1       \n"
     ]
    }
   ],
   "source": [
    "# 18.\n",
    "n = int(input('Enter n: '))\n",
    "val = n\n",
    "if val > 9:\n",
    "    val = 9\n",
    "for i in range(n):\n",
    "    for j in range(n):\n",
    "        if i+j == n-1:\n",
    "            print(val,end=\" \")\n",
    "        else:\n",
    "            print(\" \",end=\" \")\n",
    "    print()\n",
    "    val -= 1\n",
    "    if val < 1:\n",
    "        val = 9"
   ]
  },
  {
   "cell_type": "code",
   "execution_count": 91,
   "metadata": {},
   "outputs": [
    {
     "name": "stdout",
     "output_type": "stream",
     "text": [
      "      D \n",
      "    C   \n",
      "  B     \n",
      "A       \n"
     ]
    }
   ],
   "source": [
    "# 19.\n",
    "n = int(input('Enter n: '))\n",
    "val = ord('A')+(n-1)\n",
    "if val > ord('Z'):\n",
    "    val = ord('Z')\n",
    "for i in range(n):\n",
    "    for j in range(n):\n",
    "        if i+j == n-1:\n",
    "            print(chr(val),end=\" \")\n",
    "        else:\n",
    "            print(\" \",end=\" \")\n",
    "    print()\n",
    "    val -= 1\n",
    "    if val < ord('A'):\n",
    "        val = ord('Z')"
   ]
  },
  {
   "cell_type": "code",
   "execution_count": 100,
   "metadata": {},
   "outputs": [
    {
     "name": "stdout",
     "output_type": "stream",
     "text": [
      "      A \n",
      "    B C \n",
      "  D E F \n",
      "G H I J \n"
     ]
    }
   ],
   "source": [
    "# 20. \n",
    "n = int(input('Enter n: '))\n",
    "val = ord('A')\n",
    "if n > 26:\n",
    "    val = ord('A')\n",
    "for i in range(n):\n",
    "    for j in range(n):\n",
    "        if i+j >= n-1:\n",
    "            print(chr(val),end=\" \")\n",
    "            val += 1\n",
    "            if val > ord('Z'):\n",
    "                val = ord('A')\n",
    "        else:\n",
    "            print(\" \",end=\" \")\n",
    "    print()"
   ]
  },
  {
   "cell_type": "code",
   "execution_count": null,
   "metadata": {},
   "outputs": [],
   "source": []
  }
 ],
 "metadata": {
  "kernelspec": {
   "display_name": "pyspiders_venv",
   "language": "python",
   "name": "python3"
  },
  "language_info": {
   "codemirror_mode": {
    "name": "ipython",
    "version": 3
   },
   "file_extension": ".py",
   "mimetype": "text/x-python",
   "name": "python",
   "nbconvert_exporter": "python",
   "pygments_lexer": "ipython3",
   "version": "3.11.7"
  }
 },
 "nbformat": 4,
 "nbformat_minor": 2
}
