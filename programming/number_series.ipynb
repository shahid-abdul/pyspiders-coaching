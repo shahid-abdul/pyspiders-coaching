{
 "cells": [
  {
   "cell_type": "code",
   "execution_count": 1,
   "metadata": {},
   "outputs": [
    {
     "name": "stdout",
     "output_type": "stream",
     "text": [
      "1 2 3 4 "
     ]
    }
   ],
   "source": [
    "n = int(input(\"Enter n:\" ))\n",
    "for i in range(1,n+1):\n",
    "    print(i,end=\" \")"
   ]
  },
  {
   "cell_type": "code",
   "execution_count": 9,
   "metadata": {},
   "outputs": [
    {
     "name": "stdout",
     "output_type": "stream",
     "text": [
      "2 4 6 8\n"
     ]
    }
   ],
   "source": [
    "n = int(input(\"Enter n:\" ))\n",
    "# for i in range(1,2*n+1):\n",
    "#     if i%2 == 0:\n",
    "#         print(i,end=\" \")\n",
    "\n",
    "# for i in range(1,n+1):\n",
    "#     print(2*i,end=\" \")\n",
    "\n",
    "# l1 = [2*i for i in range(1,n+1)]\n",
    "# print(*l1)\n",
    "\n",
    "l1 = list(range(2,2*n+1,2))\n",
    "print(*l1)"
   ]
  },
  {
   "cell_type": "code",
   "execution_count": 14,
   "metadata": {},
   "outputs": [
    {
     "name": "stdout",
     "output_type": "stream",
     "text": [
      "1 3 5 7\n"
     ]
    }
   ],
   "source": [
    "n = int(input(\"Enter n:\" ))\n",
    "# l1 = list(range(1,2*n+1,2))\n",
    "# print(*l1)\n",
    "\n",
    "# for i in range(1,n+1):\n",
    "#     print(2*i-1,end=\" \")\n",
    "\n",
    "l1 = [2*i-1 for i in range(1,n+1)]\n",
    "print(*l1)"
   ]
  },
  {
   "cell_type": "code",
   "execution_count": 16,
   "metadata": {},
   "outputs": [
    {
     "name": "stdout",
     "output_type": "stream",
     "text": [
      "2 5 10 17 26 "
     ]
    }
   ],
   "source": [
    "n = int(input(\"Enter n:\" ))\n",
    "for i in range(1,n+1):\n",
    "    print(i**2+1,end=' ')"
   ]
  },
  {
   "cell_type": "code",
   "execution_count": 40,
   "metadata": {},
   "outputs": [
    {
     "name": "stdout",
     "output_type": "stream",
     "text": [
      "1 8 27 64 125 "
     ]
    }
   ],
   "source": [
    "n = int(input(\"Enter n:\" ))\n",
    "for i in range(1,n+1):\n",
    "    print(i**3,end=' ')"
   ]
  },
  {
   "cell_type": "code",
   "execution_count": 22,
   "metadata": {},
   "outputs": [
    {
     "name": "stdout",
     "output_type": "stream",
     "text": [
      "2 1 4 3 "
     ]
    }
   ],
   "source": [
    "n = int(input(\"Enter n:\" ))\n",
    "# val1 = 2\n",
    "# val2 = 1\n",
    "# for i in range(n):\n",
    "#     if i%2 == 0:\n",
    "#         print(val1,end=\" \")\n",
    "#         val1 += 2\n",
    "#     else:\n",
    "#         print(val2,end=\" \")\n",
    "#         val2 += 2\n",
    "\n",
    "for i in range(n):\n",
    "    if i%2 == 0:\n",
    "        print(i+2,end=\" \")\n",
    "    else:\n",
    "        print(i,end=\" \")"
   ]
  },
  {
   "cell_type": "code",
   "execution_count": 60,
   "metadata": {},
   "outputs": [
    {
     "name": "stdout",
     "output_type": "stream",
     "text": [
      "0 1 1 2 3 5 8 13 21 34 "
     ]
    }
   ],
   "source": [
    "n = int(input(\"Enter a number: \"))\n",
    "# a = 0\n",
    "# b = 1\n",
    "# for i in range(0,n):\n",
    "#     if i==0 or i==1:\n",
    "#         print(i,end=\" \")\n",
    "#     else:\n",
    "#         c = a+b\n",
    "#         print(c,end=\" \")\n",
    "#         a = b\n",
    "#         b = c\n",
    "\n",
    "# lst = [0, 1] \n",
    "# for i in range(1,n-1):\n",
    "#     lst.append(lst[-1] + lst[-2])\n",
    "\n",
    "# print(*lst)\n",
    "\n",
    "a = 0\n",
    "b = 1\n",
    "for i in range(0,n):\n",
    "    print(a,end=\" \")\n",
    "    c = a+b\n",
    "    a = b\n",
    "    b = c\n"
   ]
  },
  {
   "cell_type": "code",
   "execution_count": 58,
   "metadata": {},
   "outputs": [
    {
     "name": "stdout",
     "output_type": "stream",
     "text": [
      "0 1 1 2 3 5 8 13 21 34 "
     ]
    }
   ],
   "source": [
    "n = int(input(\"Enter a number: \"))\n",
    "a = 0\n",
    "b = 1\n",
    "for i in range(0,n):\n",
    "    if i==0 or i==1:\n",
    "        print(i,end=\" \")\n",
    "    else:\n",
    "        c = a+b\n",
    "        print(c,end=\" \")\n",
    "        a = b\n",
    "        b = c"
   ]
  },
  {
   "cell_type": "code",
   "execution_count": 71,
   "metadata": {},
   "outputs": [
    {
     "name": "stdout",
     "output_type": "stream",
     "text": [
      "10\n"
     ]
    }
   ],
   "source": [
    "n = int(input())\n",
    "sum = 0\n",
    "for i in range(1,n+1):\n",
    "    sum += i\n",
    "print(sum)\n",
    "\n",
    "# print(sum(range(1,n+1)))"
   ]
  },
  {
   "cell_type": "code",
   "execution_count": 74,
   "metadata": {},
   "outputs": [
    {
     "name": "stdout",
     "output_type": "stream",
     "text": [
      "120\n"
     ]
    }
   ],
   "source": [
    "# facotrial of n\n",
    "\n",
    "n = int(input())\n",
    "if n == 0:\n",
    "    print(f'factorial of {n} is 1')\n",
    "else:\n",
    "    fact = 1\n",
    "    for i in range(1,n+1):\n",
    "        fact *= i\n",
    "    print(f'Factorial of {n} is {fact}')\n",
    "\n",
    "# fact = 1\n",
    "# for i in range(1,n+1):\n",
    "#     fact *= i\n",
    "# print(fact)\n",
    "\n",
    "# from functools import reduce\n",
    "# n = int(input())\n",
    "# l1 = [i for i in range(1,n+1)]\n",
    "# if n>0:\n",
    "#     res = reduce(lambda x,y : x*y, l1)\n",
    "# print(res if n!= 0 else 1)"
   ]
  },
  {
   "cell_type": "code",
   "execution_count": 86,
   "metadata": {},
   "outputs": [
    {
     "name": "stdout",
     "output_type": "stream",
     "text": [
      "6\n"
     ]
    }
   ],
   "source": [
    "# sum of n even numbers\n",
    "\n",
    "n = int(input())\n",
    "val = 0\n",
    "for i in range(1,n+1):\n",
    "    if i%2 == 0:\n",
    "        val+=i\n",
    "print(val)\n",
    "\n",
    "# print(sum([i for i in range(1,n+1) if i%2 == 0]))\n",
    "# print(sum(range(2,n+1,2)))"
   ]
  },
  {
   "cell_type": "code",
   "execution_count": 78,
   "metadata": {},
   "outputs": [
    {
     "name": "stdout",
     "output_type": "stream",
     "text": [
      "9\n"
     ]
    }
   ],
   "source": [
    "# sum of n odd numbers\n",
    "\n",
    "n = int(input())\n",
    "sum = 0\n",
    "for i in range(1,n+1):\n",
    "    if i%2 != 0:\n",
    "        sum+=i\n",
    "print(sum)"
   ]
  },
  {
   "cell_type": "code",
   "execution_count": 93,
   "metadata": {},
   "outputs": [
    {
     "name": "stdout",
     "output_type": "stream",
     "text": [
      "33\n"
     ]
    }
   ],
   "source": [
    "# sum of multiples of 3 and 5\n",
    "\n",
    "n = int(input())\n",
    "# print(sum([i for i in range(1,n+1) if i%3==0 or i%5==0]))\n",
    "sum = 0\n",
    "for i in range(1,n+1):\n",
    "    if i%3 == 0 or i%5 == 0:\n",
    "        sum+=i\n",
    "print(sum)"
   ]
  },
  {
   "cell_type": "code",
   "execution_count": 2,
   "metadata": {},
   "outputs": [
    {
     "name": "stdout",
     "output_type": "stream",
     "text": [
      "1 2 5 10\n"
     ]
    }
   ],
   "source": [
    "# factors of n\n",
    "\n",
    "n = int(input())\n",
    "# for i in range(1,n+1):\n",
    "#     if n%i == 0:\n",
    "#         print(i,end=\" \")\n",
    "print(*[i for i in range(1,n+1) if n%i==0])"
   ]
  },
  {
   "cell_type": "code",
   "execution_count": 4,
   "metadata": {},
   "outputs": [
    {
     "name": "stdout",
     "output_type": "stream",
     "text": [
      "4\n"
     ]
    }
   ],
   "source": [
    "# count the factors of n\n",
    "n = int(input())\n",
    "count = 0\n",
    "for i in range(1,n+1):\n",
    "    if n%i == 0:\n",
    "        count += 1\n",
    "print(count)"
   ]
  },
  {
   "cell_type": "code",
   "execution_count": 12,
   "metadata": {},
   "outputs": [
    {
     "name": "stdout",
     "output_type": "stream",
     "text": [
      "3 is not a prime number\n"
     ]
    }
   ],
   "source": [
    "# n is prime or not\n",
    "\n",
    "n = int(input())\n",
    "# count = 0\n",
    "# for i in range(1,n+1):\n",
    "#     if n%i == 0:\n",
    "#         count += 1\n",
    "# if count == 2:\n",
    "#     print(f'{n} is a prime number')\n",
    "# else:\n",
    "#     print(f'{n} is not a prime number')\n",
    "\n",
    "for i in range(2,n//2+1):\n",
    "    if n%i == 0:\n",
    "        count += 1\n",
    "        break\n",
    "if count == 0:\n",
    "    print(f'{n} is a prime number')\n",
    "else:\n",
    "    print(f'{n} is not a prime number')"
   ]
  },
  {
   "cell_type": "code",
   "execution_count": 21,
   "metadata": {},
   "outputs": [
    {
     "name": "stdout",
     "output_type": "stream",
     "text": [
      "25\n"
     ]
    }
   ],
   "source": [
    "# sum of n odd numbers\n",
    "\n",
    "n = int(input())\n",
    "\n",
    "# sum = 0\n",
    "# for i in range(1,2*n,2):\n",
    "#     sum += i\n",
    "# print(sum)\n",
    "\n",
    "# print(sum([i for i in range(1,2*n,2)]))\n",
    "\n",
    "# res = 0\n",
    "# for i in range(1,n+1):\n",
    "#     res += 2*i-1\n",
    "# print(res)\n",
    "\n",
    "# res = 0\n",
    "# for i in range(1,2*n):\n",
    "#     if i%2 != 0:\n",
    "#         res +=i \n",
    "# print(res)\n",
    "\n",
    "c = 1\n",
    "res = 0\n",
    "count = 0\n",
    "while True:\n",
    "    if c%2 != 0:\n",
    "        res += c\n",
    "        count += 1\n",
    "    c += 1\n",
    "    if count == n:\n",
    "        break\n",
    "print(res)\n",
    "    "
   ]
  },
  {
   "cell_type": "code",
   "execution_count": 28,
   "metadata": {},
   "outputs": [
    {
     "name": "stdout",
     "output_type": "stream",
     "text": [
      "2 3 5 7 "
     ]
    }
   ],
   "source": [
    "n = int(input())\n",
    "# for i in range(1,n+1):\n",
    "#     count = 0\n",
    "#     for j in range(1,n+1):\n",
    "#         if i%j == 0:\n",
    "#             count += 1\n",
    "#     if count == 2:\n",
    "#         print(i,end=\" \")\n",
    "\n",
    "for i in range(2,n+1):\n",
    "    count = 0\n",
    "    for j in range(2,i//2+1):\n",
    "        if i%j == 0:\n",
    "            count += 1\n",
    "            break\n",
    "    if count == 0:\n",
    "        print(i,end=\" \")"
   ]
  },
  {
   "cell_type": "code",
   "execution_count": 3,
   "metadata": {},
   "outputs": [
    {
     "name": "stdout",
     "output_type": "stream",
     "text": [
      "2 3 5 7 11 "
     ]
    }
   ],
   "source": [
    "n = int(input())\n",
    "# num = 2\n",
    "# count = 0\n",
    "\n",
    "# while count < n:\n",
    "#   is_prime = True\n",
    "#   val = 2\n",
    "#   while val * val <= num:\n",
    "#     if num % val == 0:\n",
    "#       is_prime = False\n",
    "#       break\n",
    "#     val += 1   \n",
    "#   if is_prime:\n",
    "#     print(num,end= \" \")\n",
    "#     count += 1\n",
    "#   num += 1\n",
    "\n",
    "count = 0\n",
    "i = 2\n",
    "while True:\n",
    "    f = 0\n",
    "    for j in range(2,i//2+1):\n",
    "        if i%j == 0:\n",
    "            f += 1\n",
    "            break\n",
    "    if f==0:\n",
    "        print(i,end=\" \")\n",
    "        count += 1\n",
    "    if count == n:\n",
    "        break\n",
    "    i += 1"
   ]
  },
  {
   "cell_type": "code",
   "execution_count": null,
   "metadata": {},
   "outputs": [],
   "source": [
    "num1 = int(input())\n",
    "num2 = int(input())\n",
    "l1 = []\n",
    "l2 = []\n",
    "for i in range(1,num1+1):\n",
    "    if num1%i == 0:\n",
    "        print(l1.append[i],end=\" \")\n",
    "for j in range(1,num2+1):\n",
    "    if num2%j == 0:\n",
    "        print(l2.append[j],end=\" \")\n"
   ]
  },
  {
   "cell_type": "code",
   "execution_count": 20,
   "metadata": {},
   "outputs": [
    {
     "name": "stdout",
     "output_type": "stream",
     "text": [
      "10\n"
     ]
    }
   ],
   "source": [
    "num1 = int(input())\n",
    "num2 = int(input())\n",
    "# hcf = 1\n",
    "# if num1 < num2:\n",
    "#     for i in range(num1,1,-1):\n",
    "#         if num1 % i == 0 and num2%i == 0:\n",
    "#             hcf = i\n",
    "# else:\n",
    "#     for i in range(num2,1,-1):\n",
    "#         if num1 % i == 0 and num2%i == 0:\n",
    "#             hcf = i\n",
    "# print(hcf)\n",
    "\n",
    "# hcf = 1\n",
    "# m = min(num1,num2)\n",
    "# for i in range(1,m+1):\n",
    "#     if num1%i == 0 and num2%i == 0:\n",
    "#         hcf = i\n",
    "# print(hcf)\n",
    "\n",
    "while num2 != 0:\n",
    "    num1,num2 = num2,num1%num2\n",
    "print(num1)"
   ]
  },
  {
   "cell_type": "code",
   "execution_count": 28,
   "metadata": {},
   "outputs": [
    {
     "name": "stdout",
     "output_type": "stream",
     "text": [
      "[1, 5]\n",
      "[1, 13]\n"
     ]
    }
   ],
   "source": [
    "n1 = int(input())\n",
    "n2 = int(input())\n",
    "l1 = []\n",
    "l2 = []\n",
    "for i in range(1,n1+1):\n",
    "    if n1%i == 0:\n",
    "        l1.append(i)\n",
    "for j in range(1,n2+1):\n",
    "    if n2%j == 0:\n",
    "        l2.append(j)\n",
    "print(l1)\n",
    "print(l2)"
   ]
  },
  {
   "cell_type": "code",
   "execution_count": 1,
   "metadata": {},
   "outputs": [
    {
     "name": "stdout",
     "output_type": "stream",
     "text": [
      "8\n"
     ]
    }
   ],
   "source": [
    "num1 = int(input())\n",
    "num2 = int(input())\n",
    "m1 = max(num1,num2)\n",
    "m2 = min(num1,num2)\n",
    "lcm = 0\n",
    "p = 0\n",
    "\n",
    "for i in range(1,m2+1):\n",
    "    p = i*m1\n",
    "    if p%num1 == 0 and p%num2 == 0:\n",
    "        lcm = p\n",
    "        break\n",
    "print(lcm)"
   ]
  },
  {
   "cell_type": "code",
   "execution_count": 5,
   "metadata": {},
   "outputs": [
    {
     "name": "stdout",
     "output_type": "stream",
     "text": [
      "143\n",
      "341\n"
     ]
    }
   ],
   "source": [
    "n = int(input())\n",
    "print(n)\n",
    "rev = 0\n",
    "while n != 0:\n",
    "    rem = n%10\n",
    "    rev = rev*10+rem\n",
    "    n//=10\n",
    "print(rev)"
   ]
  },
  {
   "cell_type": "code",
   "execution_count": 11,
   "metadata": {},
   "outputs": [
    {
     "name": "stdout",
     "output_type": "stream",
     "text": [
      "123456\n",
      "reverse of the number is 654321\n",
      "so 123456 is not a polindrome\n"
     ]
    }
   ],
   "source": [
    "n = int(input())\n",
    "num = n\n",
    "print(n)\n",
    "rev = 0\n",
    "while n != 0:\n",
    "    rem = n%10\n",
    "    rev = rev*10+rem\n",
    "    n//=10\n",
    "print(f'reverse of the number is {rev}')\n",
    "\n",
    "if num == rev:\n",
    "    print(f'so {num} is a polindrome')\n",
    "else:\n",
    "    print(f'so {num} is not a polindrome')"
   ]
  },
  {
   "cell_type": "code",
   "execution_count": 21,
   "metadata": {},
   "outputs": [
    {
     "name": "stdout",
     "output_type": "stream",
     "text": [
      "a b d u l\n",
      "l u d b a\n"
     ]
    }
   ],
   "source": [
    "n = input()\n",
    "lst = []\n",
    "for i in n:\n",
    "    lst.append(i)\n",
    "print(*lst)\n",
    "lst.reverse()\n",
    "print(*lst)"
   ]
  },
  {
   "cell_type": "code",
   "execution_count": 26,
   "metadata": {},
   "outputs": [
    {
     "name": "stdout",
     "output_type": "stream",
     "text": [
      "a b d u l\n",
      "l u d b a\n"
     ]
    }
   ],
   "source": [
    "n = input()\n",
    "lst = []\n",
    "rev = []\n",
    "for i in n:\n",
    "    lst.append(i)\n",
    "    rev.append(i)\n",
    "print(*rev)\n",
    "lst.reverse()\n",
    "print(*lst)"
   ]
  },
  {
   "cell_type": "code",
   "execution_count": 4,
   "metadata": {},
   "outputs": [
    {
     "name": "stdout",
     "output_type": "stream",
     "text": [
      "143\n",
      "341\n"
     ]
    }
   ],
   "source": [
    "n = int(input())\n",
    "print(n)\n",
    "rev = 0\n",
    "while n != 0:\n",
    "    rem = n%10\n",
    "    rev = rev*10+rem\n",
    "    n//=10\n",
    "print(rev)"
   ]
  },
  {
   "cell_type": "code",
   "execution_count": 10,
   "metadata": {},
   "outputs": [
    {
     "name": "stdout",
     "output_type": "stream",
     "text": [
      "153 is a armstrong number..\n"
     ]
    }
   ],
   "source": [
    "n = int(input())\n",
    "sum = 0\n",
    "for i in str(n):\n",
    "    val =  int(i) ** len(str(n))\n",
    "    sum += val\n",
    "if n == sum:\n",
    "    print(f'{n} is a armstrong number..')\n",
    "else:\n",
    "    print(f'{n} is not a armstrong number..')"
   ]
  },
  {
   "cell_type": "code",
   "execution_count": 11,
   "metadata": {},
   "outputs": [
    {
     "name": "stdout",
     "output_type": "stream",
     "text": [
      "1 is an armstrong number\n",
      "2 is an armstrong number\n",
      "3 is an armstrong number\n",
      "4 is an armstrong number\n",
      "5 is an armstrong number\n",
      "6 is an armstrong number\n",
      "7 is an armstrong number\n",
      "8 is an armstrong number\n",
      "9 is an armstrong number\n",
      "153 is an armstrong number\n",
      "370 is an armstrong number\n",
      "371 is an armstrong number\n",
      "407 is an armstrong number\n"
     ]
    }
   ],
   "source": [
    "n = int(input())\n",
    "for i in range(1,n+1):\n",
    "    s = len(str(i))\n",
    "    sum = 0\n",
    "    for j in str(i):\n",
    "        val = int(j)**s\n",
    "        sum += val\n",
    "    if sum == i:\n",
    "        print(f'{i} is an armstrong number')"
   ]
  },
  {
   "cell_type": "code",
   "execution_count": 14,
   "metadata": {},
   "outputs": [],
   "source": [
    "n = int(input())\n",
    "num = n\n",
    "while n > 0:\n",
    "    sum = 0\n",
    "    while n != 0:\n",
    "        val = n%10\n",
    "        sum += val ** len(str(n))\n",
    "        n //= 10\n",
    "\n",
    "    if num == sum:\n",
    "        print(f'{n} is armstrong number')\n",
    "\n",
    "    n -= 1\n"
   ]
  },
  {
   "cell_type": "code",
   "execution_count": 20,
   "metadata": {},
   "outputs": [
    {
     "name": "stdout",
     "output_type": "stream",
     "text": [
      "40585 is a strong number\n"
     ]
    }
   ],
   "source": [
    "n = int(input())\n",
    "sum = 0\n",
    "for i in str(n):\n",
    "    val = 1\n",
    "    for j in range(1,int(i)+1):\n",
    "        val *= j\n",
    "    sum += val\n",
    "if sum == n:\n",
    "    print(f'{n} is a strong number')\n",
    "else:\n",
    "    print(f'{n} is not a strong number')"
   ]
  },
  {
   "cell_type": "code",
   "execution_count": 8,
   "metadata": {},
   "outputs": [
    {
     "name": "stdout",
     "output_type": "stream",
     "text": [
      "123 is spy number\n"
     ]
    }
   ],
   "source": [
    "n = int(input())\n",
    "val = n\n",
    "sum,prod = 0,1\n",
    "\n",
    "while n != 0:\n",
    "    rem = n%10\n",
    "    sum += rem\n",
    "    prod *= rem\n",
    "    n //= 10\n",
    "\n",
    "if sum == prod:\n",
    "    print(f'{val} is spy number')\n",
    "else:\n",
    "    print(f'{val} is not a spy number')"
   ]
  },
  {
   "cell_type": "code",
   "execution_count": 10,
   "metadata": {},
   "outputs": [
    {
     "name": "stdout",
     "output_type": "stream",
     "text": [
      "49 is special number\n"
     ]
    }
   ],
   "source": [
    "n = int(input())\n",
    "val = n\n",
    "sum,prod = 0,1\n",
    "\n",
    "while n != 0:\n",
    "    rem = n%10\n",
    "    sum += rem\n",
    "    prod *= rem\n",
    "    n //= 10\n",
    "\n",
    "if sum+prod == val:\n",
    "    print(f'{val} is special number')\n",
    "else:\n",
    "    print(f'{val} is not a special number')"
   ]
  },
  {
   "cell_type": "code",
   "execution_count": null,
   "metadata": {},
   "outputs": [
    {
     "name": "stdout",
     "output_type": "stream",
     "text": [
      "7 is not a perfect number\n"
     ]
    }
   ],
   "source": [
    "n = int(input())\n",
    "sum = 0\n",
    "# for i in range(1,n):\n",
    "#     if n%i == 0:\n",
    "#         sum += i\n",
    "\n",
    "for i in range(1,(n//2)+1):\n",
    "    if n%i == 0:\n",
    "        sum += i\n",
    "\n",
    "if sum == n:\n",
    "    print(f'{n} is perfect number')\n",
    "else:\n",
    "    print(f'{n} is not a perfect number')"
   ]
  },
  {
   "cell_type": "code",
   "execution_count": null,
   "metadata": {},
   "outputs": [],
   "source": []
  }
 ],
 "metadata": {
  "kernelspec": {
   "display_name": "pyspiders_venv",
   "language": "python",
   "name": "python3"
  },
  "language_info": {
   "codemirror_mode": {
    "name": "ipython",
    "version": 3
   },
   "file_extension": ".py",
   "mimetype": "text/x-python",
   "name": "python",
   "nbconvert_exporter": "python",
   "pygments_lexer": "ipython3",
   "version": "3.11.7"
  }
 },
 "nbformat": 4,
 "nbformat_minor": 2
}
