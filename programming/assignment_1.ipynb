{
 "cells": [
  {
   "cell_type": "code",
   "execution_count": 89,
   "metadata": {},
   "outputs": [
    {
     "name": "stdout",
     "output_type": "stream",
     "text": [
      "1 \n",
      "2 2 \n",
      "3 3 3 \n",
      "4 4 4 4 \n"
     ]
    }
   ],
   "source": [
    "# 1.\n",
    "\n",
    "n = int(input('Enter n: '))\n",
    "val = 1\n",
    "\n",
    "for i in range(n):\n",
    "    for j in range(n):\n",
    "        if i >= j:\n",
    "            print(val,end=\" \")\n",
    "        else:\n",
    "            print(' ',end=\" \")\n",
    "    print()\n",
    "    val += 1\n",
    "    if val > 9:\n",
    "        val = 1"
   ]
  },
  {
   "cell_type": "code",
   "execution_count": 2,
   "metadata": {},
   "outputs": [
    {
     "name": "stdout",
     "output_type": "stream",
     "text": [
      "4       \n",
      "3 3     \n",
      "2 2 2   \n",
      "1 1 1 1 \n"
     ]
    }
   ],
   "source": [
    "# 2.\n",
    "n = int(input('Enter n: '))\n",
    "val = n\n",
    "\n",
    "if val > 9:\n",
    "    val = 9\n",
    "for i in range(n):\n",
    "    for j in range(n):\n",
    "        if i >= j:\n",
    "            print(val,end=\" \")\n",
    "        else:\n",
    "            print(' ',end=\" \")\n",
    "    print()\n",
    "    val -= 1\n",
    "    if val < 1:\n",
    "        val = 9"
   ]
  },
  {
   "cell_type": "code",
   "execution_count": 3,
   "metadata": {},
   "outputs": [
    {
     "name": "stdout",
     "output_type": "stream",
     "text": [
      "4       \n",
      "  3     \n",
      "    2   \n",
      "      1 \n"
     ]
    }
   ],
   "source": [
    "# 3.\n",
    "n = int(input('Enter n: '))\n",
    "val = n\n",
    "if val > 9:\n",
    "    val = 9\n",
    "for i in range(n):\n",
    "    for j in range(n):\n",
    "        if i == j:\n",
    "            print(val,end=\" \")\n",
    "        else:\n",
    "            print(' ',end=\" \")\n",
    "    print()\n",
    "    val -= 1\n",
    "    if val < 1:\n",
    "        val = 9"
   ]
  },
  {
   "cell_type": "code",
   "execution_count": 4,
   "metadata": {},
   "outputs": [
    {
     "name": "stdout",
     "output_type": "stream",
     "text": [
      "1       \n",
      "  2     \n",
      "    3   \n",
      "      4 \n"
     ]
    }
   ],
   "source": [
    "# 4. \n",
    "n = int(input('Enter n: '))\n",
    "val = 1\n",
    "\n",
    "for i in range(n):\n",
    "    for j in range(n):\n",
    "        if i == j:\n",
    "            print(val,end=\" \")\n",
    "        else:\n",
    "            print(' ',end=\" \")\n",
    "    print()\n",
    "    val += 1\n",
    "    if val > 9:\n",
    "        val = 1"
   ]
  },
  {
   "cell_type": "code",
   "execution_count": 5,
   "metadata": {},
   "outputs": [
    {
     "name": "stdout",
     "output_type": "stream",
     "text": [
      "A       \n",
      "  B     \n",
      "    C   \n",
      "      D \n"
     ]
    }
   ],
   "source": [
    "# 5. \n",
    "n = int(input('Enter n: '))\n",
    "val = ord('A')\n",
    "for i in range(n):\n",
    "    for j in range(n):\n",
    "        if i == j:\n",
    "            print(chr(val),end=\" \")\n",
    "        else:\n",
    "            print(' ',end=\" \")\n",
    "    print()\n",
    "    val += 1\n",
    "    if val > ord('Z'):\n",
    "        val = ord('A')"
   ]
  },
  {
   "cell_type": "code",
   "execution_count": 6,
   "metadata": {},
   "outputs": [
    {
     "name": "stdout",
     "output_type": "stream",
     "text": [
      "Z       \n",
      "  Y     \n",
      "    X   \n",
      "      W \n"
     ]
    }
   ],
   "source": [
    "# 6. \n",
    "n = int(input('Enter n: '))\n",
    "val = ord('Z')\n",
    "if n > 26:\n",
    "    val = ord('Z')\n",
    "for i in range(n):\n",
    "    for j in range(n):\n",
    "        if i == j:\n",
    "            print(chr(val),end=\" \")\n",
    "        else:\n",
    "            print(' ',end=\" \")\n",
    "    print()\n",
    "    val -= 1\n",
    "    if val < ord('A'):\n",
    "        val = ord('Z')"
   ]
  },
  {
   "cell_type": "code",
   "execution_count": 106,
   "metadata": {},
   "outputs": [
    {
     "name": "stdout",
     "output_type": "stream",
     "text": [
      "      1 \n",
      "    2 2 \n",
      "  3 3 3 \n",
      "4 4 4 4 \n"
     ]
    }
   ],
   "source": [
    "# 7. \n",
    "n = int(input('Enter n: '))\n",
    "val = 1\n",
    "for i in range(n):\n",
    "    for j in range(n):\n",
    "        if i+j >= n-1:\n",
    "            print(val,end=\" \")\n",
    "        else:\n",
    "            print(' ',end=\" \")\n",
    "    print()\n",
    "    val += 1\n",
    "    if val > 9:\n",
    "        val = 1"
   ]
  },
  {
   "cell_type": "code",
   "execution_count": 8,
   "metadata": {},
   "outputs": [
    {
     "name": "stdout",
     "output_type": "stream",
     "text": [
      "      4 \n",
      "    3 3 \n",
      "  2 2 2 \n",
      "1 1 1 1 \n"
     ]
    }
   ],
   "source": [
    "# 8. \n",
    "n = int(input('Enter n: '))\n",
    "val = n\n",
    "if val > 9:\n",
    "    val = 9\n",
    "for i in range(n):\n",
    "    for j in range(n):\n",
    "        if i+j >= n-1:\n",
    "            print(val,end=\" \")\n",
    "        else:\n",
    "            print(' ',end=\" \")\n",
    "    print()\n",
    "    val -= 1\n",
    "    if val < 1:\n",
    "        val = 9"
   ]
  },
  {
   "cell_type": "code",
   "execution_count": 1,
   "metadata": {},
   "outputs": [
    {
     "name": "stdout",
     "output_type": "stream",
     "text": [
      "1 2 3 4 \n",
      "  1 2 3 \n",
      "    1 2 \n",
      "      1 \n"
     ]
    }
   ],
   "source": [
    "# 9. \n",
    "# n = int(input('Enter n: '))\n",
    "# val = 1\n",
    "# for i in range(n):\n",
    "#     for j in range(n):\n",
    "#         if i <= j:\n",
    "#             print(val+j,end=\" \")\n",
    "#         else:\n",
    "#             print(' ',end=\" \")\n",
    "        \n",
    "#     print()\n",
    "#     val -= 1\n",
    "\n",
    "\n",
    "n = int(input('Enter n: '))\n",
    "\n",
    "for i in range(n):\n",
    "    val = 1\n",
    "    for j in range(n):\n",
    "        if i <= j:\n",
    "            print(val, end=\" \")\n",
    "            val += 1\n",
    "            if val > 9:\n",
    "                val = 1\n",
    "        else:\n",
    "            print(' ', end=\" \")\n",
    "    print()"
   ]
  },
  {
   "cell_type": "code",
   "execution_count": 42,
   "metadata": {},
   "outputs": [
    {
     "name": "stdout",
     "output_type": "stream",
     "text": [
      "4 4 4 4 \n",
      "  3 3 3 \n",
      "    2 2 \n",
      "      1 \n"
     ]
    }
   ],
   "source": [
    "# 10.\n",
    "n = int(input('Enter n: '))\n",
    "val = n\n",
    "if n > 9:\n",
    "    val = 9\n",
    "for i in range(n):\n",
    "    for j in range(n):\n",
    "        if i <= j:\n",
    "            print(val,end=\" \")\n",
    "        else: \n",
    "            print(\" \",end=\" \")\n",
    "    print()\n",
    "    val -= 1\n",
    "    if val < 1:\n",
    "        val = 9"
   ]
  },
  {
   "cell_type": "code",
   "execution_count": 44,
   "metadata": {},
   "outputs": [
    {
     "name": "stdout",
     "output_type": "stream",
     "text": [
      "A B C D \n",
      "  A B C \n",
      "    A B \n",
      "      A \n"
     ]
    }
   ],
   "source": [
    "# 11.\n",
    "n = int(input('Enter n: '))\n",
    "val = ord('A')\n",
    "if n > 26:\n",
    "    val = 9\n",
    "for i in range(n):\n",
    "    for j in range(n):\n",
    "        if i <= j:\n",
    "            print(chr(val),end=\" \")\n",
    "            val += 1\n",
    "            if val > ord('Z'):\n",
    "                val = ord('A')\n",
    "        else: \n",
    "            print(\" \",end=\" \")\n",
    "    print()\n",
    "    val = ord('A')"
   ]
  },
  {
   "cell_type": "code",
   "execution_count": 46,
   "metadata": {},
   "outputs": [
    {
     "name": "stdout",
     "output_type": "stream",
     "text": [
      "A       \n",
      "A B     \n",
      "A B C   \n",
      "A B C D \n"
     ]
    }
   ],
   "source": [
    "# 12. \n",
    "n = int(input('Enter n: '))\n",
    "val = ord('A')\n",
    "for i in range(n):\n",
    "    for j in range(n):\n",
    "        if i >= j:\n",
    "            print(chr(val),end=\" \")\n",
    "            val += 1\n",
    "            if val > ord('Z'):\n",
    "                val = ord('A')\n",
    "        else: \n",
    "            print(\" \",end=\" \")\n",
    "    print()\n",
    "    val = ord('A')"
   ]
  },
  {
   "cell_type": "code",
   "execution_count": 107,
   "metadata": {},
   "outputs": [
    {
     "name": "stdout",
     "output_type": "stream",
     "text": [
      "E D C B A \n",
      "  E D C B \n",
      "    E D C \n",
      "      E D \n",
      "        E \n"
     ]
    }
   ],
   "source": [
    "# 13.\n",
    "n = int(input('Enter n: '))\n",
    "val = ord('A')+(n-1)\n",
    "# if n > 25:\n",
    "#     val = ord('Z')\n",
    "if val > ord('Z'):\n",
    "    val = ord('Z')\n",
    "\n",
    "for i in range(n):\n",
    "    for j in range(n):\n",
    "        if i <= j:\n",
    "            print(chr(val),end=' ')\n",
    "            val -= 1\n",
    "            if val < ord('A'):\n",
    "                val = ord('Z')\n",
    "        else: \n",
    "            print(' ',end=\" \")\n",
    "    print()\n",
    "    val = ord('A')+(n-1)\n",
    "    # if n > 25:\n",
    "    #     val = ord('Z')\n",
    "    if val > ord('Z'):\n",
    "        val = ord('Z')"
   ]
  },
  {
   "cell_type": "code",
   "execution_count": 71,
   "metadata": {},
   "outputs": [
    {
     "name": "stdout",
     "output_type": "stream",
     "text": [
      "D       \n",
      "C C     \n",
      "B B B   \n",
      "A A A A \n"
     ]
    }
   ],
   "source": [
    "# 14. \n",
    "n = int(input('Enter n: '))\n",
    "val = ord('A')+(n-1)\n",
    "if n > 25:\n",
    "    # val += 25\n",
    "    val = ord('Z')\n",
    "for i in range(n):\n",
    "    for j in range(n):\n",
    "        if i >= j:\n",
    "            print(chr(val),end=\" \")\n",
    "        else:\n",
    "            print(\" \",end=\" \")\n",
    "    print()\n",
    "    val -= 1\n",
    "    if val < ord('A'):\n",
    "        val = ord('Z')"
   ]
  },
  {
   "cell_type": "code",
   "execution_count": 78,
   "metadata": {},
   "outputs": [
    {
     "name": "stdout",
     "output_type": "stream",
     "text": [
      "      A \n",
      "    B   \n",
      "  C     \n",
      "D       \n"
     ]
    }
   ],
   "source": [
    "# 15. \n",
    "n = int(input('Enter n: '))\n",
    "val = ord('A')\n",
    "for i in range(n):\n",
    "    for j in range(n):\n",
    "        if i+j == n-1:\n",
    "            print(chr(val),end=\" \")\n",
    "        else:\n",
    "            print(' ',end=\" \")\n",
    "    print()\n",
    "    val += 1\n",
    "    if val > ord('Z'):\n",
    "        val = ord('A')"
   ]
  },
  {
   "cell_type": "code",
   "execution_count": 80,
   "metadata": {},
   "outputs": [
    {
     "name": "stdout",
     "output_type": "stream",
     "text": [
      "A B C D \n",
      "A B C   \n",
      "A B     \n",
      "A       \n"
     ]
    }
   ],
   "source": [
    "# 16.\n",
    "n = int(input('Enter n: '))\n",
    "val = ord('A')\n",
    "for i in range(n):\n",
    "    for j in range(n):\n",
    "        if i+j <= n-1:\n",
    "            print(chr(val),end=\" \")\n",
    "            val += 1\n",
    "            if val > ord('Z'):\n",
    "                val = ord('A')\n",
    "        else:\n",
    "            print(\" \",end=\" \")\n",
    "    print()\n",
    "    val = ord('A')"
   ]
  },
  {
   "cell_type": "code",
   "execution_count": 83,
   "metadata": {},
   "outputs": [
    {
     "name": "stdout",
     "output_type": "stream",
     "text": [
      "      Z \n",
      "    Y   \n",
      "  X     \n",
      "W       \n"
     ]
    }
   ],
   "source": [
    "# 17. \n",
    "n = int(input('Enter n: '))\n",
    "val = ord('Z')\n",
    "for i in range(n):\n",
    "    for j in range(n):\n",
    "        if i+j == n-1:\n",
    "            print(chr(val),end=\" \")\n",
    "        else:\n",
    "            print(\" \",end=\" \")\n",
    "    print()\n",
    "    val -= 1\n",
    "    if val < ord('A'):\n",
    "        val = ord('Z')"
   ]
  },
  {
   "cell_type": "code",
   "execution_count": 86,
   "metadata": {},
   "outputs": [
    {
     "name": "stdout",
     "output_type": "stream",
     "text": [
      "      4 \n",
      "    3   \n",
      "  2     \n",
      "1       \n"
     ]
    }
   ],
   "source": [
    "# 18.\n",
    "n = int(input('Enter n: '))\n",
    "val = n\n",
    "if val > 9:\n",
    "    val = 9\n",
    "for i in range(n):\n",
    "    for j in range(n):\n",
    "        if i+j == n-1:\n",
    "            print(val,end=\" \")\n",
    "        else:\n",
    "            print(\" \",end=\" \")\n",
    "    print()\n",
    "    val -= 1\n",
    "    if val < 1:\n",
    "        val = 9"
   ]
  },
  {
   "cell_type": "code",
   "execution_count": 91,
   "metadata": {},
   "outputs": [
    {
     "name": "stdout",
     "output_type": "stream",
     "text": [
      "      D \n",
      "    C   \n",
      "  B     \n",
      "A       \n"
     ]
    }
   ],
   "source": [
    "# 19.\n",
    "n = int(input('Enter n: '))\n",
    "val = ord('A')+(n-1)\n",
    "if val > ord('Z'):\n",
    "    val = ord('Z')\n",
    "for i in range(n):\n",
    "    for j in range(n):\n",
    "        if i+j == n-1:\n",
    "            print(chr(val),end=\" \")\n",
    "        else:\n",
    "            print(\" \",end=\" \")\n",
    "    print()\n",
    "    val -= 1\n",
    "    if val < ord('A'):\n",
    "        val = ord('Z')"
   ]
  },
  {
   "cell_type": "code",
   "execution_count": 100,
   "metadata": {},
   "outputs": [
    {
     "name": "stdout",
     "output_type": "stream",
     "text": [
      "      A \n",
      "    B C \n",
      "  D E F \n",
      "G H I J \n"
     ]
    }
   ],
   "source": [
    "# 20. \n",
    "n = int(input('Enter n: '))\n",
    "val = ord('A')\n",
    "if n > 26:\n",
    "    val = ord('A')\n",
    "for i in range(n):\n",
    "    for j in range(n):\n",
    "        if i+j >= n-1:\n",
    "            print(chr(val),end=\" \")\n",
    "            val += 1\n",
    "            if val > ord('Z'):\n",
    "                val = ord('A')\n",
    "        else:\n",
    "            print(\" \",end=\" \")\n",
    "    print()"
   ]
  },
  {
   "cell_type": "code",
   "execution_count": 24,
   "metadata": {},
   "outputs": [
    {
     "name": "stdout",
     "output_type": "stream",
     "text": [
      "1 * * * \n",
      "2 3 * * \n",
      "4 5 6 * \n",
      "7 8 9 1 \n"
     ]
    }
   ],
   "source": [
    "# 21.\n",
    "n = int(input(\"Enter n: \"))\n",
    "val = 1\n",
    "for i in range(n):\n",
    "    for j in range(n):\n",
    "        if i >= j:\n",
    "            print(val,end=\" \")\n",
    "            val += 1\n",
    "            if val > 9:\n",
    "                val = 1\n",
    "        else:\n",
    "            print(\"*\",end=\" \")\n",
    "    print()\n",
    "    "
   ]
  },
  {
   "cell_type": "code",
   "execution_count": 70,
   "metadata": {},
   "outputs": [
    {
     "name": "stdout",
     "output_type": "stream",
     "text": [
      "* 1 2 3 \n",
      "1 * 1 2 \n",
      "1 2 * 1 \n",
      "1 2 3 * \n"
     ]
    }
   ],
   "source": [
    "# 22.\n",
    "# n = int(input(\"Enter n: \"))\n",
    "# for i in range(n):\n",
    "#     val1 = 1\n",
    "#     val2 = 1\n",
    "#     for j in range(n):\n",
    "#         if i == j:\n",
    "#             print(\"*\",end=\" \")\n",
    "#         else:\n",
    "#             if i > j:\n",
    "#                 print(val1,end=\" \")\n",
    "#                 val1 += 1\n",
    "#                 if val1 > 9:\n",
    "#                     val1 = 1\n",
    "#             else:\n",
    "#                 print(val2,end=\" \")\n",
    "#                 val2 += 1\n",
    "#                 if val2 > 9:\n",
    "#                     val2 = 1\n",
    "#     print()\n",
    "\n",
    "# n = int(input(\"Enter n: \"))\n",
    "# for i in range(n):\n",
    "#     val1 = 1\n",
    "#     val2 = 1\n",
    "#     for j in range(n):\n",
    "#         if i > j:\n",
    "#             print(val1,end=\" \")\n",
    "#             val1 += 1\n",
    "#             if val1 > 9:\n",
    "#                 val1 = 1\n",
    "#         elif i < j:\n",
    "#             print(val2,end=\" \")\n",
    "#             val2 += 1\n",
    "#             if val2 > 9:\n",
    "#                 val2 = 1\n",
    "#         else:\n",
    "#             print('*',end=\" \")\n",
    "#     print()\n",
    "\n",
    "\n",
    "n = int(input(\"Enter n: \"))\n",
    "for i in range(n):\n",
    "    val = 1\n",
    "    for j in range(n):\n",
    "        if i > j:\n",
    "            print(val,end=\" \")\n",
    "            val += 1\n",
    "            if val > 9:\n",
    "                val = 1\n",
    "        elif i < j:\n",
    "            print(val,end=\" \")\n",
    "            val += 1\n",
    "            if val > 9:\n",
    "                val = 1\n",
    "        else:\n",
    "            print('*',end=\" \")\n",
    "            val = 1\n",
    "    print()\n"
   ]
  },
  {
   "cell_type": "code",
   "execution_count": 87,
   "metadata": {},
   "outputs": [
    {
     "name": "stdout",
     "output_type": "stream",
     "text": [
      "      1 \n",
      "    * * \n",
      "  2 2 2 \n",
      "* * * * \n"
     ]
    }
   ],
   "source": [
    "# 23.\n",
    "n = int(input(\"Enter n: \"))\n",
    "val = 1\n",
    "for i in range(n):\n",
    "    for j in range(n):\n",
    "        if i+j >= n-1:\n",
    "            if i%2 == 0:\n",
    "                print(val,end=\" \") \n",
    "            else:\n",
    "                print('*',end=\" \")\n",
    "        else:\n",
    "            print(\" \",end=\" \")\n",
    "    print()\n",
    "    if i%2 == 0:\n",
    "        val+=1\n",
    "    if val > 9:\n",
    "        val = 1"
   ]
  },
  {
   "cell_type": "code",
   "execution_count": 88,
   "metadata": {},
   "outputs": [
    {
     "name": "stdout",
     "output_type": "stream",
     "text": [
      "1 \n",
      "* 2 \n",
      "* 3 * \n",
      "4 * 5 * \n"
     ]
    }
   ],
   "source": [
    "# 24.\n",
    "n = int(input(\"Enter n: \"))\n",
    "val = 1\n",
    "p = True\n",
    "for i in range(n):\n",
    "    for j in range(n):\n",
    "        if i >= j:\n",
    "            if p:\n",
    "                print(val,end=\" \")\n",
    "                val += 1\n",
    "                p = False\n",
    "                if val > 9:\n",
    "                    val = 1\n",
    "            else:\n",
    "                print('*',end=\" \")\n",
    "                p = True\n",
    "    print()       "
   ]
  },
  {
   "cell_type": "code",
   "execution_count": 91,
   "metadata": {},
   "outputs": [
    {
     "name": "stdout",
     "output_type": "stream",
     "text": [
      "*       * \n",
      "  *   *   \n",
      "    *     \n",
      "  *   *   \n",
      "*       * \n"
     ]
    }
   ],
   "source": [
    "# 25.\n",
    "n = int(input(\"Enter n: \"))\n",
    "for i in range(n):\n",
    "    for j in range(n):\n",
    "        if i==j or i+j==n-1:\n",
    "            print('*',end=\" \")\n",
    "        else:\n",
    "            print(' ',end=\" \")\n",
    "    print()"
   ]
  },
  {
   "cell_type": "code",
   "execution_count": 95,
   "metadata": {},
   "outputs": [
    {
     "name": "stdout",
     "output_type": "stream",
     "text": [
      "* * * * * \n",
      "* - - - * \n",
      "* - - - * \n",
      "* - - - * \n",
      "* * * * * \n"
     ]
    }
   ],
   "source": [
    "# 26. \n",
    "n = int(input(\"Enter n: \"))\n",
    "for i in range(n):\n",
    "    for j in range(n):\n",
    "        if i==0 or i==n-1 or j==0 or j==n-1:\n",
    "            print(\"*\",end=\" \")\n",
    "        else:\n",
    "            print(\"-\",end=\" \")\n",
    "    print()"
   ]
  },
  {
   "cell_type": "code",
   "execution_count": 97,
   "metadata": {},
   "outputs": [
    {
     "name": "stdout",
     "output_type": "stream",
     "text": [
      "* * * * * * * \n",
      "* *       * * \n",
      "*   *   *   * \n",
      "*     *     * \n",
      "*   *   *   * \n",
      "* *       * * \n",
      "* * * * * * * \n"
     ]
    }
   ],
   "source": [
    "# 27.\n",
    "n = int(input(\"Enter n: \"))\n",
    "for i in range(n):\n",
    "    for j in range(n):\n",
    "        if i==0 or i==n-1 or j==0 or j==n-1 or i==j or i+j==n-1:\n",
    "            print(\"*\",end=\" \")\n",
    "        else:\n",
    "            print(\" \",end=\" \")\n",
    "    print()"
   ]
  },
  {
   "cell_type": "code",
   "execution_count": 100,
   "metadata": {},
   "outputs": [
    {
     "name": "stdout",
     "output_type": "stream",
     "text": [
      "* * * * \n",
      "*     * \n",
      "*     * \n",
      "* * * * \n"
     ]
    }
   ],
   "source": [
    "# 28.\n",
    "n = int(input(\"Enter n: \"))\n",
    "for i in range(n):\n",
    "    for j in range(n):\n",
    "        if i==0 or i==n-1 or j==0 or j==n-1 or (i==j and i+j==n-1):\n",
    "            print(\"*\",end=\" \")\n",
    "        else:\n",
    "            print(\" \",end=\" \")\n",
    "    print()\n",
    "\n",
    "# n = int(input(\"Enter n: \"))\n",
    "# for i in range(n):\n",
    "#     for j in range(n):\n",
    "#         if i==0 or i==n-1 or j==0 or j==n-1 or (i==n//2 and j==n//2):\n",
    "#             print(\"*\",end=\" \")\n",
    "#         else:\n",
    "#             print(\" \",end=\" \")\n",
    "#     print()"
   ]
  },
  {
   "cell_type": "code",
   "execution_count": null,
   "metadata": {},
   "outputs": [
    {
     "name": "stdout",
     "output_type": "stream",
     "text": [
      "* * * \n",
      "*   * \n",
      "* * * \n",
      "*   * \n",
      "*   * \n"
     ]
    }
   ],
   "source": [
    "n = int(input(\"Enter n: \"))\n",
    "for i in range(n):\n",
    "    for j in range(n-2):\n",
    "        if i==0 or i==n-3 or j==n-3 or j==0:\n",
    "            print('*',end=\" \")\n",
    "        else: \n",
    "            print(\" \",end=\" \")\n",
    "    print()"
   ]
  },
  {
   "cell_type": "code",
   "execution_count": 29,
   "metadata": {},
   "outputs": [
    {
     "name": "stdout",
     "output_type": "stream",
     "text": [
      "*             \n",
      "* *           \n",
      "*   *         \n",
      "*     *       \n",
      "*       *     \n",
      "*         *   \n",
      "* * * * * * * \n"
     ]
    }
   ],
   "source": [
    "n = int(input(\"Enter n: \"))\n",
    "for i in range(n):\n",
    "    for j in range(n):\n",
    "        if i==j or j==0 or i==n-1:\n",
    "             print('*',end=\" \")\n",
    "        else: \n",
    "            print(\" \",end=\" \")\n",
    "    print()"
   ]
  },
  {
   "cell_type": "code",
   "execution_count": null,
   "metadata": {},
   "outputs": [],
   "source": []
  }
 ],
 "metadata": {
  "kernelspec": {
   "display_name": "pyspiders_venv",
   "language": "python",
   "name": "python3"
  },
  "language_info": {
   "codemirror_mode": {
    "name": "ipython",
    "version": 3
   },
   "file_extension": ".py",
   "mimetype": "text/x-python",
   "name": "python",
   "nbconvert_exporter": "python",
   "pygments_lexer": "ipython3",
   "version": "3.11.7"
  }
 },
 "nbformat": 4,
 "nbformat_minor": 2
}
