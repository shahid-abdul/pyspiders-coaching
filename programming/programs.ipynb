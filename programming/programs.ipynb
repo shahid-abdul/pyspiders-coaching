{
 "cells": [
  {
   "cell_type": "code",
   "execution_count": 42,
   "metadata": {},
   "outputs": [
    {
     "name": "stdout",
     "output_type": "stream",
     "text": [
      "10 20\n",
      "20 10\n",
      "20 10\n",
      "10 20\n"
     ]
    }
   ],
   "source": [
    "# swapping of 2 numbers\n",
    "\n",
    "a = int(input(\"Enter first number: \"))\n",
    "b = int(input(\"Enter second number: \"))\n",
    "print(a,b)\n",
    "a = a^b\n",
    "b = a^b\n",
    "a = a^b\n",
    "print(a,b)\n",
    "\n",
    "# print(a,b)\n",
    "# a = a+b\n",
    "# b = a-b\n",
    "# a = a-b\n",
    "# print(a,b)\n",
    "\n",
    "# print(a,b)\n",
    "# c = a\n",
    "# a = b\n",
    "# b = c\n",
    "# print(a,b)\n",
    "\n",
    "# print(a,b)\n",
    "# a = a*b\n",
    "# b = a//b\n",
    "# a = a//b\n",
    "# print(a,b)"
   ]
  },
  {
   "cell_type": "code",
   "execution_count": 10,
   "metadata": {},
   "outputs": [
    {
     "name": "stdout",
     "output_type": "stream",
     "text": [
      "10 is Even\n"
     ]
    }
   ],
   "source": [
    "# check the number is even or odd without using if and looping in a single line\n",
    "\n",
    "a = int(input(\"Enter a number: \"))\n",
    "\n",
    "print('{} is Even'.format(a)*(a%2 == 0) + '{} is Odd'.format(a)*(a%2 != 0))\n",
    "\n",
    "# print(['{} is Even'.format(a), '{} Odd'.format(a)][a%2])\n",
    "\n",
    "# if a%2 == 0:\n",
    "#     print(f'{a} is even..')\n",
    "# else:\n",
    "#     print(f'{a} is odd..')\n",
    "\n",
    "# if (a//2)*2 == a:\n",
    "#     print(f'{a} is even..')\n",
    "# else:\n",
    "#     print(f'{a} is odd..')\n",
    "\n",
    "# if a>>1<<1 == a:\n",
    "#     print('Even')\n",
    "# else:\n",
    "#     print('Odd')\n"
   ]
  },
  {
   "cell_type": "code",
   "execution_count": 22,
   "metadata": {},
   "outputs": [
    {
     "name": "stdout",
     "output_type": "stream",
     "text": [
      "abdul is not a polindrome\n"
     ]
    }
   ],
   "source": [
    "# program for polindrome\n",
    "\n",
    "str = input(\"Enter a string: \")\n",
    "l1 = list(str)\n",
    "l2 = list(str)\n",
    "l2.reverse()\n",
    "if l1 == l2:\n",
    "    print(f'{str} is polindrome')\n",
    "else:\n",
    "    print(f'{str} is not a polindrome')"
   ]
  },
  {
   "cell_type": "code",
   "execution_count": 38,
   "metadata": {},
   "outputs": [],
   "source": [
    "# Fibonacci series program\n",
    "# n = int(input(\"Enter the number: \"))\n",
    "\n",
    "# a = 0\n",
    "# b = 1\n",
    "# for i in range(n):\n",
    "#     print(a)\n",
    "#     a = b\n",
    "#     b = a+b"
   ]
  },
  {
   "cell_type": "code",
   "execution_count": 41,
   "metadata": {},
   "outputs": [
    {
     "name": "stdout",
     "output_type": "stream",
     "text": [
      "0 1 1 2 3 5 8 13 21 34 55 "
     ]
    }
   ],
   "source": [
    "num = int(input(\"Enter the number of Fibonacci numbers to generate: \"))\n",
    "\n",
    "a, b = 0, 1\n",
    "for i in range(num+1):\n",
    "    print(a,end=\" \")\n",
    "    a, b = b, a + b"
   ]
  },
  {
   "cell_type": "code",
   "execution_count": 59,
   "metadata": {},
   "outputs": [
    {
     "name": "stdout",
     "output_type": "stream",
     "text": [
      "10 20 30\n",
      "30 10 20\n"
     ]
    }
   ],
   "source": [
    "# swapping of 3 numbers\n",
    "a = int(input(\"Enter first number: \"))\n",
    "b = int(input(\"Enter second number: \"))\n",
    "c = int(input(\"Enter third number: \"))\n",
    "\n",
    "#print(f'Before swapping a:{a}, b:{b}, c:{c}')\n",
    "# a,b,c = c,a,b\n",
    "#print(f'After swapping a:{a}, b:{b}, c:{c}')\n",
    "\n",
    "#print(f'Before swapping a:{a}, b:{b}, c:{c}')\n",
    "# d = a\n",
    "# a = c\n",
    "# c = b\n",
    "# b = d\n",
    "#print(f'After swapping a:{a}, b:{b}, c:{c}')\n",
    "\n",
    "#print(f'Before swapping a:{a}, b:{b}, c:{c}')\n",
    "# a = a+b+c\n",
    "# b = a-(b+c)\n",
    "# c = a-(b+c)\n",
    "# a = a-(b+c)\n",
    "#print(f'After swapping a:{a}, b:{b}, c:{c}')\n",
    "\n",
    "#print(f'Before swapping a:{a}, b:{b}, c:{c}')\n",
    "# a = a*b*c\n",
    "# b = a//(b*c)\n",
    "# c = a//(b*c)\n",
    "# a = a//(b*c)\n",
    "#print(f'After swapping a:{a}, b:{b}, c:{c}')\n",
    "\n",
    "print(f'Before swapping a:{a}, b:{b}, c:{c}')\n",
    "a = a^b^c\n",
    "b = a^(b^c)\n",
    "c = a^(b^c)\n",
    "a = a^(b^c)\n",
    "print(f'After swapping a:{a}, b:{b}, c:{c}')"
   ]
  },
  {
   "cell_type": "markdown",
   "metadata": {},
   "source": [
    "## Pattern Programming"
   ]
  },
  {
   "cell_type": "code",
   "execution_count": 11,
   "metadata": {},
   "outputs": [
    {
     "name": "stdout",
     "output_type": "stream",
     "text": [
      "*\n",
      "*\n",
      "*\n"
     ]
    }
   ],
   "source": [
    "# controlling the no of rows\n",
    "rows = int(input('Enter rows: '))\n",
    "for i in range(rows):\n",
    "    print('*')"
   ]
  },
  {
   "cell_type": "code",
   "execution_count": 14,
   "metadata": {},
   "outputs": [
    {
     "name": "stdout",
     "output_type": "stream",
     "text": [
      "* * * \n",
      "* * * \n",
      "* * * \n"
     ]
    }
   ],
   "source": [
    "# controlling the no of columns\n",
    "row = int(input('Enter rows: '))\n",
    "col = int(input(\"Enter columns: \"))\n",
    "for i in range(row):\n",
    "    for j in range(col):\n",
    "        print('*',end=' ')\n",
    "    print()"
   ]
  },
  {
   "cell_type": "code",
   "execution_count": 16,
   "metadata": {},
   "outputs": [
    {
     "name": "stdout",
     "output_type": "stream",
     "text": [
      "1 2 3 4 \n",
      "5 6 7 8 \n",
      "9 1 2 3 \n",
      "4 5 6 7 \n"
     ]
    }
   ],
   "source": [
    "# controlling the values\n",
    "row = int(input('Enter rows: '))\n",
    "col = int(input(\"Enter columns: \"))\n",
    "val = 1\n",
    "for i in range(row):\n",
    "    for j in range(col):\n",
    "        print(val,end=' ')\n",
    "        val += 1\n",
    "    print()"
   ]
  },
  {
   "cell_type": "code",
   "execution_count": 17,
   "metadata": {},
   "outputs": [
    {
     "name": "stdout",
     "output_type": "stream",
     "text": [
      "1 2 3 \n",
      "4 5 6 \n",
      "7 8 9 \n"
     ]
    }
   ],
   "source": [
    "row = int(input('Enter rows: '))\n",
    "col = int(input(\"Enter columns: \"))\n",
    "val = 1\n",
    "for i in range(row):\n",
    "    for j in range(col):\n",
    "        print(val,end=' ')\n",
    "        val += 1\n",
    "        if val > 9:\n",
    "            val = 1\n",
    "    print()"
   ]
  },
  {
   "cell_type": "code",
   "execution_count": 18,
   "metadata": {},
   "outputs": [
    {
     "name": "stdout",
     "output_type": "stream",
     "text": [
      "9 8 7 6 \n",
      "5 4 3 2 \n",
      "1 9 8 7 \n",
      "6 5 4 3 \n"
     ]
    }
   ],
   "source": [
    "# reverse of the above program\n",
    "row = int(input('Enter rows: '))\n",
    "col = int(input(\"Enter columns: \"))\n",
    "val = 9\n",
    "for i in range(row):\n",
    "    for j in range(col):\n",
    "        print(val,end=' ')\n",
    "        val -= 1\n",
    "        if val < 1:\n",
    "            val = 9\n",
    "    print()"
   ]
  },
  {
   "cell_type": "code",
   "execution_count": null,
   "metadata": {},
   "outputs": [],
   "source": []
  }
 ],
 "metadata": {
  "kernelspec": {
   "display_name": "pyspiders_venv",
   "language": "python",
   "name": "python3"
  },
  "language_info": {
   "codemirror_mode": {
    "name": "ipython",
    "version": 3
   },
   "file_extension": ".py",
   "mimetype": "text/x-python",
   "name": "python",
   "nbconvert_exporter": "python",
   "pygments_lexer": "ipython3",
   "version": "3.11.7"
  }
 },
 "nbformat": 4,
 "nbformat_minor": 2
}
