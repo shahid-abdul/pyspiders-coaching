{
 "cells": [
  {
   "cell_type": "code",
   "execution_count": 42,
   "metadata": {},
   "outputs": [
    {
     "name": "stdout",
     "output_type": "stream",
     "text": [
      "10 20\n",
      "20 10\n",
      "20 10\n",
      "10 20\n"
     ]
    }
   ],
   "source": [
    "# swapping of 2 numbers\n",
    "\n",
    "a = int(input(\"Enter first number: \"))\n",
    "b = int(input(\"Enter second number: \"))\n",
    "print(a,b)\n",
    "a = a^b\n",
    "b = a^b\n",
    "a = a^b\n",
    "print(a,b)\n",
    "\n",
    "# print(a,b)\n",
    "# a = a+b\n",
    "# b = a-b\n",
    "# a = a-b\n",
    "# print(a,b)\n",
    "\n",
    "# print(a,b)\n",
    "# c = a\n",
    "# a = b\n",
    "# b = c\n",
    "# print(a,b)\n",
    "\n",
    "# print(a,b)\n",
    "# a = a*b\n",
    "# b = a//b\n",
    "# a = a//b\n",
    "# print(a,b)"
   ]
  },
  {
   "cell_type": "code",
   "execution_count": 10,
   "metadata": {},
   "outputs": [
    {
     "name": "stdout",
     "output_type": "stream",
     "text": [
      "10 is Even\n"
     ]
    }
   ],
   "source": [
    "# check the number is even or odd without using if and looping in a single line\n",
    "\n",
    "a = int(input(\"Enter a number: \"))\n",
    "\n",
    "print('{} is Even'.format(a)*(a%2 == 0) + '{} is Odd'.format(a)*(a%2 != 0))\n",
    "\n",
    "# print(['{} is Even'.format(a), '{} Odd'.format(a)][a%2])\n",
    "\n",
    "# if a%2 == 0:\n",
    "#     print(f'{a} is even..')\n",
    "# else:\n",
    "#     print(f'{a} is odd..')\n",
    "\n",
    "# if (a//2)*2 == a:\n",
    "#     print(f'{a} is even..')\n",
    "# else:\n",
    "#     print(f'{a} is odd..')\n",
    "\n",
    "# if a>>1<<1 == a:\n",
    "#     print('Even')\n",
    "# else:\n",
    "#     print('Odd')\n"
   ]
  },
  {
   "cell_type": "code",
   "execution_count": 22,
   "metadata": {},
   "outputs": [
    {
     "name": "stdout",
     "output_type": "stream",
     "text": [
      "abdul is not a polindrome\n"
     ]
    }
   ],
   "source": [
    "# program for polindrome\n",
    "\n",
    "str = input(\"Enter a string: \")\n",
    "l1 = list(str)\n",
    "l2 = list(str)\n",
    "l2.reverse()\n",
    "if l1 == l2:\n",
    "    print(f'{str} is polindrome')\n",
    "else:\n",
    "    print(f'{str} is not a polindrome')"
   ]
  },
  {
   "cell_type": "code",
   "execution_count": 38,
   "metadata": {},
   "outputs": [],
   "source": [
    "# Fibonacci series program\n",
    "# n = int(input(\"Enter the number: \"))\n",
    "\n",
    "# a = 0\n",
    "# b = 1\n",
    "# for i in range(n):\n",
    "#     print(a)\n",
    "#     a = b\n",
    "#     b = a+b"
   ]
  },
  {
   "cell_type": "code",
   "execution_count": 41,
   "metadata": {},
   "outputs": [
    {
     "name": "stdout",
     "output_type": "stream",
     "text": [
      "0 1 1 2 3 5 8 13 21 34 55 "
     ]
    }
   ],
   "source": [
    "num = int(input(\"Enter the number of Fibonacci numbers to generate: \"))\n",
    "\n",
    "a, b = 0, 1\n",
    "for i in range(num+1):\n",
    "    print(a,end=\" \")\n",
    "    a, b = b, a + b"
   ]
  },
  {
   "cell_type": "code",
   "execution_count": 59,
   "metadata": {},
   "outputs": [
    {
     "name": "stdout",
     "output_type": "stream",
     "text": [
      "10 20 30\n",
      "30 10 20\n"
     ]
    }
   ],
   "source": [
    "# swapping of 3 numbers\n",
    "a = int(input(\"Enter first number: \"))\n",
    "b = int(input(\"Enter second number: \"))\n",
    "c = int(input(\"Enter third number: \"))\n",
    "\n",
    "#print(f'Before swapping a:{a}, b:{b}, c:{c}')\n",
    "# a,b,c = c,a,b\n",
    "#print(f'After swapping a:{a}, b:{b}, c:{c}')\n",
    "\n",
    "#print(f'Before swapping a:{a}, b:{b}, c:{c}')\n",
    "# d = a\n",
    "# a = c\n",
    "# c = b\n",
    "# b = d\n",
    "#print(f'After swapping a:{a}, b:{b}, c:{c}')\n",
    "\n",
    "#print(f'Before swapping a:{a}, b:{b}, c:{c}')\n",
    "# a = a+b+c\n",
    "# b = a-(b+c)\n",
    "# c = a-(b+c)\n",
    "# a = a-(b+c)\n",
    "#print(f'After swapping a:{a}, b:{b}, c:{c}')\n",
    "\n",
    "#print(f'Before swapping a:{a}, b:{b}, c:{c}')\n",
    "# a = a*b*c\n",
    "# b = a//(b*c)\n",
    "# c = a//(b*c)\n",
    "# a = a//(b*c)\n",
    "#print(f'After swapping a:{a}, b:{b}, c:{c}')\n",
    "\n",
    "print(f'Before swapping a:{a}, b:{b}, c:{c}')\n",
    "a = a^b^c\n",
    "b = a^(b^c)\n",
    "c = a^(b^c)\n",
    "a = a^(b^c)\n",
    "print(f'After swapping a:{a}, b:{b}, c:{c}')"
   ]
  },
  {
   "cell_type": "markdown",
   "metadata": {},
   "source": [
    "## Pattern Programming"
   ]
  },
  {
   "cell_type": "code",
   "execution_count": 11,
   "metadata": {},
   "outputs": [
    {
     "name": "stdout",
     "output_type": "stream",
     "text": [
      "*\n",
      "*\n",
      "*\n"
     ]
    }
   ],
   "source": [
    "# controlling the no of rows\n",
    "rows = int(input('Enter rows: '))\n",
    "for i in range(rows):\n",
    "    print('*')"
   ]
  },
  {
   "cell_type": "code",
   "execution_count": 14,
   "metadata": {},
   "outputs": [
    {
     "name": "stdout",
     "output_type": "stream",
     "text": [
      "* * * \n",
      "* * * \n",
      "* * * \n"
     ]
    }
   ],
   "source": [
    "# controlling the no of columns\n",
    "row = int(input('Enter rows: '))\n",
    "col = int(input(\"Enter columns: \"))\n",
    "for i in range(row):\n",
    "    for j in range(col):\n",
    "        print('*',end=' ')\n",
    "    print()"
   ]
  },
  {
   "cell_type": "code",
   "execution_count": 16,
   "metadata": {},
   "outputs": [
    {
     "name": "stdout",
     "output_type": "stream",
     "text": [
      "1 2 3 4 \n",
      "5 6 7 8 \n",
      "9 1 2 3 \n",
      "4 5 6 7 \n"
     ]
    }
   ],
   "source": [
    "# controlling the values\n",
    "row = int(input('Enter rows: '))\n",
    "col = int(input(\"Enter columns: \"))\n",
    "val = 1\n",
    "for i in range(row):\n",
    "    for j in range(col):\n",
    "        print(val,end=' ')\n",
    "        val += 1\n",
    "    print()"
   ]
  },
  {
   "cell_type": "code",
   "execution_count": 17,
   "metadata": {},
   "outputs": [
    {
     "name": "stdout",
     "output_type": "stream",
     "text": [
      "1 2 3 \n",
      "4 5 6 \n",
      "7 8 9 \n"
     ]
    }
   ],
   "source": [
    "row = int(input('Enter rows: '))\n",
    "col = int(input(\"Enter columns: \"))\n",
    "val = 1\n",
    "for i in range(row):\n",
    "    for j in range(col):\n",
    "        print(val,end=' ')\n",
    "        val += 1\n",
    "        if val > 9:\n",
    "            val = 1\n",
    "    print()"
   ]
  },
  {
   "cell_type": "code",
   "execution_count": 18,
   "metadata": {},
   "outputs": [
    {
     "name": "stdout",
     "output_type": "stream",
     "text": [
      "9 8 7 6 \n",
      "5 4 3 2 \n",
      "1 9 8 7 \n",
      "6 5 4 3 \n"
     ]
    }
   ],
   "source": [
    "# reverse of the above program\n",
    "row = int(input('Enter rows: '))\n",
    "col = int(input(\"Enter columns: \"))\n",
    "val = 9\n",
    "for i in range(row):\n",
    "    for j in range(col):\n",
    "        print(val,end=' ')\n",
    "        val -= 1\n",
    "        if val < 1:\n",
    "            val = 9\n",
    "    print()"
   ]
  },
  {
   "cell_type": "code",
   "execution_count": 31,
   "metadata": {},
   "outputs": [
    {
     "name": "stdout",
     "output_type": "stream",
     "text": [
      "1 2 3 4 \n",
      "1 2 3 4 \n",
      "1 2 3 4 \n",
      "1 2 3 4 \n"
     ]
    }
   ],
   "source": [
    "# printing values upto n\n",
    "row = int(input('Enter rows: '))\n",
    "col = int(input(\"Enter columns: \"))\n",
    "n = 1\n",
    "for i in range(row):\n",
    "    for j in range(col):\n",
    "        print(n,end=\" \")\n",
    "        n += 1\n",
    "        if n == col+1:\n",
    "            n = 1\n",
    "    print()\n",
    "\n",
    "# n = int(input(\"Enter a val: \"))\n",
    "# for i in range(n):\n",
    "#     val = 1\n",
    "#     for j in range(n):\n",
    "#         print(val,end=\" \")\n",
    "#         val += 1\n",
    "#     print()\n",
    "\n",
    "# n = int(input(\"Enter n: \"))\n",
    "# for i in range(n):\n",
    "#     for j in range(1,n+1):\n",
    "#         print(j,end=\" \")\n",
    "#     print()\n",
    "\n",
    "# n = int(input(\"Enter n: \"))\n",
    "# for i in range(n):\n",
    "#     for j in range(n):\n",
    "#         print(j+1,end=\" \")\n",
    "#     print()"
   ]
  },
  {
   "cell_type": "code",
   "execution_count": 34,
   "metadata": {},
   "outputs": [
    {
     "name": "stdout",
     "output_type": "stream",
     "text": [
      "1 1 1 1 \n",
      "2 2 2 2 \n",
      "3 3 3 3 \n",
      "4 4 4 4 \n"
     ]
    }
   ],
   "source": [
    "row = int(input('Enter rows: '))\n",
    "col = int(input(\"Enter columns: \"))\n",
    "for i in range(row):\n",
    "    for j in range(col):\n",
    "        print(i+1,end=\" \")\n",
    "    print()"
   ]
  },
  {
   "cell_type": "code",
   "execution_count": 14,
   "metadata": {},
   "outputs": [
    {
     "name": "stdout",
     "output_type": "stream",
     "text": [
      " \n",
      "*  \n",
      "* *  \n",
      "* * *  \n",
      "* * * *  \n"
     ]
    }
   ],
   "source": [
    "# Triangle pattern\n",
    "\n",
    "row = int(input(\"Enter the rows: \"))\n",
    "\n",
    "for i in range(row):\n",
    "    print('* ' * i,end=' ')\n",
    "    print()"
   ]
  },
  {
   "cell_type": "code",
   "execution_count": 17,
   "metadata": {},
   "outputs": [
    {
     "name": "stdout",
     "output_type": "stream",
     "text": [
      "     \n",
      "    *\n",
      "   **\n",
      "  ***\n",
      " ****\n"
     ]
    }
   ],
   "source": [
    "# Equilateral Triangle\n",
    "\n",
    "row = int(input(\"Enter the rows: \"))\n",
    "\n",
    "for i in range(row+1):\n",
    "    print(\" \" * (row-i), end=\" \")\n",
    "    print(\"*\" * i)"
   ]
  },
  {
   "cell_type": "code",
   "execution_count": 36,
   "metadata": {},
   "outputs": [
    {
     "name": "stdout",
     "output_type": "stream",
     "text": [
      "A B C D \n",
      "A B C D \n",
      "A B C D \n",
      "A B C D \n"
     ]
    }
   ],
   "source": [
    "row = int(input('Enter rows: '))\n",
    "col = int(input(\"Enter columns: \"))\n",
    "for i in range(row):\n",
    "    for j in range(col):\n",
    "        print(chr(65+j),end=\" \")\n",
    "    print()\n",
    "\n",
    "# n = int(input(\"Enter a value: \"))\n",
    "# for i in range(n):\n",
    "#     val = 65\n",
    "#     for j in range(n):\n",
    "#         print(chr(val),end=\" \")\n",
    "#         val += 1\n",
    "#     print()"
   ]
  },
  {
   "cell_type": "code",
   "execution_count": 40,
   "metadata": {},
   "outputs": [
    {
     "name": "stdout",
     "output_type": "stream",
     "text": [
      "A A A A \n",
      "B B B B \n",
      "C C C C \n",
      "D D D D \n"
     ]
    }
   ],
   "source": [
    "row = int(input('Enter rows: '))\n",
    "col = int(input(\"Enter columns: \"))\n",
    "for i in range(row):\n",
    "    for j in range(col):\n",
    "        print(chr(65+i),end=\" \")\n",
    "    print()\n"
   ]
  },
  {
   "cell_type": "code",
   "execution_count": 42,
   "metadata": {},
   "outputs": [
    {
     "name": "stdout",
     "output_type": "stream",
     "text": [
      "A A A A \n",
      "B B B B \n",
      "C C C C \n",
      "D D D D \n"
     ]
    }
   ],
   "source": [
    "n = int(input(\"Enter a value: \"))\n",
    "val = 65\n",
    "for i in range(n):\n",
    "    for j in range(n):\n",
    "        print(chr(val),end=\" \")\n",
    "    print()\n",
    "    val += 1"
   ]
  },
  {
   "cell_type": "code",
   "execution_count": 49,
   "metadata": {},
   "outputs": [
    {
     "name": "stdout",
     "output_type": "stream",
     "text": [
      "* * * * * \n",
      "# # # # # \n",
      "* * * * * \n",
      "# # # # # \n",
      "* * * * * \n"
     ]
    }
   ],
   "source": [
    "n = int(input(\"Enter a value: \"))\n",
    "# for i in range(n):\n",
    "#     if i%2 == 0:\n",
    "#         print(n * '* ',end=\" \")\n",
    "#     else:\n",
    "#         print(n * '# ',end=\" \")\n",
    "#     print()\n",
    "\n",
    "for i in range(n):\n",
    "    for j in range(n):\n",
    "        if i%2 == 0:\n",
    "            print('*', end=\" \")\n",
    "        else:\n",
    "            print('#', end=\" \")\n",
    "    print()"
   ]
  },
  {
   "cell_type": "code",
   "execution_count": 58,
   "metadata": {},
   "outputs": [
    {
     "name": "stdout",
     "output_type": "stream",
     "text": [
      "* * * * * \n",
      "1 2 3 4 5 \n",
      "* * * * * \n",
      "6 7 8 9 10 \n",
      "* * * * * \n"
     ]
    }
   ],
   "source": [
    "n = int(input(\"Enter a value: \"))\n",
    "val = 1\n",
    "\n",
    "for i in range(n):\n",
    "    for j in range(n):\n",
    "        if i%2 == 0:\n",
    "            print('*', end=\" \")\n",
    "        else:\n",
    "            print(val, end=\" \")\n",
    "            val += 1\n",
    "            # if val == 9:\n",
    "            #     val = 0\n",
    "            \n",
    "    print()"
   ]
  },
  {
   "cell_type": "code",
   "execution_count": 63,
   "metadata": {},
   "outputs": [
    {
     "name": "stdout",
     "output_type": "stream",
     "text": [
      "* 1 * 2 * \n",
      "* 3 * 4 * \n",
      "* 5 * 6 * \n",
      "* 7 * 8 * \n",
      "* 9 * 10 * \n"
     ]
    }
   ],
   "source": [
    "n = int(input(\"Enter a value: \"))\n",
    "val = 1\n",
    "\n",
    "for i in range(n):\n",
    "    for j in range(n):\n",
    "        if j%2 == 0:\n",
    "            print('*', end=\" \")\n",
    "        else:\n",
    "            print(val, end=\" \")\n",
    "            val += 1\n",
    "            # if val == 9:\n",
    "            #     val = 0\n",
    "            \n",
    "    print()"
   ]
  },
  {
   "cell_type": "code",
   "execution_count": 68,
   "metadata": {},
   "outputs": [
    {
     "name": "stdout",
     "output_type": "stream",
     "text": [
      "* A * B * \n",
      "* C * D * \n",
      "* E * F * \n",
      "* G * H * \n",
      "* I * J * \n"
     ]
    }
   ],
   "source": [
    "n = int(input(\"Enter a value: \"))\n",
    "val = ord('A')\n",
    "\n",
    "for i in range(n):\n",
    "    for j in range(n):\n",
    "        if j%2 == 0:\n",
    "            print('*', end=\" \")\n",
    "        else:\n",
    "            print(chr(val), end=\" \")\n",
    "            val += 1\n",
    "    print()\n",
    "            "
   ]
  },
  {
   "cell_type": "code",
   "execution_count": 72,
   "metadata": {},
   "outputs": [
    {
     "name": "stdout",
     "output_type": "stream",
     "text": [
      "1 A 1 B 1 \n",
      "2 C 2 D 2 \n",
      "3 E 3 F 3 \n",
      "4 G 4 H 4 \n",
      "5 I 5 J 5 \n"
     ]
    }
   ],
   "source": [
    "n = int(input(\"Enter a value: \"))\n",
    "val = ord('A')\n",
    "\n",
    "for i in range(n):\n",
    "    for j in range(n):\n",
    "        if j%2 == 0:\n",
    "            print(i+1,end=\" \")\n",
    "        else:\n",
    "            print(chr(val), end=\" \")\n",
    "            val += 1\n",
    "    print()\n",
    "            "
   ]
  },
  {
   "cell_type": "code",
   "execution_count": 78,
   "metadata": {},
   "outputs": [
    {
     "name": "stdout",
     "output_type": "stream",
     "text": [
      "1 A 3 B 5 \n",
      "1 C 3 D 5 \n",
      "1 E 3 F 5 \n",
      "1 G 3 H 5 \n",
      "1 I 3 J 5 \n"
     ]
    }
   ],
   "source": [
    "n = int(input(\"Enter a value: \"))\n",
    "val = ord('A')\n",
    "\n",
    "# for i in range(n):\n",
    "#     sum=1\n",
    "#     for j in range(n):\n",
    "#         if j%2 == 0:\n",
    "#             print(sum,end=\" \")\n",
    "#             sum+=2\n",
    "#         else:\n",
    "#             print(chr(val), end=\" \")\n",
    "#             val += 1\n",
    "#     print()\n",
    "\n",
    "n = int(input(\"Enter a value: \"))\n",
    "val = ord('A')\n",
    "\n",
    "for i in range(n):\n",
    "    for j in range(n):\n",
    "        if j%2 == 0:\n",
    "            print(j+1,end=\" \")\n",
    "        else:\n",
    "            print(chr(val), end=\" \")\n",
    "            val += 1\n",
    "    print()"
   ]
  },
  {
   "cell_type": "code",
   "execution_count": 90,
   "metadata": {},
   "outputs": [
    {
     "name": "stdout",
     "output_type": "stream",
     "text": [
      "A B C D E \n",
      "1 2 3 4 5 \n",
      "F G H I J \n",
      "1 2 3 4 5 \n",
      "K L M N O \n"
     ]
    }
   ],
   "source": [
    "n = int(input(\"Enter a value: \"))\n",
    "val = ord('A')\n",
    "\n",
    "for i in range(n):\n",
    "    for j in range(n):\n",
    "        if i%2 == 0:\n",
    "            print(chr(val),end=\" \")\n",
    "            val += 1\n",
    "        else:\n",
    "            print(j+1,end=\" \")\n",
    "    print()"
   ]
  },
  {
   "cell_type": "code",
   "execution_count": 86,
   "metadata": {},
   "outputs": [
    {
     "name": "stdout",
     "output_type": "stream",
     "text": [
      "A A A A A \n",
      "A A A A A \n",
      "A A A A A \n",
      "A A A A A \n",
      "A A A A A \n"
     ]
    }
   ],
   "source": [
    "n = int(input('Enter n: '))\n",
    "for i in range(n):\n",
    "    for j in range(n):\n",
    "        print('A',end=\" \")\n",
    "    print()"
   ]
  },
  {
   "cell_type": "markdown",
   "metadata": {},
   "source": [
    "## Triangle Pattern"
   ]
  },
  {
   "cell_type": "code",
   "execution_count": 97,
   "metadata": {},
   "outputs": [
    {
     "name": "stdout",
     "output_type": "stream",
     "text": [
      "*       \n",
      "* *     \n",
      "* * *   \n",
      "* * * * \n"
     ]
    }
   ],
   "source": [
    "n = int(input(\"Enter n: \"))\n",
    "for i in range(n):\n",
    "    for j in range(n):\n",
    "        if i >= j:\n",
    "            print('*',end=\" \")\n",
    "        else:\n",
    "            print(' ',end=\" \")\n",
    "    print()"
   ]
  },
  {
   "cell_type": "code",
   "execution_count": 98,
   "metadata": {},
   "outputs": [
    {
     "name": "stdout",
     "output_type": "stream",
     "text": [
      "* * * * \n",
      "  * * * \n",
      "    * * \n",
      "      * \n"
     ]
    }
   ],
   "source": [
    "n = int(input(\"Enter n: \"))\n",
    "for i in range(n):\n",
    "    for j in range(n):\n",
    "        if i <= j:\n",
    "            print('*',end=\" \")\n",
    "        else:\n",
    "            print(' ',end=\" \")\n",
    "    print()"
   ]
  },
  {
   "cell_type": "code",
   "execution_count": 99,
   "metadata": {},
   "outputs": [
    {
     "name": "stdout",
     "output_type": "stream",
     "text": [
      "*       \n",
      "  *     \n",
      "    *   \n",
      "      * \n"
     ]
    }
   ],
   "source": [
    "n = int(input(\"Enter n: \"))\n",
    "for i in range(n):\n",
    "    for j in range(n):\n",
    "        if i == j:\n",
    "            print('*',end=\" \")\n",
    "        else:\n",
    "            print(' ',end=\" \")\n",
    "    print()"
   ]
  },
  {
   "cell_type": "code",
   "execution_count": 100,
   "metadata": {},
   "outputs": [
    {
     "name": "stdout",
     "output_type": "stream",
     "text": [
      "      * \n",
      "    * * \n",
      "  * * * \n",
      "* * * * \n"
     ]
    }
   ],
   "source": [
    "n = int(input(\"Enter n: \"))\n",
    "for i in range(n):\n",
    "    for j in range(n):\n",
    "        if i+j >= n-1:\n",
    "            print('*',end=\" \")\n",
    "        else:\n",
    "            print(' ',end=\" \")\n",
    "    print()"
   ]
  },
  {
   "cell_type": "code",
   "execution_count": 101,
   "metadata": {},
   "outputs": [
    {
     "name": "stdout",
     "output_type": "stream",
     "text": [
      "* * * * \n",
      "* * *   \n",
      "* *     \n",
      "*       \n"
     ]
    }
   ],
   "source": [
    "n = int(input(\"Enter n: \"))\n",
    "for i in range(n):\n",
    "    for j in range(n):\n",
    "        if i+j <= n-1:\n",
    "            print('*',end=\" \")\n",
    "        else:\n",
    "            print(' ',end=\" \")\n",
    "    print()"
   ]
  },
  {
   "cell_type": "code",
   "execution_count": 102,
   "metadata": {},
   "outputs": [
    {
     "name": "stdout",
     "output_type": "stream",
     "text": [
      "      * \n",
      "    *   \n",
      "  *     \n",
      "*       \n"
     ]
    }
   ],
   "source": [
    "n = int(input(\"Enter n: \"))\n",
    "for i in range(n):\n",
    "    for j in range(n):\n",
    "        if i+j == n-1:\n",
    "            print('*',end=\" \")\n",
    "        else:\n",
    "            print(' ',end=\" \")\n",
    "    print()"
   ]
  },
  {
   "cell_type": "code",
   "execution_count": 108,
   "metadata": {},
   "outputs": [
    {
     "name": "stdout",
     "output_type": "stream",
     "text": [
      "4 4 4 4 \n",
      "3 3 3 3 \n",
      "2 2 2 2 \n",
      "1 1 1 1 \n"
     ]
    }
   ],
   "source": [
    "n = int(input(\"Enter n: \"))\n",
    "val = n\n",
    "if val > 9:\n",
    "    val = 9\n",
    "for i in range(n):\n",
    "    for j in range(n):\n",
    "       print(val,end=\" \")\n",
    "    print()\n",
    "    val -= 1\n",
    "    if val < 1:\n",
    "        val = 9"
   ]
  },
  {
   "cell_type": "code",
   "execution_count": null,
   "metadata": {},
   "outputs": [],
   "source": []
  }
 ],
 "metadata": {
  "kernelspec": {
   "display_name": "pyspiders_venv",
   "language": "python",
   "name": "python3"
  },
  "language_info": {
   "codemirror_mode": {
    "name": "ipython",
    "version": 3
   },
   "file_extension": ".py",
   "mimetype": "text/x-python",
   "name": "python",
   "nbconvert_exporter": "python",
   "pygments_lexer": "ipython3",
   "version": "3.11.7"
  }
 },
 "nbformat": 4,
 "nbformat_minor": 2
}
